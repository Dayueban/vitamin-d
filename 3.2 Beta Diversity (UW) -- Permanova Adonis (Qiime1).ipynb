{
 "cells": [
  {
   "cell_type": "markdown",
   "metadata": {
    "collapsed": true
   },
   "source": [
    "### This notebook is to perform permanova tests on unweighted UniFrac (qiime1 environment)."
   ]
  },
  {
   "cell_type": "markdown",
   "metadata": {},
   "source": [
    "#### 1. Categorical Covariates (Permanova Test)"
   ]
  },
  {
   "cell_type": "code",
   "execution_count": null,
   "metadata": {
    "collapsed": true
   },
   "outputs": [],
   "source": [
    "# Race (p-value = 0.001 ***)\n",
    "compare_categories.py -i ../Qiime_updated/core-metrics-results/unweighted_unifrac_distance/distance-matrix.tsv \\\n",
    "-m ../data/mros_mapping_alpha.txt \\\n",
    "-c GIERACE \\\n",
    "-o ../beta-uw-results/unweighted-unifrac-GIERACE --method permanova"
   ]
  },
  {
   "cell_type": "code",
   "execution_count": null,
   "metadata": {
    "collapsed": true
   },
   "outputs": [],
   "source": [
    "# Site (p-value = 0.001 ***)\n",
    "compare_categories.py -i ../Qiime_updated/core-metrics-results/unweighted_unifrac_distance/distance-matrix.tsv \\\n",
    "-m ../data/mros_mapping_alpha.txt \\\n",
    "-c SITE \\\n",
    "-o ../beta-uw-results/unweighted-unifrac-SITE --method permanova "
   ]
  },
  {
   "cell_type": "code",
   "execution_count": null,
   "metadata": {},
   "outputs": [],
   "source": [
    "# TUDRAMT (0.023)\n",
    "compare_categories.py -i ../Qiime_updated/core-metrics-results/unweighted_unifrac_distance/distance-matrix.tsv \\\n",
    "-m ../data/mros_mapping_alpha.txt \\\n",
    "-c TUDRAMT \\\n",
    "-o ../beta-uw-results/unweighted-unifrac-TUDRAMT --method permanova "
   ]
  },
  {
   "cell_type": "code",
   "execution_count": null,
   "metadata": {},
   "outputs": [],
   "source": [
    "# TURSMOKE (0.07)\n",
    "compare_categories.py -i ../Qiime_updated/core-metrics-results/unweighted_unifrac_distance/distance-matrix.tsv \\\n",
    "-m ../data/mros_mapping_alpha.txt \\\n",
    "-c TURSMOKE \\\n",
    "-o ../beta-uw-results/unweighted-unifrac-TURSMOKE --method permanova "
   ]
  },
  {
   "cell_type": "code",
   "execution_count": null,
   "metadata": {
    "collapsed": true
   },
   "outputs": [],
   "source": [
    "# Antidepressant Use (p-value = 0.001 ***)\n",
    "compare_categories.py -i ../Qiime_updated/core-metrics-results/unweighted_unifrac_distance/distance-matrix.tsv \\\n",
    "-m ../data/mros_mapping_alpha.txt \\\n",
    "-c M1ADEPR \\\n",
    "-o ../beta-uw-results/unweighted-unifrac-M1ADEPR --method permanova"
   ]
  },
  {
   "cell_type": "code",
   "execution_count": null,
   "metadata": {},
   "outputs": [],
   "source": [
    "# M1VITMND (0.709)\n",
    "compare_categories.py -i ../Qiime_updated/core-metrics-results/unweighted_unifrac_distance/distance-matrix.tsv \\\n",
    "-m ../data/mros_mapping_alpha.txt \\\n",
    "-c M1VITMND \\\n",
    "-o ../beta-uw-results/unweighted-unifrac-M1VITMND --method permanova"
   ]
  },
  {
   "cell_type": "code",
   "execution_count": null,
   "metadata": {
    "collapsed": true
   },
   "outputs": [],
   "source": [
    "# Antibiotic Use (p-value = 0.001 ***)\n",
    "compare_categories.py -i ../Qiime_updated/core-metrics-results/unweighted_unifrac_distance/distance-matrix.tsv \\\n",
    "-m ../data/mros_mapping_alpha.txt \\\n",
    "-c M1ANTIB \\\n",
    "-o ../beta-uw-results/unweighted-unifrac-M1ANTIB --method permanova"
   ]
  },
  {
   "cell_type": "code",
   "execution_count": null,
   "metadata": {},
   "outputs": [],
   "source": [
    "# M1PROBI (p-value = 0.575)\n",
    "compare_categories.py -i ../Qiime_updated/core-metrics-results/unweighted_unifrac_distance/distance-matrix.tsv \\\n",
    "-m ../data/mros_mapping_alpha.txt \\\n",
    "-c M1PROBI \\\n",
    "-o ../beta-uw-results/unweighted-unifrac-M1PROBI --method permanova "
   ]
  },
  {
   "cell_type": "code",
   "execution_count": null,
   "metadata": {},
   "outputs": [],
   "source": [
    "# OHSEAS (p-value = 0.152)\n",
    "compare_categories.py -i ../Qiime_updated/core-metrics-results/unweighted_unifrac_distance/distance-matrix.tsv \\\n",
    "-m ../data/mros_mapping_alpha.txt \\\n",
    "-c OHSEAS \\\n",
    "-o ../beta-uw-results/unweighted-unifrac-OHSEAS --method permanova "
   ]
  },
  {
   "cell_type": "code",
   "execution_count": null,
   "metadata": {},
   "outputs": [],
   "source": [
    "# QLCOMP (p-value = 0.043)\n",
    "compare_categories.py -i ../Qiime_updated/core-metrics-results/unweighted_unifrac_distance/distance-matrix.tsv \\\n",
    "-m ../data/mros_mapping_alpha.txt \\\n",
    "-c QLCOMP \\\n",
    "-o ../beta-uw-results/unweighted-unifrac-QLCOMP --method permanova "
   ]
  },
  {
   "cell_type": "code",
   "execution_count": null,
   "metadata": {
    "collapsed": true
   },
   "outputs": [],
   "source": [
    "# VDstatus (p-value = 0.796)\n",
    "compare_categories.py -i ../Qiime_updated/core-metrics-results/unweighted_unifrac_distance/distance-matrix.tsv \\\n",
    "-m ../data/mros_mapping_alpha.txt \\\n",
    "-c VDstatus \\\n",
    "-o ../beta-uw-results/unweighted-unifrac-VDstatus --method permanova"
   ]
  },
  {
   "cell_type": "code",
   "execution_count": null,
   "metadata": {
    "collapsed": true
   },
   "outputs": [],
   "source": [
    "# Statin Use (p-value = 0.01 **)\n",
    "compare_categories.py -i ../Qiime_updated/core-metrics-results/unweighted_unifrac_distance/distance-matrix.tsv \\\n",
    "-m ../data/mros_mapping_alpha.txt \\\n",
    "-c M1STATIN \\\n",
    "-o ../beta-uw-results/unweighted-unifrac-M1STATIN --method permanova"
   ]
  },
  {
   "cell_type": "code",
   "execution_count": null,
   "metadata": {
    "collapsed": true
   },
   "outputs": [],
   "source": [
    "# Antihistamine (0.407)\n",
    "compare_categories.py -i ../Qiime_updated/core-metrics-results/unweighted_unifrac_distance/distance-matrix.tsv \\\n",
    "-m ../data/mros_mapping_alpha.txt \\\n",
    "-c Antihistamine \\\n",
    "-o ../beta-uw-results/unweighted-unifrac-Antihistamine --method permanova"
   ]
  },
  {
   "cell_type": "code",
   "execution_count": null,
   "metadata": {
    "collapsed": true
   },
   "outputs": [],
   "source": [
    "# Laxative (p-value = 0.076)\n",
    "compare_categories.py -i ../Qiime_updated/core-metrics-results/unweighted_unifrac_distance/distance-matrix.tsv \\\n",
    "-m ../data/mros_mapping_alpha.txt \\\n",
    "-c Laxative \\\n",
    "-o ../beta-uw-results/unweighted-unifrac-Laxative --method permanova"
   ]
  },
  {
   "cell_type": "code",
   "execution_count": 1,
   "metadata": {},
   "outputs": [
    {
     "data": {
      "text/plain": [
       "(array([ True,  True, False, False,  True, False,  True, False, False,\n",
       "        False, False,  True, False, False]),\n",
       " array([0.0035    , 0.0035    , 0.05366667, 0.11822222, 0.0035    ,\n",
       "        0.76353846, 0.0035    , 0.67083333, 0.2128    , 0.086     ,\n",
       "        0.796     , 0.028     , 0.518     , 0.11822222]),\n",
       " 0.0036571031913835705,\n",
       " 0.0035714285714285718)"
      ]
     },
     "execution_count": 1,
     "metadata": {},
     "output_type": "execute_result"
    }
   ],
   "source": [
    "from statsmodels.sandbox.stats.multicomp import multipletests\n",
    "multipletests([0.001,0.001, 0.023, 0.07, 0.001, 0.709, 0.001, 0.575, \n",
    "               0.152, 0.043, 0.796, 0.01, 0.407, 0.076],\n",
    "               alpha=0.05, method='fdr_bh') "
   ]
  },
  {
   "cell_type": "markdown",
   "metadata": {},
   "source": [
    "#### 2. Continous Covariates (Adonis Test)"
   ]
  },
  {
   "cell_type": "code",
   "execution_count": null,
   "metadata": {
    "collapsed": true
   },
   "outputs": [],
   "source": [
    "# Age (p-value = 0.03 *)\n",
    "compare_categories.py -i ../Qiime_updated/core-metrics-results/unweighted_unifrac_distance/distance-matrix.tsv \\\n",
    "-m ../data/mros_mapping_alpha.txt \\\n",
    "-c Age \\\n",
    "-o ../beta-uw-results/unweighted-unifrac-Age --method adonis"
   ]
  },
  {
   "cell_type": "code",
   "execution_count": null,
   "metadata": {},
   "outputs": [],
   "source": [
    "# BMI (p-value = 0.009 **)\n",
    "compare_categories.py -i ../Qiime_updated/core-metrics-results/unweighted_unifrac_distance/distance-matrix.tsv \\\n",
    "-m ../data/mros_mapping_alpha.txt \\\n",
    "-c BMI \\\n",
    "-o ../beta-uw-results/unweighted-unifrac-BMI --method adonis"
   ]
  },
  {
   "cell_type": "code",
   "execution_count": null,
   "metadata": {
    "collapsed": true
   },
   "outputs": [],
   "source": [
    "# Pascore (p-value = 0.014 *)\n",
    "compare_categories.py -i ../Qiime_updated/core-metrics-results/unweighted_unifrac_distance/distance-matrix.tsv \\\n",
    "-m ../data/mros_mapping_alpha.txt \\\n",
    "-c PASCORE \\\n",
    "-o ../beta-uw-results/unweighted-unifrac-PASCORE --method adonis"
   ]
  },
  {
   "cell_type": "markdown",
   "metadata": {},
   "source": [
    "#### filter metadata based on vitD measurements"
   ]
  },
  {
   "cell_type": "code",
   "execution_count": 20,
   "metadata": {},
   "outputs": [],
   "source": [
    "import numpy as np\n",
    "import pandas as pd"
   ]
  },
  {
   "cell_type": "code",
   "execution_count": 21,
   "metadata": {},
   "outputs": [],
   "source": [
    "mf = pd.read_csv('../data/mros_mapping_alpha.txt', sep='\\t', index_col='#SampleID')"
   ]
  },
  {
   "cell_type": "code",
   "execution_count": 22,
   "metadata": {},
   "outputs": [
    {
     "data": {
      "text/html": [
       "<div>\n",
       "<style scoped>\n",
       "    .dataframe tbody tr th:only-of-type {\n",
       "        vertical-align: middle;\n",
       "    }\n",
       "\n",
       "    .dataframe tbody tr th {\n",
       "        vertical-align: top;\n",
       "    }\n",
       "\n",
       "    .dataframe thead th {\n",
       "        text-align: right;\n",
       "    }\n",
       "</style>\n",
       "<table border=\"1\" class=\"dataframe\">\n",
       "  <thead>\n",
       "    <tr style=\"text-align: right;\">\n",
       "      <th></th>\n",
       "      <th>BarcodeSequence</th>\n",
       "      <th>LinkerPrimerSequence</th>\n",
       "      <th>Experiment_Design_Description</th>\n",
       "      <th>Library_Construction_Protocol</th>\n",
       "      <th>Linker</th>\n",
       "      <th>Platform</th>\n",
       "      <th>Center_Name</th>\n",
       "      <th>Center_Project</th>\n",
       "      <th>Instrument_Model</th>\n",
       "      <th>Title</th>\n",
       "      <th>...</th>\n",
       "      <th>M1STATIN</th>\n",
       "      <th>Antihistamine</th>\n",
       "      <th>Laxative</th>\n",
       "      <th>MIDATA</th>\n",
       "      <th>Rstarch_total</th>\n",
       "      <th>Rstarches_c</th>\n",
       "      <th>alpha_pd</th>\n",
       "      <th>observed_otus</th>\n",
       "      <th>shannon</th>\n",
       "      <th>pielou_e</th>\n",
       "    </tr>\n",
       "    <tr>\n",
       "      <th>#SampleID</th>\n",
       "      <th></th>\n",
       "      <th></th>\n",
       "      <th></th>\n",
       "      <th></th>\n",
       "      <th></th>\n",
       "      <th></th>\n",
       "      <th></th>\n",
       "      <th></th>\n",
       "      <th></th>\n",
       "      <th></th>\n",
       "      <th></th>\n",
       "      <th></th>\n",
       "      <th></th>\n",
       "      <th></th>\n",
       "      <th></th>\n",
       "      <th></th>\n",
       "      <th></th>\n",
       "      <th></th>\n",
       "      <th></th>\n",
       "      <th></th>\n",
       "      <th></th>\n",
       "    </tr>\n",
       "  </thead>\n",
       "  <tbody>\n",
       "    <tr>\n",
       "      <th>BI0023</th>\n",
       "      <td>TCTGGTGACATT</td>\n",
       "      <td>GGACTACHVGGGTWTCTAAT</td>\n",
       "      <td>16S stool samples sequenced for MrOS Vitamin D...</td>\n",
       "      <td>16S rRNA v4</td>\n",
       "      <td>GT</td>\n",
       "      <td>Illumina</td>\n",
       "      <td>BI</td>\n",
       "      <td>MrOS</td>\n",
       "      <td>Illumina MiSeq</td>\n",
       "      <td>MrOS_VitaminD</td>\n",
       "      <td>...</td>\n",
       "      <td>0: No</td>\n",
       "      <td>0:No</td>\n",
       "      <td>0:No</td>\n",
       "      <td>1: Yes</td>\n",
       "      <td>3.066569</td>\n",
       "      <td>0.0</td>\n",
       "      <td>27.771167</td>\n",
       "      <td>302</td>\n",
       "      <td>5.727116</td>\n",
       "      <td>0.695173</td>\n",
       "    </tr>\n",
       "    <tr>\n",
       "      <th>BI0056</th>\n",
       "      <td>CAAGCATGCCTA</td>\n",
       "      <td>GGACTACHVGGGTWTCTAAT</td>\n",
       "      <td>16S stool samples sequenced for MrOS Vitamin D...</td>\n",
       "      <td>16S rRNA v4</td>\n",
       "      <td>GT</td>\n",
       "      <td>Illumina</td>\n",
       "      <td>BI</td>\n",
       "      <td>MrOS</td>\n",
       "      <td>Illumina MiSeq</td>\n",
       "      <td>MrOS_VitaminD</td>\n",
       "      <td>...</td>\n",
       "      <td>0: No</td>\n",
       "      <td>0:No</td>\n",
       "      <td>0:No</td>\n",
       "      <td>1: Yes</td>\n",
       "      <td>3.038136</td>\n",
       "      <td>0.0</td>\n",
       "      <td>17.932659</td>\n",
       "      <td>173</td>\n",
       "      <td>3.888281</td>\n",
       "      <td>0.522996</td>\n",
       "    </tr>\n",
       "    <tr>\n",
       "      <th>BI0131</th>\n",
       "      <td>CTATTTGCGACA</td>\n",
       "      <td>GGACTACHVGGGTWTCTAAT</td>\n",
       "      <td>16S stool samples sequenced for MrOS Vitamin D...</td>\n",
       "      <td>16S rRNA v4</td>\n",
       "      <td>GT</td>\n",
       "      <td>Illumina</td>\n",
       "      <td>BI</td>\n",
       "      <td>MrOS</td>\n",
       "      <td>Illumina MiSeq</td>\n",
       "      <td>MrOS_VitaminD</td>\n",
       "      <td>...</td>\n",
       "      <td>1: Yes</td>\n",
       "      <td>0:No</td>\n",
       "      <td>0:No</td>\n",
       "      <td>1: Yes</td>\n",
       "      <td>2.840599</td>\n",
       "      <td>0.0</td>\n",
       "      <td>21.453663</td>\n",
       "      <td>223</td>\n",
       "      <td>4.050730</td>\n",
       "      <td>0.519264</td>\n",
       "    </tr>\n",
       "    <tr>\n",
       "      <th>BI0153</th>\n",
       "      <td>ATCGGCGTTACA</td>\n",
       "      <td>GGACTACHVGGGTWTCTAAT</td>\n",
       "      <td>16S stool samples sequenced for MrOS Vitamin D...</td>\n",
       "      <td>16S rRNA v4</td>\n",
       "      <td>GT</td>\n",
       "      <td>Illumina</td>\n",
       "      <td>BI</td>\n",
       "      <td>MrOS</td>\n",
       "      <td>Illumina MiSeq</td>\n",
       "      <td>MrOS_VitaminD</td>\n",
       "      <td>...</td>\n",
       "      <td>1: Yes</td>\n",
       "      <td>0:No</td>\n",
       "      <td>0:No</td>\n",
       "      <td>1: Yes</td>\n",
       "      <td>4.106798</td>\n",
       "      <td>0.0</td>\n",
       "      <td>18.469675</td>\n",
       "      <td>223</td>\n",
       "      <td>4.894253</td>\n",
       "      <td>0.627396</td>\n",
       "    </tr>\n",
       "    <tr>\n",
       "      <th>BI0215</th>\n",
       "      <td>CCTCTCGTGATC</td>\n",
       "      <td>GGACTACHVGGGTWTCTAAT</td>\n",
       "      <td>16S stool samples sequenced for MrOS Vitamin D...</td>\n",
       "      <td>16S rRNA v4</td>\n",
       "      <td>GT</td>\n",
       "      <td>Illumina</td>\n",
       "      <td>BI</td>\n",
       "      <td>MrOS</td>\n",
       "      <td>Illumina MiSeq</td>\n",
       "      <td>MrOS_VitaminD</td>\n",
       "      <td>...</td>\n",
       "      <td>0: No</td>\n",
       "      <td>0:No</td>\n",
       "      <td>0:No</td>\n",
       "      <td>1: Yes</td>\n",
       "      <td>0.971114</td>\n",
       "      <td>0.0</td>\n",
       "      <td>20.049827</td>\n",
       "      <td>222</td>\n",
       "      <td>5.295055</td>\n",
       "      <td>0.679340</td>\n",
       "    </tr>\n",
       "  </tbody>\n",
       "</table>\n",
       "<p>5 rows × 77 columns</p>\n",
       "</div>"
      ],
      "text/plain": [
       "          BarcodeSequence  LinkerPrimerSequence  \\\n",
       "#SampleID                                         \n",
       "BI0023       TCTGGTGACATT  GGACTACHVGGGTWTCTAAT   \n",
       "BI0056       CAAGCATGCCTA  GGACTACHVGGGTWTCTAAT   \n",
       "BI0131       CTATTTGCGACA  GGACTACHVGGGTWTCTAAT   \n",
       "BI0153       ATCGGCGTTACA  GGACTACHVGGGTWTCTAAT   \n",
       "BI0215       CCTCTCGTGATC  GGACTACHVGGGTWTCTAAT   \n",
       "\n",
       "                               Experiment_Design_Description  \\\n",
       "#SampleID                                                      \n",
       "BI0023     16S stool samples sequenced for MrOS Vitamin D...   \n",
       "BI0056     16S stool samples sequenced for MrOS Vitamin D...   \n",
       "BI0131     16S stool samples sequenced for MrOS Vitamin D...   \n",
       "BI0153     16S stool samples sequenced for MrOS Vitamin D...   \n",
       "BI0215     16S stool samples sequenced for MrOS Vitamin D...   \n",
       "\n",
       "          Library_Construction_Protocol Linker  Platform Center_Name  \\\n",
       "#SampleID                                                              \n",
       "BI0023                      16S rRNA v4     GT  Illumina          BI   \n",
       "BI0056                      16S rRNA v4     GT  Illumina          BI   \n",
       "BI0131                      16S rRNA v4     GT  Illumina          BI   \n",
       "BI0153                      16S rRNA v4     GT  Illumina          BI   \n",
       "BI0215                      16S rRNA v4     GT  Illumina          BI   \n",
       "\n",
       "          Center_Project Instrument_Model          Title    ...    M1STATIN  \\\n",
       "#SampleID                                                   ...               \n",
       "BI0023              MrOS   Illumina MiSeq  MrOS_VitaminD    ...       0: No   \n",
       "BI0056              MrOS   Illumina MiSeq  MrOS_VitaminD    ...       0: No   \n",
       "BI0131              MrOS   Illumina MiSeq  MrOS_VitaminD    ...      1: Yes   \n",
       "BI0153              MrOS   Illumina MiSeq  MrOS_VitaminD    ...      1: Yes   \n",
       "BI0215              MrOS   Illumina MiSeq  MrOS_VitaminD    ...       0: No   \n",
       "\n",
       "          Antihistamine Laxative  MIDATA Rstarch_total Rstarches_c   alpha_pd  \\\n",
       "#SampleID                                                                       \n",
       "BI0023             0:No     0:No  1: Yes      3.066569         0.0  27.771167   \n",
       "BI0056             0:No     0:No  1: Yes      3.038136         0.0  17.932659   \n",
       "BI0131             0:No     0:No  1: Yes      2.840599         0.0  21.453663   \n",
       "BI0153             0:No     0:No  1: Yes      4.106798         0.0  18.469675   \n",
       "BI0215             0:No     0:No  1: Yes      0.971114         0.0  20.049827   \n",
       "\n",
       "          observed_otus   shannon  pielou_e  \n",
       "#SampleID                                    \n",
       "BI0023              302  5.727116  0.695173  \n",
       "BI0056              173  3.888281  0.522996  \n",
       "BI0131              223  4.050730  0.519264  \n",
       "BI0153              223  4.894253  0.627396  \n",
       "BI0215              222  5.295055  0.679340  \n",
       "\n",
       "[5 rows x 77 columns]"
      ]
     },
     "execution_count": 22,
     "metadata": {},
     "output_type": "execute_result"
    }
   ],
   "source": [
    "mf.head()"
   ]
  },
  {
   "cell_type": "code",
   "execution_count": 23,
   "metadata": {},
   "outputs": [
    {
     "data": {
      "text/plain": [
       "(599, 77)"
      ]
     },
     "execution_count": 23,
     "metadata": {},
     "output_type": "execute_result"
    }
   ],
   "source": [
    "mf.shape"
   ]
  },
  {
   "cell_type": "code",
   "execution_count": 24,
   "metadata": {},
   "outputs": [],
   "source": [
    "mf = mf.loc[:, ('OHVD3', 'OHV1D3', 'OHV24D3', 'ratio_activation', 'ratio_catabolism')]"
   ]
  },
  {
   "cell_type": "code",
   "execution_count": 25,
   "metadata": {},
   "outputs": [
    {
     "data": {
      "text/html": [
       "<div>\n",
       "<style scoped>\n",
       "    .dataframe tbody tr th:only-of-type {\n",
       "        vertical-align: middle;\n",
       "    }\n",
       "\n",
       "    .dataframe tbody tr th {\n",
       "        vertical-align: top;\n",
       "    }\n",
       "\n",
       "    .dataframe thead th {\n",
       "        text-align: right;\n",
       "    }\n",
       "</style>\n",
       "<table border=\"1\" class=\"dataframe\">\n",
       "  <thead>\n",
       "    <tr style=\"text-align: right;\">\n",
       "      <th></th>\n",
       "      <th>OHVD3</th>\n",
       "      <th>OHV1D3</th>\n",
       "      <th>OHV24D3</th>\n",
       "      <th>ratio_activation</th>\n",
       "      <th>ratio_catabolism</th>\n",
       "    </tr>\n",
       "    <tr>\n",
       "      <th>#SampleID</th>\n",
       "      <th></th>\n",
       "      <th></th>\n",
       "      <th></th>\n",
       "      <th></th>\n",
       "      <th></th>\n",
       "    </tr>\n",
       "  </thead>\n",
       "  <tbody>\n",
       "    <tr>\n",
       "      <th>BI0023</th>\n",
       "      <td>25.8</td>\n",
       "      <td>0.0393</td>\n",
       "      <td>1.77</td>\n",
       "      <td>0.001523</td>\n",
       "      <td>0.068605</td>\n",
       "    </tr>\n",
       "    <tr>\n",
       "      <th>BI0056</th>\n",
       "      <td>39.2</td>\n",
       "      <td>0.0619</td>\n",
       "      <td>3.91</td>\n",
       "      <td>0.001579</td>\n",
       "      <td>0.099745</td>\n",
       "    </tr>\n",
       "    <tr>\n",
       "      <th>BI0131</th>\n",
       "      <td>23.1</td>\n",
       "      <td>0.0521</td>\n",
       "      <td>1.49</td>\n",
       "      <td>0.002255</td>\n",
       "      <td>0.064502</td>\n",
       "    </tr>\n",
       "    <tr>\n",
       "      <th>BI0153</th>\n",
       "      <td>27.3</td>\n",
       "      <td>0.0431</td>\n",
       "      <td>2.14</td>\n",
       "      <td>0.001579</td>\n",
       "      <td>0.078388</td>\n",
       "    </tr>\n",
       "    <tr>\n",
       "      <th>BI0215</th>\n",
       "      <td>33.0</td>\n",
       "      <td>0.0502</td>\n",
       "      <td>3.62</td>\n",
       "      <td>0.001521</td>\n",
       "      <td>0.109697</td>\n",
       "    </tr>\n",
       "  </tbody>\n",
       "</table>\n",
       "</div>"
      ],
      "text/plain": [
       "           OHVD3  OHV1D3  OHV24D3  ratio_activation  ratio_catabolism\n",
       "#SampleID                                                            \n",
       "BI0023      25.8  0.0393     1.77          0.001523          0.068605\n",
       "BI0056      39.2  0.0619     3.91          0.001579          0.099745\n",
       "BI0131      23.1  0.0521     1.49          0.002255          0.064502\n",
       "BI0153      27.3  0.0431     2.14          0.001579          0.078388\n",
       "BI0215      33.0  0.0502     3.62          0.001521          0.109697"
      ]
     },
     "execution_count": 25,
     "metadata": {},
     "output_type": "execute_result"
    }
   ],
   "source": [
    "mf.head()"
   ]
  },
  {
   "cell_type": "code",
   "execution_count": 26,
   "metadata": {},
   "outputs": [],
   "source": [
    "mf.dropna(axis=0, how='any', inplace=True)"
   ]
  },
  {
   "cell_type": "code",
   "execution_count": 27,
   "metadata": {},
   "outputs": [],
   "source": [
    "mf.to_csv('../data/mf.vitD.txt', sep='\\t', index_label='#SampleID')"
   ]
  },
  {
   "cell_type": "code",
   "execution_count": 19,
   "metadata": {},
   "outputs": [],
   "source": [
    "# filter the distance matrix based on filtered metadata file\n",
    "filter_distance_matrix.py -i ../Qiime_updated/core-metrics-results/unweighted_unifrac_distance/distance-matrix.tsv  \\\n",
    "-o ../data/unweighted.dm.filtered.txt \\\n",
    "--sample_id_fp ../data/mf.vitd.ids.txt"
   ]
  },
  {
   "cell_type": "code",
   "execution_count": null,
   "metadata": {
    "collapsed": true
   },
   "outputs": [],
   "source": [
    "# 1, 25 (p-value = 0.001 ***)\n",
    "compare_categories.py -i ../data/unweighted.dm.filtered.txt \\\n",
    "-m ../data/mf.vitD.txt \\\n",
    "-c OHV1D3 \\\n",
    "-o ../beta-uw-results/unweighted-unifrac-OHV1D3 --method adonis"
   ]
  },
  {
   "cell_type": "code",
   "execution_count": null,
   "metadata": {
    "collapsed": true
   },
   "outputs": [],
   "source": [
    "# 25 (p-value = 0.085)\n",
    "compare_categories.py -i ../data/unweighted.dm.filtered.txt \\\n",
    "-m ../data/mf.vitD.txt \\\n",
    "-c OHVD3 \\\n",
    "-o ../beta-uw-results/unweighted-unifrac-OHVD3 --method adonis"
   ]
  },
  {
   "cell_type": "code",
   "execution_count": null,
   "metadata": {
    "collapsed": true
   },
   "outputs": [],
   "source": [
    "# 24 (p-value = 0.002 **)\n",
    "compare_categories.py -i ../data/unweighted.dm.filtered.txt \\\n",
    "-m ../data/mf.vitD.txt \\\n",
    "-c OHV24D3 \\\n",
    "-o ../beta-uw-results/unweighted-unifrac-OHV24D3 --method adonis"
   ]
  },
  {
   "cell_type": "code",
   "execution_count": null,
   "metadata": {
    "collapsed": true
   },
   "outputs": [],
   "source": [
    "# ratio_act (p-value = 0.001 ***)\n",
    "compare_categories.py -i ../data/unweighted.dm.filtered.txt \\\n",
    "-m ../data/mf.vitD.txt \\\n",
    "-c ratio_activation \\\n",
    "-o ../beta-uw-results/unweighted-unifrac-ratio_activation --method adonis"
   ]
  },
  {
   "cell_type": "code",
   "execution_count": null,
   "metadata": {
    "collapsed": true
   },
   "outputs": [],
   "source": [
    "# ratio_cat (p-value = 0.001 ***)\n",
    "compare_categories.py -i ../data/unweighted.dm.filtered.txt \\\n",
    "-m ../data/mf.vitD.txt \\\n",
    "-c ratio_catabolism \\\n",
    "-o ../beta-uw-results/unweighted-unifrac-ratio_catabolism --method adonis"
   ]
  },
  {
   "cell_type": "code",
   "execution_count": 28,
   "metadata": {},
   "outputs": [
    {
     "data": {
      "text/plain": [
       "(array([ True,  True,  True,  True, False,  True,  True,  True]),\n",
       " array([0.03428571, 0.0144    , 0.01866667, 0.00266667, 0.085     ,\n",
       "        0.004     , 0.00266667, 0.00266667]),\n",
       " 0.006391150954545011,\n",
       " 0.00625)"
      ]
     },
     "execution_count": 28,
     "metadata": {},
     "output_type": "execute_result"
    }
   ],
   "source": [
    "from statsmodels.sandbox.stats.multicomp import multipletests\n",
    "multipletests([0.03, 0.009, 0.014, 0.001, 0.085, 0.002, 0.001, 0.001], alpha=0.05, method='fdr_bh') "
   ]
  }
 ],
 "metadata": {
  "kernelspec": {
   "display_name": "Python 3",
   "language": "python",
   "name": "python3"
  },
  "language_info": {
   "codemirror_mode": {
    "name": "ipython",
    "version": 3
   },
   "file_extension": ".py",
   "mimetype": "text/x-python",
   "name": "python",
   "nbconvert_exporter": "python",
   "pygments_lexer": "ipython3",
   "version": "3.5.5"
  }
 },
 "nbformat": 4,
 "nbformat_minor": 2
}
