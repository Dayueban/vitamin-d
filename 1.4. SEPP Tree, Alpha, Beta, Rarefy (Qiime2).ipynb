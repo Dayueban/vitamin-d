{
 "cells": [
  {
   "cell_type": "markdown",
   "metadata": {},
   "source": [
    "#### This notebook is to use Qiime2-2018.2 environment to construct phylogenetic tree, assign taxonomy, rarefaction, calculate alpha and beta diversities and generate PCoA plots"
   ]
  },
  {
   "cell_type": "code",
   "execution_count": null,
   "metadata": {},
   "outputs": [],
   "source": [
    "### 1. construct phylogenetic tree using SEPP\n",
    "qiime tools import \\\n",
    "--input-path mros_deblur_otus_unrare.biom \\\n",
    "--type 'FeatureTable[Frequency]' \\\n",
    "--source-format BIOMV210Format \\\n",
    "--output-path mros_deblur_otus_unrare.qza\n",
    "\n",
    "qiime tools import \\\n",
    "--input-path reference-hit.seqs.fa \\\n",
    "--output-path reference-hit.seqs.qza \\\n",
    "--type \"FeatureData[Sequence]\" \n",
    "\n",
    "qiime fragment-insertion sepp \\\n",
    "  --i-representative-sequences reference-hit.seqs.qza \\\n",
    "  --p-threads 8 \\\n",
    "  --o-tree insertion-tree.qza \\\n",
    "  --o-placements insertion-placements.qza "
   ]
  },
  {
   "cell_type": "code",
   "execution_count": null,
   "metadata": {},
   "outputs": [],
   "source": [
    "### 2. assign taxonomy\n",
    "qiime fragment-insertion classify-otus-experimental \\\n",
    "  --i-representative-sequences reference-hit.seqs.qza \\\n",
    "  --i-tree insertion-tree.qza \\\n",
    "  --i-reference-taxonomy taxonomy_gg99.qza \\\n",
    "  --o-classification taxonomy.qza\n",
    "\n",
    "# visualize taxonomy\n",
    "qiime metadata tabulate \\\n",
    "  --m-input-file taxonomy.qza \\\n",
    "  --o-visualization taxonomy.qzv\n",
    "\n",
    "# export taxonomy\n",
    "qiime tools export \\\n",
    "  taxonomy.qza \\\n",
    "  --output-dir deblur_taxonomy\n",
    "\n",
    "# taxonomy barplot \n",
    "qiime taxa barplot \\\n",
    "--i-table mros_deblur_otus_unrare.qza \\\n",
    "--i-taxonomy taxonomy.qza \\\n",
    "--m-metadata-file mapping_MrOS_add.txt \\\n",
    "--o-visualization taxonomy_barplot.qzv "
   ]
  },
  {
   "cell_type": "code",
   "execution_count": null,
   "metadata": {},
   "outputs": [],
   "source": [
    "### 3. rarefaction\n",
    "qiime diversity alpha-rarefaction \\\n",
    "--i-table mros_deblur_otus_unrare.qza \\\n",
    "--p-max-depth 9000 \\\n",
    "--i-phylogeny insertion-tree.qza \\\n",
    "--p-metrics faith_pd \\\n",
    "--p-metrics observed_otus \\\n",
    "--p-metrics chao1 \\\n",
    "--p-metrics simpson_e \\\n",
    "--p-metrics shannon \\\n",
    "--m-metadata-file mapping_MrOS_add.txt \\\n",
    "--p-min-depth 4000 \\\n",
    "--o-visualization rarefyCurve.qzv \n",
    "--output-dir rarefyCurve \n",
    "\n",
    "# rarefy at min reads 5807\n",
    "qiime feature-table rarefy \\\n",
    "--i-table mros_deblur_otus_unrare.qza \\\n",
    "--p-sampling-depth 5807 \\\n",
    "--o-rarefied-table mros_deblur_otus_rare5807.qza\n",
    "\n",
    "# convert qza to biom\n",
    "qiime tools export \\\n",
    "mros_deblur_otus_rare5807.qza \\\n",
    "--output-dir mros_rare5807_exp\n",
    "\n",
    "# convert biom to txt\n",
    "biom convert -i mros_rare5807_exp/feature-table.biom \\\n",
    "  -o mros_rare5807_exp/feature-table-rare5807.txt \\\n",
    "  --to-tsv"
   ]
  },
  {
   "cell_type": "code",
   "execution_count": null,
   "metadata": {},
   "outputs": [],
   "source": [
    "### 4. compute alpha and beta diversity \n",
    "qiime diversity core-metrics-phylogenetic \\\n",
    "  --i-phylogeny insertion-tree.qza \\\n",
    "  --i-table mros_deblur_otus_unrare.qza \\\n",
    "  --p-sampling-depth 5807 \\\n",
    "  --m-metadata-file mapping_MrOS_add.txt \\\n",
    "  --output-dir core-metrics-results\n",
    "\n",
    "# export    \n",
    "qiime tools export \\\n",
    "  core-metrics-results/faith_pd_vector.qza \\\n",
    "  --output-dir alpha_PD\n",
    "\n",
    "qiime tools export \\\n",
    "  core-metrics-results/shannon_vector.qza \\\n",
    "  --output-dir alpha_Shannon\n",
    "\n",
    "qiime tools export \\\n",
    "  core-metrics-results/observed_otus_vector.qza \\\n",
    "  --output-dir alpha_ObsOTU\n",
    "\n",
    "qiime tools export \\\n",
    "  core-metrics-results/evenness_vector.qza \\\n",
    "  --output-dir alpha_Evenness"
   ]
  },
  {
   "cell_type": "code",
   "execution_count": null,
   "metadata": {},
   "outputs": [],
   "source": [
    "### 5. PCoA plot of beta diversities\n",
    "qiime tools export \\\n",
    "  unweighted_unifrac_pcoa_results.qza \\\n",
    "  --output-dir unweighted_unifrac_pcoa_results\n",
    "\n",
    "qiime tools export \\\n",
    "  unweighted_unifrac_distance_matrix.qza \\\n",
    "  --output-dir unweighted_unifrac_distance\n",
    "\n",
    "qiime tools export \\\n",
    "  weighted_unifrac_pcoa_results.qza \\\n",
    "  --output-dir weighted_unifrac_pcoa_results\n",
    "\n",
    "qiime tools export \\\n",
    "  weighted_unifrac_distance_matrix.qza \\\n",
    "  --output-dir weighted_unifrac_distance"
   ]
  }
 ],
 "metadata": {
  "kernelspec": {
   "display_name": "Python 3",
   "language": "python",
   "name": "python3"
  },
  "language_info": {
   "codemirror_mode": {
    "name": "ipython",
    "version": 3
   },
   "file_extension": ".py",
   "mimetype": "text/x-python",
   "name": "python",
   "nbconvert_exporter": "python",
   "pygments_lexer": "ipython3",
   "version": "3.5.4"
  }
 },
 "nbformat": 4,
 "nbformat_minor": 2
}
