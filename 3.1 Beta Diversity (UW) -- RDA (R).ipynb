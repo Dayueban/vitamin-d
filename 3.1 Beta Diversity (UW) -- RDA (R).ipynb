{
 "cells": [
  {
   "cell_type": "markdown",
   "metadata": {},
   "source": [
    "#### This notebook is to perform Non-Redundant Analysis on beta diversities"
   ]
  },
  {
   "cell_type": "markdown",
   "metadata": {},
   "source": [
    "##### reference: Falony G, Joossens M, Vieira-Silva S, et al. Population-level analysis of gut microbiome variation. Science 2016;352:560-4"
   ]
  },
  {
   "cell_type": "code",
   "execution_count": 1,
   "metadata": {},
   "outputs": [
    {
     "name": "stderr",
     "output_type": "stream",
     "text": [
      "Loading required package: permute\n",
      "Loading required package: lattice\n",
      "This is vegan 2.4-5\n"
     ]
    }
   ],
   "source": [
    "library(vegan)"
   ]
  },
  {
   "cell_type": "code",
   "execution_count": 2,
   "metadata": {},
   "outputs": [
    {
     "data": {
      "text/html": [
       "<ol class=list-inline>\n",
       "\t<li>599</li>\n",
       "\t<li>78</li>\n",
       "</ol>\n"
      ],
      "text/latex": [
       "\\begin{enumerate*}\n",
       "\\item 599\n",
       "\\item 78\n",
       "\\end{enumerate*}\n"
      ],
      "text/markdown": [
       "1. 599\n",
       "2. 78\n",
       "\n",
       "\n"
      ],
      "text/plain": [
       "[1] 599  78"
      ]
     },
     "metadata": {},
     "output_type": "display_data"
    }
   ],
   "source": [
    "mf = read.csv('../data/mros_mapping_alpha.txt', stringsAsFactors=FALSE, sep='\\t')\n",
    "colnames(mf)[1] = 'SampleName'\n",
    "dim(mf)"
   ]
  },
  {
   "cell_type": "code",
   "execution_count": 3,
   "metadata": {},
   "outputs": [],
   "source": [
    "pc = read.csv('../Qiime_updated/core-metrics-results/unweighted_unifrac_pcoa_results/ordination.txt', \n",
    "              header=FALSE, sep='\\t', skip=9)"
   ]
  },
  {
   "cell_type": "code",
   "execution_count": 4,
   "metadata": {},
   "outputs": [
    {
     "data": {
      "text/html": [
       "<table>\n",
       "<thead><tr><th scope=col>V1</th><th scope=col>V2</th><th scope=col>V3</th><th scope=col>V4</th><th scope=col>V5</th><th scope=col>V6</th><th scope=col>V7</th><th scope=col>V8</th><th scope=col>V9</th><th scope=col>V10</th><th scope=col>⋯</th><th scope=col>V591</th><th scope=col>V592</th><th scope=col>V593</th><th scope=col>V594</th><th scope=col>V595</th><th scope=col>V596</th><th scope=col>V597</th><th scope=col>V598</th><th scope=col>V599</th><th scope=col>V600</th></tr></thead>\n",
       "<tbody>\n",
       "\t<tr><td>MN1696       </td><td> 0.22055575  </td><td> 0.039516069 </td><td>-0.033642823 </td><td>-0.029507619 </td><td> 0.02980334  </td><td>-0.04421325  </td><td>-0.104424065 </td><td>-0.051319227 </td><td> 0.06594653  </td><td>⋯            </td><td> 1.731998e-02</td><td> 0.0078587969</td><td>-0.0118407558</td><td>-0.0013041115</td><td>-0.0075271347</td><td> 0.0046440078</td><td> 0.0136591465</td><td> 6.164245e-03</td><td> 0.0001958224</td><td>0            </td></tr>\n",
       "\t<tr><td>PI4923       </td><td> 0.02210685  </td><td>-0.090194772 </td><td>-0.062452171 </td><td> 0.008983519 </td><td>-0.02970516  </td><td>-0.01624674  </td><td>-0.069043514 </td><td>-0.006215346 </td><td>-0.03967541  </td><td>⋯            </td><td> 9.633686e-04</td><td> 0.0033207770</td><td> 0.0017443716</td><td>-0.0016476774</td><td> 0.0014601150</td><td> 0.0005947216</td><td> 0.0031895829</td><td>-1.926862e-03</td><td>-0.0004882334</td><td>0            </td></tr>\n",
       "\t<tr><td>PA3754       </td><td>-0.22199487  </td><td> 0.029730908 </td><td> 0.071006684 </td><td> 0.092432372 </td><td> 0.01409292  </td><td>-0.01957842  </td><td> 0.017294177 </td><td>-0.026599511 </td><td>-0.01520805  </td><td>⋯            </td><td> 1.075612e-03</td><td>-0.0044317302</td><td> 0.0064329064</td><td>-0.0001938224</td><td> 0.0010719998</td><td> 0.0010608101</td><td> 0.0011932344</td><td>-2.755721e-03</td><td> 0.0008010110</td><td>0            </td></tr>\n",
       "\t<tr><td>PI4717       </td><td> 0.13494045  </td><td>-0.004423283 </td><td> 0.007870077 </td><td> 0.127694244 </td><td> 0.14021309  </td><td>-0.03583492  </td><td> 0.112186941 </td><td> 0.016129320 </td><td>-0.01343741  </td><td>⋯            </td><td>-5.246718e-05</td><td> 0.0000877613</td><td>-0.0021821368</td><td>-0.0012723607</td><td> 0.0026182410</td><td>-0.0030961344</td><td> 0.0002473224</td><td> 8.210881e-05</td><td>-0.0015490954</td><td>0            </td></tr>\n",
       "\t<tr><td>PA3960       </td><td> 0.23015659  </td><td>-0.024075513 </td><td> 0.038499089 </td><td> 0.006796306 </td><td> 0.11020717  </td><td> 0.01472405  </td><td> 0.001169064 </td><td>-0.003821731 </td><td>-0.07139770  </td><td>⋯            </td><td>-2.629668e-04</td><td> 0.0023834425</td><td> 0.0042287696</td><td> 0.0010056882</td><td>-0.0014142942</td><td>-0.0001194349</td><td>-0.0028035506</td><td>-1.706766e-03</td><td> 0.0014917356</td><td>0            </td></tr>\n",
       "\t<tr><td>MN1521       </td><td>-0.17116366  </td><td> 0.046229289 </td><td>-0.026568718 </td><td>-0.049177630 </td><td>-0.02157268  </td><td> 0.02355343  </td><td>-0.026676563 </td><td>-0.010484168 </td><td>-0.02494576  </td><td>⋯            </td><td>-5.102223e-04</td><td> 0.0011027192</td><td>-0.0009526921</td><td>-0.0019863712</td><td> 0.0002958471</td><td>-0.0004761844</td><td>-0.0003051521</td><td> 3.946676e-04</td><td>-0.0017079613</td><td>0            </td></tr>\n",
       "</tbody>\n",
       "</table>\n"
      ],
      "text/latex": [
       "\\begin{tabular}{r|llllllllllllllllllllllllllllllllllllllllllllllllllllllllllllllllllllllllllllllllllllllllllllllllllllllllllllllllllllllllllllllllllllllllllllllllllllllllllllllllllllllllllllllllllllllllllllllllllllllllllllllllllllllllllllllllllllllllllllllllllllllllllllllllllllllllllllllllllllllllllllllllllllllllllllllllllllllllllllllllllllllllllllllllllllllllllllllllllllllllllllllllllllllllllllllllllllllllllllllllllllllllllllllllllllllllllllllllllllllllllllllllllllllllllllllllllllllllllllllllllllllllllllllllllllllllllllllllllllllllllllllllllllllllllllllllllllllllllllllllllllllllllllllllllllllllllllllllllllllll}\n",
       " V1 & V2 & V3 & V4 & V5 & V6 & V7 & V8 & V9 & V10 & ⋯ & V591 & V592 & V593 & V594 & V595 & V596 & V597 & V598 & V599 & V600\\\\\n",
       "\\hline\n",
       "\t MN1696        &  0.22055575   &  0.039516069  & -0.033642823  & -0.029507619  &  0.02980334   & -0.04421325   & -0.104424065  & -0.051319227  &  0.06594653   & ⋯             &  1.731998e-02 &  0.0078587969 & -0.0118407558 & -0.0013041115 & -0.0075271347 &  0.0046440078 &  0.0136591465 &  6.164245e-03 &  0.0001958224 & 0            \\\\\n",
       "\t PI4923        &  0.02210685   & -0.090194772  & -0.062452171  &  0.008983519  & -0.02970516   & -0.01624674   & -0.069043514  & -0.006215346  & -0.03967541   & ⋯             &  9.633686e-04 &  0.0033207770 &  0.0017443716 & -0.0016476774 &  0.0014601150 &  0.0005947216 &  0.0031895829 & -1.926862e-03 & -0.0004882334 & 0            \\\\\n",
       "\t PA3754        & -0.22199487   &  0.029730908  &  0.071006684  &  0.092432372  &  0.01409292   & -0.01957842   &  0.017294177  & -0.026599511  & -0.01520805   & ⋯             &  1.075612e-03 & -0.0044317302 &  0.0064329064 & -0.0001938224 &  0.0010719998 &  0.0010608101 &  0.0011932344 & -2.755721e-03 &  0.0008010110 & 0            \\\\\n",
       "\t PI4717        &  0.13494045   & -0.004423283  &  0.007870077  &  0.127694244  &  0.14021309   & -0.03583492   &  0.112186941  &  0.016129320  & -0.01343741   & ⋯             & -5.246718e-05 &  0.0000877613 & -0.0021821368 & -0.0012723607 &  0.0026182410 & -0.0030961344 &  0.0002473224 &  8.210881e-05 & -0.0015490954 & 0            \\\\\n",
       "\t PA3960        &  0.23015659   & -0.024075513  &  0.038499089  &  0.006796306  &  0.11020717   &  0.01472405   &  0.001169064  & -0.003821731  & -0.07139770   & ⋯             & -2.629668e-04 &  0.0023834425 &  0.0042287696 &  0.0010056882 & -0.0014142942 & -0.0001194349 & -0.0028035506 & -1.706766e-03 &  0.0014917356 & 0            \\\\\n",
       "\t MN1521        & -0.17116366   &  0.046229289  & -0.026568718  & -0.049177630  & -0.02157268   &  0.02355343   & -0.026676563  & -0.010484168  & -0.02494576   & ⋯             & -5.102223e-04 &  0.0011027192 & -0.0009526921 & -0.0019863712 &  0.0002958471 & -0.0004761844 & -0.0003051521 &  3.946676e-04 & -0.0017079613 & 0            \\\\\n",
       "\\end{tabular}\n"
      ],
      "text/markdown": [
       "\n",
       "V1 | V2 | V3 | V4 | V5 | V6 | V7 | V8 | V9 | V10 | ⋯ | V591 | V592 | V593 | V594 | V595 | V596 | V597 | V598 | V599 | V600 | \n",
       "|---|---|---|---|---|---|\n",
       "| MN1696        |  0.22055575   |  0.039516069  | -0.033642823  | -0.029507619  |  0.02980334   | -0.04421325   | -0.104424065  | -0.051319227  |  0.06594653   | ⋯             |  1.731998e-02 |  0.0078587969 | -0.0118407558 | -0.0013041115 | -0.0075271347 |  0.0046440078 |  0.0136591465 |  6.164245e-03 |  0.0001958224 | 0             | \n",
       "| PI4923        |  0.02210685   | -0.090194772  | -0.062452171  |  0.008983519  | -0.02970516   | -0.01624674   | -0.069043514  | -0.006215346  | -0.03967541   | ⋯             |  9.633686e-04 |  0.0033207770 |  0.0017443716 | -0.0016476774 |  0.0014601150 |  0.0005947216 |  0.0031895829 | -1.926862e-03 | -0.0004882334 | 0             | \n",
       "| PA3754        | -0.22199487   |  0.029730908  |  0.071006684  |  0.092432372  |  0.01409292   | -0.01957842   |  0.017294177  | -0.026599511  | -0.01520805   | ⋯             |  1.075612e-03 | -0.0044317302 |  0.0064329064 | -0.0001938224 |  0.0010719998 |  0.0010608101 |  0.0011932344 | -2.755721e-03 |  0.0008010110 | 0             | \n",
       "| PI4717        |  0.13494045   | -0.004423283  |  0.007870077  |  0.127694244  |  0.14021309   | -0.03583492   |  0.112186941  |  0.016129320  | -0.01343741   | ⋯             | -5.246718e-05 |  0.0000877613 | -0.0021821368 | -0.0012723607 |  0.0026182410 | -0.0030961344 |  0.0002473224 |  8.210881e-05 | -0.0015490954 | 0             | \n",
       "| PA3960        |  0.23015659   | -0.024075513  |  0.038499089  |  0.006796306  |  0.11020717   |  0.01472405   |  0.001169064  | -0.003821731  | -0.07139770   | ⋯             | -2.629668e-04 |  0.0023834425 |  0.0042287696 |  0.0010056882 | -0.0014142942 | -0.0001194349 | -0.0028035506 | -1.706766e-03 |  0.0014917356 | 0             | \n",
       "| MN1521        | -0.17116366   |  0.046229289  | -0.026568718  | -0.049177630  | -0.02157268   |  0.02355343   | -0.026676563  | -0.010484168  | -0.02494576   | ⋯             | -5.102223e-04 |  0.0011027192 | -0.0009526921 | -0.0019863712 |  0.0002958471 | -0.0004761844 | -0.0003051521 |  3.946676e-04 | -0.0017079613 | 0             | \n",
       "\n",
       "\n"
      ],
      "text/plain": [
       "  V1     V2          V3           V4           V5           V6         \n",
       "1 MN1696  0.22055575  0.039516069 -0.033642823 -0.029507619  0.02980334\n",
       "2 PI4923  0.02210685 -0.090194772 -0.062452171  0.008983519 -0.02970516\n",
       "3 PA3754 -0.22199487  0.029730908  0.071006684  0.092432372  0.01409292\n",
       "4 PI4717  0.13494045 -0.004423283  0.007870077  0.127694244  0.14021309\n",
       "5 PA3960  0.23015659 -0.024075513  0.038499089  0.006796306  0.11020717\n",
       "6 MN1521 -0.17116366  0.046229289 -0.026568718 -0.049177630 -0.02157268\n",
       "  V7          V8           V9           V10         ⋯ V591         \n",
       "1 -0.04421325 -0.104424065 -0.051319227  0.06594653 ⋯  1.731998e-02\n",
       "2 -0.01624674 -0.069043514 -0.006215346 -0.03967541 ⋯  9.633686e-04\n",
       "3 -0.01957842  0.017294177 -0.026599511 -0.01520805 ⋯  1.075612e-03\n",
       "4 -0.03583492  0.112186941  0.016129320 -0.01343741 ⋯ -5.246718e-05\n",
       "5  0.01472405  0.001169064 -0.003821731 -0.07139770 ⋯ -2.629668e-04\n",
       "6  0.02355343 -0.026676563 -0.010484168 -0.02494576 ⋯ -5.102223e-04\n",
       "  V592          V593          V594          V595          V596         \n",
       "1  0.0078587969 -0.0118407558 -0.0013041115 -0.0075271347  0.0046440078\n",
       "2  0.0033207770  0.0017443716 -0.0016476774  0.0014601150  0.0005947216\n",
       "3 -0.0044317302  0.0064329064 -0.0001938224  0.0010719998  0.0010608101\n",
       "4  0.0000877613 -0.0021821368 -0.0012723607  0.0026182410 -0.0030961344\n",
       "5  0.0023834425  0.0042287696  0.0010056882 -0.0014142942 -0.0001194349\n",
       "6  0.0011027192 -0.0009526921 -0.0019863712  0.0002958471 -0.0004761844\n",
       "  V597          V598          V599          V600\n",
       "1  0.0136591465  6.164245e-03  0.0001958224 0   \n",
       "2  0.0031895829 -1.926862e-03 -0.0004882334 0   \n",
       "3  0.0011932344 -2.755721e-03  0.0008010110 0   \n",
       "4  0.0002473224  8.210881e-05 -0.0015490954 0   \n",
       "5 -0.0028035506 -1.706766e-03  0.0014917356 0   \n",
       "6 -0.0003051521  3.946676e-04 -0.0017079613 0   "
      ]
     },
     "metadata": {},
     "output_type": "display_data"
    }
   ],
   "source": [
    "head(pc)"
   ]
  },
  {
   "cell_type": "code",
   "execution_count": 5,
   "metadata": {},
   "outputs": [
    {
     "data": {
      "text/html": [
       "<ol class=list-inline>\n",
       "\t<li>601</li>\n",
       "\t<li>11</li>\n",
       "</ol>\n"
      ],
      "text/latex": [
       "\\begin{enumerate*}\n",
       "\\item 601\n",
       "\\item 11\n",
       "\\end{enumerate*}\n"
      ],
      "text/markdown": [
       "1. 601\n",
       "2. 11\n",
       "\n",
       "\n"
      ],
      "text/plain": [
       "[1] 601  11"
      ]
     },
     "metadata": {},
     "output_type": "display_data"
    },
    {
     "data": {
      "text/html": [
       "<table>\n",
       "<thead><tr><th scope=col>SampleName</th><th scope=col>PC1</th><th scope=col>PC2</th><th scope=col>PC3</th><th scope=col>PC4</th><th scope=col>PC5</th><th scope=col>PC6</th><th scope=col>PC7</th><th scope=col>PC8</th><th scope=col>PC9</th><th scope=col>PC10</th></tr></thead>\n",
       "<tbody>\n",
       "\t<tr><td>MN1696      </td><td> 0.22055575 </td><td> 0.039516069</td><td>-0.033642823</td><td>-0.029507619</td><td> 0.02980334 </td><td>-0.04421325 </td><td>-0.104424065</td><td>-0.051319227</td><td> 0.06594653 </td><td>-0.06020906 </td></tr>\n",
       "\t<tr><td>PI4923      </td><td> 0.02210685 </td><td>-0.090194772</td><td>-0.062452171</td><td> 0.008983519</td><td>-0.02970516 </td><td>-0.01624674 </td><td>-0.069043514</td><td>-0.006215346</td><td>-0.03967541 </td><td> 0.03902584 </td></tr>\n",
       "\t<tr><td>PA3754      </td><td>-0.22199487 </td><td> 0.029730908</td><td> 0.071006684</td><td> 0.092432372</td><td> 0.01409292 </td><td>-0.01957842 </td><td> 0.017294177</td><td>-0.026599511</td><td>-0.01520805 </td><td>-0.06454737 </td></tr>\n",
       "\t<tr><td>PI4717      </td><td> 0.13494045 </td><td>-0.004423283</td><td> 0.007870077</td><td> 0.127694244</td><td> 0.14021309 </td><td>-0.03583492 </td><td> 0.112186941</td><td> 0.016129320</td><td>-0.01343741 </td><td> 0.01545550 </td></tr>\n",
       "\t<tr><td>PA3960      </td><td> 0.23015659 </td><td>-0.024075513</td><td> 0.038499089</td><td> 0.006796306</td><td> 0.11020717 </td><td> 0.01472405 </td><td> 0.001169064</td><td>-0.003821731</td><td>-0.07139770 </td><td> 0.03598755 </td></tr>\n",
       "\t<tr><td>MN1521      </td><td>-0.17116366 </td><td> 0.046229289</td><td>-0.026568718</td><td>-0.049177630</td><td>-0.02157268 </td><td> 0.02355343 </td><td>-0.026676563</td><td>-0.010484168</td><td>-0.02494576 </td><td> 0.02340178 </td></tr>\n",
       "</tbody>\n",
       "</table>\n"
      ],
      "text/latex": [
       "\\begin{tabular}{r|lllllllllll}\n",
       " SampleName & PC1 & PC2 & PC3 & PC4 & PC5 & PC6 & PC7 & PC8 & PC9 & PC10\\\\\n",
       "\\hline\n",
       "\t MN1696       &  0.22055575  &  0.039516069 & -0.033642823 & -0.029507619 &  0.02980334  & -0.04421325  & -0.104424065 & -0.051319227 &  0.06594653  & -0.06020906 \\\\\n",
       "\t PI4923       &  0.02210685  & -0.090194772 & -0.062452171 &  0.008983519 & -0.02970516  & -0.01624674  & -0.069043514 & -0.006215346 & -0.03967541  &  0.03902584 \\\\\n",
       "\t PA3754       & -0.22199487  &  0.029730908 &  0.071006684 &  0.092432372 &  0.01409292  & -0.01957842  &  0.017294177 & -0.026599511 & -0.01520805  & -0.06454737 \\\\\n",
       "\t PI4717       &  0.13494045  & -0.004423283 &  0.007870077 &  0.127694244 &  0.14021309  & -0.03583492  &  0.112186941 &  0.016129320 & -0.01343741  &  0.01545550 \\\\\n",
       "\t PA3960       &  0.23015659  & -0.024075513 &  0.038499089 &  0.006796306 &  0.11020717  &  0.01472405  &  0.001169064 & -0.003821731 & -0.07139770  &  0.03598755 \\\\\n",
       "\t MN1521       & -0.17116366  &  0.046229289 & -0.026568718 & -0.049177630 & -0.02157268  &  0.02355343  & -0.026676563 & -0.010484168 & -0.02494576  &  0.02340178 \\\\\n",
       "\\end{tabular}\n"
      ],
      "text/markdown": [
       "\n",
       "SampleName | PC1 | PC2 | PC3 | PC4 | PC5 | PC6 | PC7 | PC8 | PC9 | PC10 | \n",
       "|---|---|---|---|---|---|\n",
       "| MN1696       |  0.22055575  |  0.039516069 | -0.033642823 | -0.029507619 |  0.02980334  | -0.04421325  | -0.104424065 | -0.051319227 |  0.06594653  | -0.06020906  | \n",
       "| PI4923       |  0.02210685  | -0.090194772 | -0.062452171 |  0.008983519 | -0.02970516  | -0.01624674  | -0.069043514 | -0.006215346 | -0.03967541  |  0.03902584  | \n",
       "| PA3754       | -0.22199487  |  0.029730908 |  0.071006684 |  0.092432372 |  0.01409292  | -0.01957842  |  0.017294177 | -0.026599511 | -0.01520805  | -0.06454737  | \n",
       "| PI4717       |  0.13494045  | -0.004423283 |  0.007870077 |  0.127694244 |  0.14021309  | -0.03583492  |  0.112186941 |  0.016129320 | -0.01343741  |  0.01545550  | \n",
       "| PA3960       |  0.23015659  | -0.024075513 |  0.038499089 |  0.006796306 |  0.11020717  |  0.01472405  |  0.001169064 | -0.003821731 | -0.07139770  |  0.03598755  | \n",
       "| MN1521       | -0.17116366  |  0.046229289 | -0.026568718 | -0.049177630 | -0.02157268  |  0.02355343  | -0.026676563 | -0.010484168 | -0.02494576  |  0.02340178  | \n",
       "\n",
       "\n"
      ],
      "text/plain": [
       "  SampleName PC1         PC2          PC3          PC4          PC5        \n",
       "1 MN1696      0.22055575  0.039516069 -0.033642823 -0.029507619  0.02980334\n",
       "2 PI4923      0.02210685 -0.090194772 -0.062452171  0.008983519 -0.02970516\n",
       "3 PA3754     -0.22199487  0.029730908  0.071006684  0.092432372  0.01409292\n",
       "4 PI4717      0.13494045 -0.004423283  0.007870077  0.127694244  0.14021309\n",
       "5 PA3960      0.23015659 -0.024075513  0.038499089  0.006796306  0.11020717\n",
       "6 MN1521     -0.17116366  0.046229289 -0.026568718 -0.049177630 -0.02157268\n",
       "  PC6         PC7          PC8          PC9         PC10       \n",
       "1 -0.04421325 -0.104424065 -0.051319227  0.06594653 -0.06020906\n",
       "2 -0.01624674 -0.069043514 -0.006215346 -0.03967541  0.03902584\n",
       "3 -0.01957842  0.017294177 -0.026599511 -0.01520805 -0.06454737\n",
       "4 -0.03583492  0.112186941  0.016129320 -0.01343741  0.01545550\n",
       "5  0.01472405  0.001169064 -0.003821731 -0.07139770  0.03598755\n",
       "6  0.02355343 -0.026676563 -0.010484168 -0.02494576  0.02340178"
      ]
     },
     "metadata": {},
     "output_type": "display_data"
    }
   ],
   "source": [
    "pc_10 = pc[, 1:11]\n",
    "colnames(pc_10) = c('SampleName', 'PC1', 'PC2', 'PC3', 'PC4', 'PC5', 'PC6', 'PC7', 'PC8', 'PC9', 'PC10')\n",
    "dim(pc_10)\n",
    "head(pc_10)"
   ]
  },
  {
   "cell_type": "code",
   "execution_count": 6,
   "metadata": {},
   "outputs": [
    {
     "data": {
      "text/html": [
       "<table>\n",
       "<thead><tr><th scope=col>SampleName</th><th scope=col>BarcodeSequence</th><th scope=col>LinkerPrimerSequence</th><th scope=col>Experiment_Design_Description</th><th scope=col>Library_Construction_Protocol</th><th scope=col>Linker</th><th scope=col>Platform</th><th scope=col>Center_Name</th><th scope=col>Center_Project</th><th scope=col>Instrument_Model</th><th scope=col>⋯</th><th scope=col>M1STATIN</th><th scope=col>Antihistamine</th><th scope=col>Laxative</th><th scope=col>MIDATA</th><th scope=col>Rstarch_total</th><th scope=col>Rstarches_c</th><th scope=col>alpha_pd</th><th scope=col>observed_otus</th><th scope=col>shannon</th><th scope=col>pielou_e</th></tr></thead>\n",
       "<tbody>\n",
       "\t<tr><td>BI0023                                              </td><td>TCTGGTGACATT                                        </td><td>GGACTACHVGGGTWTCTAAT                                </td><td>16S stool samples sequenced for MrOS Vitamin D study</td><td>16S rRNA v4                                         </td><td>GT                                                  </td><td>Illumina                                            </td><td>BI                                                  </td><td>MrOS                                                </td><td>Illumina MiSeq                                      </td><td>⋯                                                   </td><td>0: No                                               </td><td>0:No                                                </td><td>0:No                                                </td><td>1: Yes                                              </td><td>3.066569                                            </td><td>0                                                   </td><td>27.77117                                            </td><td>302                                                 </td><td>5.727116                                            </td><td>0.6951729                                           </td></tr>\n",
       "\t<tr><td>BI0056                                              </td><td>CAAGCATGCCTA                                        </td><td>GGACTACHVGGGTWTCTAAT                                </td><td>16S stool samples sequenced for MrOS Vitamin D study</td><td>16S rRNA v4                                         </td><td>GT                                                  </td><td>Illumina                                            </td><td>BI                                                  </td><td>MrOS                                                </td><td>Illumina MiSeq                                      </td><td>⋯                                                   </td><td>0: No                                               </td><td>0:No                                                </td><td>0:No                                                </td><td>1: Yes                                              </td><td>3.038136                                            </td><td>0                                                   </td><td>17.93266                                            </td><td>173                                                 </td><td>3.888281                                            </td><td>0.5229960                                           </td></tr>\n",
       "\t<tr><td>BI0131                                              </td><td>CTATTTGCGACA                                        </td><td>GGACTACHVGGGTWTCTAAT                                </td><td>16S stool samples sequenced for MrOS Vitamin D study</td><td>16S rRNA v4                                         </td><td>GT                                                  </td><td>Illumina                                            </td><td>BI                                                  </td><td>MrOS                                                </td><td>Illumina MiSeq                                      </td><td>⋯                                                   </td><td>1: Yes                                              </td><td>0:No                                                </td><td>0:No                                                </td><td>1: Yes                                              </td><td>2.840599                                            </td><td>0                                                   </td><td>21.45366                                            </td><td>223                                                 </td><td>4.050730                                            </td><td>0.5192645                                           </td></tr>\n",
       "\t<tr><td>BI0153                                              </td><td>ATCGGCGTTACA                                        </td><td>GGACTACHVGGGTWTCTAAT                                </td><td>16S stool samples sequenced for MrOS Vitamin D study</td><td>16S rRNA v4                                         </td><td>GT                                                  </td><td>Illumina                                            </td><td>BI                                                  </td><td>MrOS                                                </td><td>Illumina MiSeq                                      </td><td>⋯                                                   </td><td>1: Yes                                              </td><td>0:No                                                </td><td>0:No                                                </td><td>1: Yes                                              </td><td>4.106798                                            </td><td>0                                                   </td><td>18.46968                                            </td><td>223                                                 </td><td>4.894253                                            </td><td>0.6273959                                           </td></tr>\n",
       "\t<tr><td>BI0215                                              </td><td>CCTCTCGTGATC                                        </td><td>GGACTACHVGGGTWTCTAAT                                </td><td>16S stool samples sequenced for MrOS Vitamin D study</td><td>16S rRNA v4                                         </td><td>GT                                                  </td><td>Illumina                                            </td><td>BI                                                  </td><td>MrOS                                                </td><td>Illumina MiSeq                                      </td><td>⋯                                                   </td><td>0: No                                               </td><td>0:No                                                </td><td>0:No                                                </td><td>1: Yes                                              </td><td>0.971114                                            </td><td>0                                                   </td><td>20.04983                                            </td><td>222                                                 </td><td>5.295055                                            </td><td>0.6793396                                           </td></tr>\n",
       "\t<tr><td>BI0353                                              </td><td>TGCCATCTGAAT                                        </td><td>GGACTACHVGGGTWTCTAAT                                </td><td>16S stool samples sequenced for MrOS Vitamin D study</td><td>16S rRNA v4                                         </td><td>GT                                                  </td><td>Illumina                                            </td><td>BI                                                  </td><td>MrOS                                                </td><td>Illumina MiSeq                                      </td><td>⋯                                                   </td><td>1: Yes                                              </td><td>0:No                                                </td><td>0:No                                                </td><td>1: Yes                                              </td><td>4.813568                                            </td><td>0                                                   </td><td>13.75183                                            </td><td>155                                                 </td><td>4.213016                                            </td><td>0.5790192                                           </td></tr>\n",
       "</tbody>\n",
       "</table>\n"
      ],
      "text/latex": [
       "\\begin{tabular}{r|llllllllllllllllllllllllllllllllllllllllllllllllllllllllllllllllllllllllllllll}\n",
       " SampleName & BarcodeSequence & LinkerPrimerSequence & Experiment\\_Design\\_Description & Library\\_Construction\\_Protocol & Linker & Platform & Center\\_Name & Center\\_Project & Instrument\\_Model & ⋯ & M1STATIN & Antihistamine & Laxative & MIDATA & Rstarch\\_total & Rstarches\\_c & alpha\\_pd & observed\\_otus & shannon & pielou\\_e\\\\\n",
       "\\hline\n",
       "\t BI0023                                               & TCTGGTGACATT                                         & GGACTACHVGGGTWTCTAAT                                 & 16S stool samples sequenced for MrOS Vitamin D study & 16S rRNA v4                                          & GT                                                   & Illumina                                             & BI                                                   & MrOS                                                 & Illumina MiSeq                                       & ⋯                                                    & 0: No                                                & 0:No                                                 & 0:No                                                 & 1: Yes                                               & 3.066569                                             & 0                                                    & 27.77117                                             & 302                                                  & 5.727116                                             & 0.6951729                                           \\\\\n",
       "\t BI0056                                               & CAAGCATGCCTA                                         & GGACTACHVGGGTWTCTAAT                                 & 16S stool samples sequenced for MrOS Vitamin D study & 16S rRNA v4                                          & GT                                                   & Illumina                                             & BI                                                   & MrOS                                                 & Illumina MiSeq                                       & ⋯                                                    & 0: No                                                & 0:No                                                 & 0:No                                                 & 1: Yes                                               & 3.038136                                             & 0                                                    & 17.93266                                             & 173                                                  & 3.888281                                             & 0.5229960                                           \\\\\n",
       "\t BI0131                                               & CTATTTGCGACA                                         & GGACTACHVGGGTWTCTAAT                                 & 16S stool samples sequenced for MrOS Vitamin D study & 16S rRNA v4                                          & GT                                                   & Illumina                                             & BI                                                   & MrOS                                                 & Illumina MiSeq                                       & ⋯                                                    & 1: Yes                                               & 0:No                                                 & 0:No                                                 & 1: Yes                                               & 2.840599                                             & 0                                                    & 21.45366                                             & 223                                                  & 4.050730                                             & 0.5192645                                           \\\\\n",
       "\t BI0153                                               & ATCGGCGTTACA                                         & GGACTACHVGGGTWTCTAAT                                 & 16S stool samples sequenced for MrOS Vitamin D study & 16S rRNA v4                                          & GT                                                   & Illumina                                             & BI                                                   & MrOS                                                 & Illumina MiSeq                                       & ⋯                                                    & 1: Yes                                               & 0:No                                                 & 0:No                                                 & 1: Yes                                               & 4.106798                                             & 0                                                    & 18.46968                                             & 223                                                  & 4.894253                                             & 0.6273959                                           \\\\\n",
       "\t BI0215                                               & CCTCTCGTGATC                                         & GGACTACHVGGGTWTCTAAT                                 & 16S stool samples sequenced for MrOS Vitamin D study & 16S rRNA v4                                          & GT                                                   & Illumina                                             & BI                                                   & MrOS                                                 & Illumina MiSeq                                       & ⋯                                                    & 0: No                                                & 0:No                                                 & 0:No                                                 & 1: Yes                                               & 0.971114                                             & 0                                                    & 20.04983                                             & 222                                                  & 5.295055                                             & 0.6793396                                           \\\\\n",
       "\t BI0353                                               & TGCCATCTGAAT                                         & GGACTACHVGGGTWTCTAAT                                 & 16S stool samples sequenced for MrOS Vitamin D study & 16S rRNA v4                                          & GT                                                   & Illumina                                             & BI                                                   & MrOS                                                 & Illumina MiSeq                                       & ⋯                                                    & 1: Yes                                               & 0:No                                                 & 0:No                                                 & 1: Yes                                               & 4.813568                                             & 0                                                    & 13.75183                                             & 155                                                  & 4.213016                                             & 0.5790192                                           \\\\\n",
       "\\end{tabular}\n"
      ],
      "text/markdown": [
       "\n",
       "SampleName | BarcodeSequence | LinkerPrimerSequence | Experiment_Design_Description | Library_Construction_Protocol | Linker | Platform | Center_Name | Center_Project | Instrument_Model | ⋯ | M1STATIN | Antihistamine | Laxative | MIDATA | Rstarch_total | Rstarches_c | alpha_pd | observed_otus | shannon | pielou_e | \n",
       "|---|---|---|---|---|---|\n",
       "| BI0023                                               | TCTGGTGACATT                                         | GGACTACHVGGGTWTCTAAT                                 | 16S stool samples sequenced for MrOS Vitamin D study | 16S rRNA v4                                          | GT                                                   | Illumina                                             | BI                                                   | MrOS                                                 | Illumina MiSeq                                       | ⋯                                                    | 0: No                                                | 0:No                                                 | 0:No                                                 | 1: Yes                                               | 3.066569                                             | 0                                                    | 27.77117                                             | 302                                                  | 5.727116                                             | 0.6951729                                            | \n",
       "| BI0056                                               | CAAGCATGCCTA                                         | GGACTACHVGGGTWTCTAAT                                 | 16S stool samples sequenced for MrOS Vitamin D study | 16S rRNA v4                                          | GT                                                   | Illumina                                             | BI                                                   | MrOS                                                 | Illumina MiSeq                                       | ⋯                                                    | 0: No                                                | 0:No                                                 | 0:No                                                 | 1: Yes                                               | 3.038136                                             | 0                                                    | 17.93266                                             | 173                                                  | 3.888281                                             | 0.5229960                                            | \n",
       "| BI0131                                               | CTATTTGCGACA                                         | GGACTACHVGGGTWTCTAAT                                 | 16S stool samples sequenced for MrOS Vitamin D study | 16S rRNA v4                                          | GT                                                   | Illumina                                             | BI                                                   | MrOS                                                 | Illumina MiSeq                                       | ⋯                                                    | 1: Yes                                               | 0:No                                                 | 0:No                                                 | 1: Yes                                               | 2.840599                                             | 0                                                    | 21.45366                                             | 223                                                  | 4.050730                                             | 0.5192645                                            | \n",
       "| BI0153                                               | ATCGGCGTTACA                                         | GGACTACHVGGGTWTCTAAT                                 | 16S stool samples sequenced for MrOS Vitamin D study | 16S rRNA v4                                          | GT                                                   | Illumina                                             | BI                                                   | MrOS                                                 | Illumina MiSeq                                       | ⋯                                                    | 1: Yes                                               | 0:No                                                 | 0:No                                                 | 1: Yes                                               | 4.106798                                             | 0                                                    | 18.46968                                             | 223                                                  | 4.894253                                             | 0.6273959                                            | \n",
       "| BI0215                                               | CCTCTCGTGATC                                         | GGACTACHVGGGTWTCTAAT                                 | 16S stool samples sequenced for MrOS Vitamin D study | 16S rRNA v4                                          | GT                                                   | Illumina                                             | BI                                                   | MrOS                                                 | Illumina MiSeq                                       | ⋯                                                    | 0: No                                                | 0:No                                                 | 0:No                                                 | 1: Yes                                               | 0.971114                                             | 0                                                    | 20.04983                                             | 222                                                  | 5.295055                                             | 0.6793396                                            | \n",
       "| BI0353                                               | TGCCATCTGAAT                                         | GGACTACHVGGGTWTCTAAT                                 | 16S stool samples sequenced for MrOS Vitamin D study | 16S rRNA v4                                          | GT                                                   | Illumina                                             | BI                                                   | MrOS                                                 | Illumina MiSeq                                       | ⋯                                                    | 1: Yes                                               | 0:No                                                 | 0:No                                                 | 1: Yes                                               | 4.813568                                             | 0                                                    | 13.75183                                             | 155                                                  | 4.213016                                             | 0.5790192                                            | \n",
       "\n",
       "\n"
      ],
      "text/plain": [
       "  SampleName BarcodeSequence LinkerPrimerSequence\n",
       "1 BI0023     TCTGGTGACATT    GGACTACHVGGGTWTCTAAT\n",
       "2 BI0056     CAAGCATGCCTA    GGACTACHVGGGTWTCTAAT\n",
       "3 BI0131     CTATTTGCGACA    GGACTACHVGGGTWTCTAAT\n",
       "4 BI0153     ATCGGCGTTACA    GGACTACHVGGGTWTCTAAT\n",
       "5 BI0215     CCTCTCGTGATC    GGACTACHVGGGTWTCTAAT\n",
       "6 BI0353     TGCCATCTGAAT    GGACTACHVGGGTWTCTAAT\n",
       "  Experiment_Design_Description                       \n",
       "1 16S stool samples sequenced for MrOS Vitamin D study\n",
       "2 16S stool samples sequenced for MrOS Vitamin D study\n",
       "3 16S stool samples sequenced for MrOS Vitamin D study\n",
       "4 16S stool samples sequenced for MrOS Vitamin D study\n",
       "5 16S stool samples sequenced for MrOS Vitamin D study\n",
       "6 16S stool samples sequenced for MrOS Vitamin D study\n",
       "  Library_Construction_Protocol Linker Platform Center_Name Center_Project\n",
       "1 16S rRNA v4                   GT     Illumina BI          MrOS          \n",
       "2 16S rRNA v4                   GT     Illumina BI          MrOS          \n",
       "3 16S rRNA v4                   GT     Illumina BI          MrOS          \n",
       "4 16S rRNA v4                   GT     Illumina BI          MrOS          \n",
       "5 16S rRNA v4                   GT     Illumina BI          MrOS          \n",
       "6 16S rRNA v4                   GT     Illumina BI          MrOS          \n",
       "  Instrument_Model ⋯ M1STATIN Antihistamine Laxative MIDATA Rstarch_total\n",
       "1 Illumina MiSeq   ⋯ 0: No    0:No          0:No     1: Yes 3.066569     \n",
       "2 Illumina MiSeq   ⋯ 0: No    0:No          0:No     1: Yes 3.038136     \n",
       "3 Illumina MiSeq   ⋯ 1: Yes   0:No          0:No     1: Yes 2.840599     \n",
       "4 Illumina MiSeq   ⋯ 1: Yes   0:No          0:No     1: Yes 4.106798     \n",
       "5 Illumina MiSeq   ⋯ 0: No    0:No          0:No     1: Yes 0.971114     \n",
       "6 Illumina MiSeq   ⋯ 1: Yes   0:No          0:No     1: Yes 4.813568     \n",
       "  Rstarches_c alpha_pd observed_otus shannon  pielou_e \n",
       "1 0           27.77117 302           5.727116 0.6951729\n",
       "2 0           17.93266 173           3.888281 0.5229960\n",
       "3 0           21.45366 223           4.050730 0.5192645\n",
       "4 0           18.46968 223           4.894253 0.6273959\n",
       "5 0           20.04983 222           5.295055 0.6793396\n",
       "6 0           13.75183 155           4.213016 0.5790192"
      ]
     },
     "metadata": {},
     "output_type": "display_data"
    }
   ],
   "source": [
    "head(mf)"
   ]
  },
  {
   "cell_type": "code",
   "execution_count": 7,
   "metadata": {},
   "outputs": [
    {
     "data": {
      "text/html": [
       "<ol class=list-inline>\n",
       "\t<li>599</li>\n",
       "\t<li>88</li>\n",
       "</ol>\n"
      ],
      "text/latex": [
       "\\begin{enumerate*}\n",
       "\\item 599\n",
       "\\item 88\n",
       "\\end{enumerate*}\n"
      ],
      "text/markdown": [
       "1. 599\n",
       "2. 88\n",
       "\n",
       "\n"
      ],
      "text/plain": [
       "[1] 599  88"
      ]
     },
     "metadata": {},
     "output_type": "display_data"
    }
   ],
   "source": [
    "dat = merge(mf, pc_10, by='SampleName')\n",
    "dim(dat)"
   ]
  },
  {
   "cell_type": "code",
   "execution_count": 8,
   "metadata": {},
   "outputs": [
    {
     "data": {
      "text/html": [
       "<table>\n",
       "<thead><tr><th scope=col>SampleName</th><th scope=col>BarcodeSequence</th><th scope=col>LinkerPrimerSequence</th><th scope=col>Experiment_Design_Description</th><th scope=col>Library_Construction_Protocol</th><th scope=col>Linker</th><th scope=col>Platform</th><th scope=col>Center_Name</th><th scope=col>Center_Project</th><th scope=col>Instrument_Model</th><th scope=col>⋯</th><th scope=col>PC1</th><th scope=col>PC2</th><th scope=col>PC3</th><th scope=col>PC4</th><th scope=col>PC5</th><th scope=col>PC6</th><th scope=col>PC7</th><th scope=col>PC8</th><th scope=col>PC9</th><th scope=col>PC10</th></tr></thead>\n",
       "<tbody>\n",
       "\t<tr><td>BI0023                                              </td><td>TCTGGTGACATT                                        </td><td>GGACTACHVGGGTWTCTAAT                                </td><td>16S stool samples sequenced for MrOS Vitamin D study</td><td>16S rRNA v4                                         </td><td>GT                                                  </td><td>Illumina                                            </td><td>BI                                                  </td><td>MrOS                                                </td><td>Illumina MiSeq                                      </td><td>⋯                                                   </td><td>-0.182419965                                        </td><td> 0.03244704                                         </td><td> 0.017103878                                        </td><td> 0.0026633668                                       </td><td> 0.01867073                                         </td><td> 0.006386597                                        </td><td>-0.007694438                                        </td><td>-0.01643466                                         </td><td> 0.017548138                                        </td><td>-0.036995079                                        </td></tr>\n",
       "\t<tr><td>BI0056                                              </td><td>CAAGCATGCCTA                                        </td><td>GGACTACHVGGGTWTCTAAT                                </td><td>16S stool samples sequenced for MrOS Vitamin D study</td><td>16S rRNA v4                                         </td><td>GT                                                  </td><td>Illumina                                            </td><td>BI                                                  </td><td>MrOS                                                </td><td>Illumina MiSeq                                      </td><td>⋯                                                   </td><td> 0.067189060                                        </td><td>-0.06734805                                         </td><td>-0.026115733                                        </td><td>-0.0006725392                                       </td><td> 0.01139566                                         </td><td> 0.098768773                                        </td><td> 0.016512428                                        </td><td> 0.08688633                                         </td><td>-0.020694245                                        </td><td> 0.029536266                                        </td></tr>\n",
       "\t<tr><td>BI0131                                              </td><td>CTATTTGCGACA                                        </td><td>GGACTACHVGGGTWTCTAAT                                </td><td>16S stool samples sequenced for MrOS Vitamin D study</td><td>16S rRNA v4                                         </td><td>GT                                                  </td><td>Illumina                                            </td><td>BI                                                  </td><td>MrOS                                                </td><td>Illumina MiSeq                                      </td><td>⋯                                                   </td><td>-0.111184971                                        </td><td>-0.04643827                                         </td><td>-0.004327682                                        </td><td> 0.0974403021                                       </td><td>-0.08058773                                         </td><td> 0.021058176                                        </td><td>-0.042956137                                        </td><td> 0.03827265                                         </td><td>-0.037229404                                        </td><td>-0.010152724                                        </td></tr>\n",
       "\t<tr><td>BI0153                                              </td><td>ATCGGCGTTACA                                        </td><td>GGACTACHVGGGTWTCTAAT                                </td><td>16S stool samples sequenced for MrOS Vitamin D study</td><td>16S rRNA v4                                         </td><td>GT                                                  </td><td>Illumina                                            </td><td>BI                                                  </td><td>MrOS                                                </td><td>Illumina MiSeq                                      </td><td>⋯                                                   </td><td> 0.097999259                                        </td><td>-0.09336066                                         </td><td>-0.071756501                                        </td><td>-0.0835898160                                       </td><td> 0.05305107                                         </td><td> 0.050041440                                        </td><td>-0.002324747                                        </td><td>-0.02010602                                         </td><td> 0.036231161                                        </td><td>-0.004417871                                        </td></tr>\n",
       "\t<tr><td>BI0215                                              </td><td>CCTCTCGTGATC                                        </td><td>GGACTACHVGGGTWTCTAAT                                </td><td>16S stool samples sequenced for MrOS Vitamin D study</td><td>16S rRNA v4                                         </td><td>GT                                                  </td><td>Illumina                                            </td><td>BI                                                  </td><td>MrOS                                                </td><td>Illumina MiSeq                                      </td><td>⋯                                                   </td><td> 0.002442947                                        </td><td>-0.07331568                                         </td><td>-0.110321389                                        </td><td>-0.0046953357                                       </td><td> 0.03923230                                         </td><td>-0.011564637                                        </td><td>-0.076558892                                        </td><td>-0.02143262                                         </td><td> 0.004434227                                        </td><td> 0.038072632                                        </td></tr>\n",
       "\t<tr><td>BI0353                                              </td><td>TGCCATCTGAAT                                        </td><td>GGACTACHVGGGTWTCTAAT                                </td><td>16S stool samples sequenced for MrOS Vitamin D study</td><td>16S rRNA v4                                         </td><td>GT                                                  </td><td>Illumina                                            </td><td>BI                                                  </td><td>MrOS                                                </td><td>Illumina MiSeq                                      </td><td>⋯                                                   </td><td> 0.174613245                                        </td><td>-0.07619972                                         </td><td>-0.019615397                                        </td><td>-0.0424383862                                       </td><td>-0.14655369                                         </td><td> 0.032315761                                        </td><td> 0.083495446                                        </td><td>-0.05848061                                         </td><td> 0.063405369                                        </td><td> 0.120107415                                        </td></tr>\n",
       "</tbody>\n",
       "</table>\n"
      ],
      "text/latex": [
       "\\begin{tabular}{r|llllllllllllllllllllllllllllllllllllllllllllllllllllllllllllllllllllllllllllllllllllllll}\n",
       " SampleName & BarcodeSequence & LinkerPrimerSequence & Experiment\\_Design\\_Description & Library\\_Construction\\_Protocol & Linker & Platform & Center\\_Name & Center\\_Project & Instrument\\_Model & ⋯ & PC1 & PC2 & PC3 & PC4 & PC5 & PC6 & PC7 & PC8 & PC9 & PC10\\\\\n",
       "\\hline\n",
       "\t BI0023                                               & TCTGGTGACATT                                         & GGACTACHVGGGTWTCTAAT                                 & 16S stool samples sequenced for MrOS Vitamin D study & 16S rRNA v4                                          & GT                                                   & Illumina                                             & BI                                                   & MrOS                                                 & Illumina MiSeq                                       & ⋯                                                    & -0.182419965                                         &  0.03244704                                          &  0.017103878                                         &  0.0026633668                                        &  0.01867073                                          &  0.006386597                                         & -0.007694438                                         & -0.01643466                                          &  0.017548138                                         & -0.036995079                                        \\\\\n",
       "\t BI0056                                               & CAAGCATGCCTA                                         & GGACTACHVGGGTWTCTAAT                                 & 16S stool samples sequenced for MrOS Vitamin D study & 16S rRNA v4                                          & GT                                                   & Illumina                                             & BI                                                   & MrOS                                                 & Illumina MiSeq                                       & ⋯                                                    &  0.067189060                                         & -0.06734805                                          & -0.026115733                                         & -0.0006725392                                        &  0.01139566                                          &  0.098768773                                         &  0.016512428                                         &  0.08688633                                          & -0.020694245                                         &  0.029536266                                        \\\\\n",
       "\t BI0131                                               & CTATTTGCGACA                                         & GGACTACHVGGGTWTCTAAT                                 & 16S stool samples sequenced for MrOS Vitamin D study & 16S rRNA v4                                          & GT                                                   & Illumina                                             & BI                                                   & MrOS                                                 & Illumina MiSeq                                       & ⋯                                                    & -0.111184971                                         & -0.04643827                                          & -0.004327682                                         &  0.0974403021                                        & -0.08058773                                          &  0.021058176                                         & -0.042956137                                         &  0.03827265                                          & -0.037229404                                         & -0.010152724                                        \\\\\n",
       "\t BI0153                                               & ATCGGCGTTACA                                         & GGACTACHVGGGTWTCTAAT                                 & 16S stool samples sequenced for MrOS Vitamin D study & 16S rRNA v4                                          & GT                                                   & Illumina                                             & BI                                                   & MrOS                                                 & Illumina MiSeq                                       & ⋯                                                    &  0.097999259                                         & -0.09336066                                          & -0.071756501                                         & -0.0835898160                                        &  0.05305107                                          &  0.050041440                                         & -0.002324747                                         & -0.02010602                                          &  0.036231161                                         & -0.004417871                                        \\\\\n",
       "\t BI0215                                               & CCTCTCGTGATC                                         & GGACTACHVGGGTWTCTAAT                                 & 16S stool samples sequenced for MrOS Vitamin D study & 16S rRNA v4                                          & GT                                                   & Illumina                                             & BI                                                   & MrOS                                                 & Illumina MiSeq                                       & ⋯                                                    &  0.002442947                                         & -0.07331568                                          & -0.110321389                                         & -0.0046953357                                        &  0.03923230                                          & -0.011564637                                         & -0.076558892                                         & -0.02143262                                          &  0.004434227                                         &  0.038072632                                        \\\\\n",
       "\t BI0353                                               & TGCCATCTGAAT                                         & GGACTACHVGGGTWTCTAAT                                 & 16S stool samples sequenced for MrOS Vitamin D study & 16S rRNA v4                                          & GT                                                   & Illumina                                             & BI                                                   & MrOS                                                 & Illumina MiSeq                                       & ⋯                                                    &  0.174613245                                         & -0.07619972                                          & -0.019615397                                         & -0.0424383862                                        & -0.14655369                                          &  0.032315761                                         &  0.083495446                                         & -0.05848061                                          &  0.063405369                                         &  0.120107415                                        \\\\\n",
       "\\end{tabular}\n"
      ],
      "text/markdown": [
       "\n",
       "SampleName | BarcodeSequence | LinkerPrimerSequence | Experiment_Design_Description | Library_Construction_Protocol | Linker | Platform | Center_Name | Center_Project | Instrument_Model | ⋯ | PC1 | PC2 | PC3 | PC4 | PC5 | PC6 | PC7 | PC8 | PC9 | PC10 | \n",
       "|---|---|---|---|---|---|\n",
       "| BI0023                                               | TCTGGTGACATT                                         | GGACTACHVGGGTWTCTAAT                                 | 16S stool samples sequenced for MrOS Vitamin D study | 16S rRNA v4                                          | GT                                                   | Illumina                                             | BI                                                   | MrOS                                                 | Illumina MiSeq                                       | ⋯                                                    | -0.182419965                                         |  0.03244704                                          |  0.017103878                                         |  0.0026633668                                        |  0.01867073                                          |  0.006386597                                         | -0.007694438                                         | -0.01643466                                          |  0.017548138                                         | -0.036995079                                         | \n",
       "| BI0056                                               | CAAGCATGCCTA                                         | GGACTACHVGGGTWTCTAAT                                 | 16S stool samples sequenced for MrOS Vitamin D study | 16S rRNA v4                                          | GT                                                   | Illumina                                             | BI                                                   | MrOS                                                 | Illumina MiSeq                                       | ⋯                                                    |  0.067189060                                         | -0.06734805                                          | -0.026115733                                         | -0.0006725392                                        |  0.01139566                                          |  0.098768773                                         |  0.016512428                                         |  0.08688633                                          | -0.020694245                                         |  0.029536266                                         | \n",
       "| BI0131                                               | CTATTTGCGACA                                         | GGACTACHVGGGTWTCTAAT                                 | 16S stool samples sequenced for MrOS Vitamin D study | 16S rRNA v4                                          | GT                                                   | Illumina                                             | BI                                                   | MrOS                                                 | Illumina MiSeq                                       | ⋯                                                    | -0.111184971                                         | -0.04643827                                          | -0.004327682                                         |  0.0974403021                                        | -0.08058773                                          |  0.021058176                                         | -0.042956137                                         |  0.03827265                                          | -0.037229404                                         | -0.010152724                                         | \n",
       "| BI0153                                               | ATCGGCGTTACA                                         | GGACTACHVGGGTWTCTAAT                                 | 16S stool samples sequenced for MrOS Vitamin D study | 16S rRNA v4                                          | GT                                                   | Illumina                                             | BI                                                   | MrOS                                                 | Illumina MiSeq                                       | ⋯                                                    |  0.097999259                                         | -0.09336066                                          | -0.071756501                                         | -0.0835898160                                        |  0.05305107                                          |  0.050041440                                         | -0.002324747                                         | -0.02010602                                          |  0.036231161                                         | -0.004417871                                         | \n",
       "| BI0215                                               | CCTCTCGTGATC                                         | GGACTACHVGGGTWTCTAAT                                 | 16S stool samples sequenced for MrOS Vitamin D study | 16S rRNA v4                                          | GT                                                   | Illumina                                             | BI                                                   | MrOS                                                 | Illumina MiSeq                                       | ⋯                                                    |  0.002442947                                         | -0.07331568                                          | -0.110321389                                         | -0.0046953357                                        |  0.03923230                                          | -0.011564637                                         | -0.076558892                                         | -0.02143262                                          |  0.004434227                                         |  0.038072632                                         | \n",
       "| BI0353                                               | TGCCATCTGAAT                                         | GGACTACHVGGGTWTCTAAT                                 | 16S stool samples sequenced for MrOS Vitamin D study | 16S rRNA v4                                          | GT                                                   | Illumina                                             | BI                                                   | MrOS                                                 | Illumina MiSeq                                       | ⋯                                                    |  0.174613245                                         | -0.07619972                                          | -0.019615397                                         | -0.0424383862                                        | -0.14655369                                          |  0.032315761                                         |  0.083495446                                         | -0.05848061                                          |  0.063405369                                         |  0.120107415                                         | \n",
       "\n",
       "\n"
      ],
      "text/plain": [
       "  SampleName BarcodeSequence LinkerPrimerSequence\n",
       "1 BI0023     TCTGGTGACATT    GGACTACHVGGGTWTCTAAT\n",
       "2 BI0056     CAAGCATGCCTA    GGACTACHVGGGTWTCTAAT\n",
       "3 BI0131     CTATTTGCGACA    GGACTACHVGGGTWTCTAAT\n",
       "4 BI0153     ATCGGCGTTACA    GGACTACHVGGGTWTCTAAT\n",
       "5 BI0215     CCTCTCGTGATC    GGACTACHVGGGTWTCTAAT\n",
       "6 BI0353     TGCCATCTGAAT    GGACTACHVGGGTWTCTAAT\n",
       "  Experiment_Design_Description                       \n",
       "1 16S stool samples sequenced for MrOS Vitamin D study\n",
       "2 16S stool samples sequenced for MrOS Vitamin D study\n",
       "3 16S stool samples sequenced for MrOS Vitamin D study\n",
       "4 16S stool samples sequenced for MrOS Vitamin D study\n",
       "5 16S stool samples sequenced for MrOS Vitamin D study\n",
       "6 16S stool samples sequenced for MrOS Vitamin D study\n",
       "  Library_Construction_Protocol Linker Platform Center_Name Center_Project\n",
       "1 16S rRNA v4                   GT     Illumina BI          MrOS          \n",
       "2 16S rRNA v4                   GT     Illumina BI          MrOS          \n",
       "3 16S rRNA v4                   GT     Illumina BI          MrOS          \n",
       "4 16S rRNA v4                   GT     Illumina BI          MrOS          \n",
       "5 16S rRNA v4                   GT     Illumina BI          MrOS          \n",
       "6 16S rRNA v4                   GT     Illumina BI          MrOS          \n",
       "  Instrument_Model ⋯ PC1          PC2         PC3          PC4          \n",
       "1 Illumina MiSeq   ⋯ -0.182419965  0.03244704  0.017103878  0.0026633668\n",
       "2 Illumina MiSeq   ⋯  0.067189060 -0.06734805 -0.026115733 -0.0006725392\n",
       "3 Illumina MiSeq   ⋯ -0.111184971 -0.04643827 -0.004327682  0.0974403021\n",
       "4 Illumina MiSeq   ⋯  0.097999259 -0.09336066 -0.071756501 -0.0835898160\n",
       "5 Illumina MiSeq   ⋯  0.002442947 -0.07331568 -0.110321389 -0.0046953357\n",
       "6 Illumina MiSeq   ⋯  0.174613245 -0.07619972 -0.019615397 -0.0424383862\n",
       "  PC5         PC6          PC7          PC8         PC9          PC10        \n",
       "1  0.01867073  0.006386597 -0.007694438 -0.01643466  0.017548138 -0.036995079\n",
       "2  0.01139566  0.098768773  0.016512428  0.08688633 -0.020694245  0.029536266\n",
       "3 -0.08058773  0.021058176 -0.042956137  0.03827265 -0.037229404 -0.010152724\n",
       "4  0.05305107  0.050041440 -0.002324747 -0.02010602  0.036231161 -0.004417871\n",
       "5  0.03923230 -0.011564637 -0.076558892 -0.02143262  0.004434227  0.038072632\n",
       "6 -0.14655369  0.032315761  0.083495446 -0.05848061  0.063405369  0.120107415"
      ]
     },
     "metadata": {},
     "output_type": "display_data"
    }
   ],
   "source": [
    "head(dat)"
   ]
  },
  {
   "cell_type": "code",
   "execution_count": 9,
   "metadata": {},
   "outputs": [],
   "source": [
    "# not include correlated variables\n",
    "# convert categorial to factors\n",
    "vars_cat = c('Sex','GIERACE', 'SITE', 'TUDRAMT', 'TURSMOKE', 'M1ADEPR', 'M1VITMND', 'M1ANTIB', 'M1PROBI', \n",
    "               'OHSEAS', 'QLCOMP', 'VDstatus', 'M1STATIN', 'Antihistamine', 'Laxative')\n",
    "dat[vars_cat] = lapply(dat[vars_cat], factor)\n",
    "\n",
    "# convert continuous to numeric\n",
    "vars_cts = c('Latitude', 'Longitude', 'Age', 'BMI', 'PASCORE', 'DTVITD', 'Rstarch_total',\n",
    "             'OHV1D3', 'OHV24D3', 'OHVD3')\n",
    "vars_pcs = c('PC1', 'PC2', 'PC3', 'PC4', 'PC5', 'PC6', 'PC7', 'PC8', 'PC9', 'PC10')"
   ]
  },
  {
   "cell_type": "code",
   "execution_count": 10,
   "metadata": {},
   "outputs": [
    {
     "data": {
      "text/html": [
       "15"
      ],
      "text/latex": [
       "15"
      ],
      "text/markdown": [
       "15"
      ],
      "text/plain": [
       "[1] 15"
      ]
     },
     "metadata": {},
     "output_type": "display_data"
    },
    {
     "data": {
      "text/html": [
       "10"
      ],
      "text/latex": [
       "10"
      ],
      "text/markdown": [
       "10"
      ],
      "text/plain": [
       "[1] 10"
      ]
     },
     "metadata": {},
     "output_type": "display_data"
    },
    {
     "data": {
      "text/html": [
       "10"
      ],
      "text/latex": [
       "10"
      ],
      "text/markdown": [
       "10"
      ],
      "text/plain": [
       "[1] 10"
      ]
     },
     "metadata": {},
     "output_type": "display_data"
    }
   ],
   "source": [
    "length(vars_cat)\n",
    "length(vars_cts)\n",
    "length(vars_pcs)"
   ]
  },
  {
   "cell_type": "code",
   "execution_count": 11,
   "metadata": {},
   "outputs": [
    {
     "data": {
      "text/html": [
       "<ol class=list-inline>\n",
       "\t<li>545</li>\n",
       "\t<li>25</li>\n",
       "</ol>\n"
      ],
      "text/latex": [
       "\\begin{enumerate*}\n",
       "\\item 545\n",
       "\\item 25\n",
       "\\end{enumerate*}\n"
      ],
      "text/markdown": [
       "1. 545\n",
       "2. 25\n",
       "\n",
       "\n"
      ],
      "text/plain": [
       "[1] 545  25"
      ]
     },
     "metadata": {},
     "output_type": "display_data"
    },
    {
     "data": {
      "text/html": [
       "<ol class=list-inline>\n",
       "\t<li>545</li>\n",
       "\t<li>10</li>\n",
       "</ol>\n"
      ],
      "text/latex": [
       "\\begin{enumerate*}\n",
       "\\item 545\n",
       "\\item 10\n",
       "\\end{enumerate*}\n"
      ],
      "text/markdown": [
       "1. 545\n",
       "2. 10\n",
       "\n",
       "\n"
      ],
      "text/plain": [
       "[1] 545  10"
      ]
     },
     "metadata": {},
     "output_type": "display_data"
    }
   ],
   "source": [
    "dat = dat[c(vars_cat, vars_cts, vars_pcs)]\n",
    "dat = dat[complete.cases(dat), ]\n",
    "X = dat[c(vars_cat, vars_cts)]\n",
    "Y = dat[, vars_pcs]\n",
    "\n",
    "dim(X)\n",
    "dim(Y)"
   ]
  },
  {
   "cell_type": "code",
   "execution_count": 12,
   "metadata": {},
   "outputs": [
    {
     "data": {
      "text/plain": [
       "   Sex                    GIERACE             SITE    \n",
       " male:545   1:WHITE           :482   Birmingham : 64  \n",
       "            2:AFRICAN AMERICAN: 19   Minneapolis: 83  \n",
       "            3:ASIAN           : 23   Palo Alto  : 63  \n",
       "            4:HISPANIC        : 12   Pittsburgh : 92  \n",
       "            5:OTHER           :  9   Portland   :120  \n",
       "                                     San Diego  :123  \n",
       "                                                      \n",
       "                            TUDRAMT                TURSMOKE     M1ADEPR   \n",
       " .                              :  2   0:NO            :213   0: No :499  \n",
       " 0:None drinker                 :215   1:PAST          :261   1: Yes: 46  \n",
       " 1: Less than one drink per week: 71   2:CURRENT       :  8               \n",
       " 2: 1-2drinks per week          : 58   M:Not Applicable: 63               \n",
       " 3: 3-5 drinks per week         : 77                                      \n",
       " 4: 6-13 drinks per week        : 95                                      \n",
       " 5: 14 or more drinks per week  : 27                                      \n",
       "   M1VITMND     M1ANTIB      M1PROBI                       OHSEAS   \n",
       " 0: No :136   0: No :507   0: No :520   1:WINTER              :  6  \n",
       " 1: Yes:409   1: Yes: 38   1: Yes: 25   2:SPRING              :209  \n",
       "                                        3:SUMMER              :205  \n",
       "                                        4:FALL                :125  \n",
       "                                        Missing:Not collected :  0  \n",
       "                                                                    \n",
       "                                                                    \n",
       "              QLCOMP                      VDstatus     M1STATIN   Antihistamine\n",
       " 0:PR/VPOOR/FAIR : 61                         :  0   0: No :242   0:No :490    \n",
       " 1:GOOD/EXCELLENT:484   deficiency            : 38   1: Yes:303   1:Yes: 55    \n",
       "                        Missing:Not collected :  0                             \n",
       "                        sufficiency           :507                             \n",
       "                                                                               \n",
       "                                                                               \n",
       "                                                                               \n",
       "  Laxative      Latitude       Longitude           Age             BMI       \n",
       " 0:No :459   Min.   :32.72   Min.   :-122.7   Min.   :78.00   Min.   :17.60  \n",
       " 1:Yes: 86   1st Qu.:33.52   1st Qu.:-122.1   1st Qu.:81.00   1st Qu.:24.53  \n",
       "             Median :40.44   Median :-117.2   Median :83.00   Median :26.72  \n",
       "             Mean   :39.35   Mean   :-105.5   Mean   :84.19   Mean   :27.05  \n",
       "             3rd Qu.:44.98   3rd Qu.: -86.8   3rd Qu.:87.00   3rd Qu.:29.00  \n",
       "             Max.   :45.52   Max.   : -80.0   Max.   :98.00   Max.   :42.93  \n",
       "                                                                             \n",
       "    PASCORE          DTVITD        Rstarch_total        OHV1D3       \n",
       " Min.   :  0.0   Min.   :  0.429   Min.   : 0.100   Min.   :0.01070  \n",
       " 1st Qu.: 72.5   1st Qu.: 79.050   1st Qu.: 1.284   1st Qu.:0.04410  \n",
       " Median :116.8   Median :129.080   Median : 2.346   Median :0.05550  \n",
       " Mean   :123.7   Mean   :166.220   Mean   : 2.680   Mean   :0.05777  \n",
       " 3rd Qu.:167.9   3rd Qu.:215.000   3rd Qu.: 3.610   3rd Qu.:0.06620  \n",
       " Max.   :359.1   Max.   :982.830   Max.   :12.386   Max.   :0.15600  \n",
       "                                                                     \n",
       "    OHV24D3           OHVD3       \n",
       " Min.   : 0.300   Min.   :  7.80  \n",
       " 1st Qu.: 2.190   1st Qu.: 27.40  \n",
       " Median : 3.190   Median : 33.70  \n",
       " Mean   : 3.435   Mean   : 35.29  \n",
       " 3rd Qu.: 4.230   3rd Qu.: 41.90  \n",
       " Max.   :14.070   Max.   :104.00  \n",
       "                                  "
      ]
     },
     "metadata": {},
     "output_type": "display_data"
    }
   ],
   "source": [
    "summary(X)"
   ]
  },
  {
   "cell_type": "code",
   "execution_count": 13,
   "metadata": {},
   "outputs": [],
   "source": [
    "mod0 <- rda(Y ~ 1., X)  # Model with intercept only\n",
    "mod1 <- rda(Y ~ ., X)  # Model with all explanatory variables"
   ]
  },
  {
   "cell_type": "code",
   "execution_count": 14,
   "metadata": {},
   "outputs": [
    {
     "name": "stdout",
     "output_type": "stream",
     "text": [
      "Step: R2.adj= 0 \n",
      "Call: Y ~ 1 \n",
      " \n",
      "                  R2.adjusted\n",
      "<All variables>  0.0906840651\n",
      "+ OHV1D3         0.0198750908\n",
      "+ GIERACE        0.0166617636\n",
      "+ SITE           0.0122198071\n",
      "+ TUDRAMT        0.0099318810\n",
      "+ M1ADEPR        0.0088207793\n",
      "+ Rstarch_total  0.0084403942\n",
      "+ M1ANTIB        0.0075689091\n",
      "+ Latitude       0.0069804310\n",
      "+ OHV24D3        0.0062198352\n",
      "+ Longitude      0.0044375820\n",
      "+ BMI            0.0040346124\n",
      "+ PASCORE        0.0037399195\n",
      "+ Age            0.0032887693\n",
      "+ Laxative       0.0025286905\n",
      "+ M1STATIN       0.0023724865\n",
      "+ TURSMOKE       0.0021458341\n",
      "+ QLCOMP         0.0021060420\n",
      "+ OHSEAS         0.0020567359\n",
      "+ OHVD3          0.0011454113\n",
      "+ DTVITD         0.0005322103\n",
      "<none>           0.0000000000\n",
      "+ Sex            0.0000000000\n",
      "+ Antihistamine -0.0007545035\n",
      "+ M1VITMND      -0.0008530937\n",
      "+ M1PROBI       -0.0009964841\n",
      "+ VDstatus      -0.0012248923\n",
      "\n",
      "         Df     AIC      F Pr(>F)   \n",
      "+ OHV1D3  1 -1624.1 12.031  0.002 **\n",
      "---\n",
      "Signif. codes:  0 ‘***’ 0.001 ‘**’ 0.01 ‘*’ 0.05 ‘.’ 0.1 ‘ ’ 1\n",
      "\n",
      "Step: R2.adj= 0.01987509 \n",
      "Call: Y ~ OHV1D3 \n",
      " \n",
      "                R2.adjusted\n",
      "<All variables>  0.09068407\n",
      "+ GIERACE        0.03547915\n",
      "+ SITE           0.03108972\n",
      "+ Rstarch_total  0.02965700\n",
      "+ M1ADEPR        0.02710888\n",
      "+ Latitude       0.02709308\n",
      "+ OHVD3          0.02703363\n",
      "+ TUDRAMT        0.02584454\n",
      "+ M1ANTIB        0.02574549\n",
      "+ Age            0.02464699\n",
      "+ OHV24D3        0.02395186\n",
      "+ Longitude      0.02355681\n",
      "+ M1STATIN       0.02294333\n",
      "+ Laxative       0.02267282\n",
      "+ OHSEAS         0.02255295\n",
      "+ TURSMOKE       0.02224487\n",
      "+ BMI            0.02222749\n",
      "+ PASCORE        0.02175041\n",
      "+ QLCOMP         0.02150035\n",
      "+ DTVITD         0.02057767\n",
      "+ M1VITMND       0.02053514\n",
      "<none>           0.01987509\n",
      "+ Sex            0.01987509\n",
      "+ M1PROBI        0.01971548\n",
      "+ Antihistamine  0.01913696\n",
      "+ VDstatus       0.01909452\n",
      "\n",
      "          Df     AIC      F Pr(>F)   \n",
      "+ GIERACE  4 -1628.9 3.1962  0.002 **\n",
      "---\n",
      "Signif. codes:  0 ‘***’ 0.001 ‘**’ 0.01 ‘*’ 0.05 ‘.’ 0.1 ‘ ’ 1\n",
      "\n",
      "Step: R2.adj= 0.03547915 \n",
      "Call: Y ~ OHV1D3 + GIERACE \n",
      " \n",
      "                R2.adjusted\n",
      "<All variables>  0.09068407\n",
      "+ SITE           0.04565491\n",
      "+ M1ADEPR        0.04397490\n",
      "+ OHVD3          0.04281998\n",
      "+ Rstarch_total  0.04214381\n",
      "+ M1ANTIB        0.04156668\n",
      "+ Longitude      0.04153260\n",
      "+ Latitude       0.04023835\n",
      "+ Age            0.03961442\n",
      "+ OHV24D3        0.03948896\n",
      "+ BMI            0.03917533\n",
      "+ TUDRAMT        0.03916430\n",
      "+ OHSEAS         0.03880704\n",
      "+ Laxative       0.03853093\n",
      "+ M1STATIN       0.03837884\n",
      "+ PASCORE        0.03776396\n",
      "+ TURSMOKE       0.03741797\n",
      "+ QLCOMP         0.03703043\n",
      "+ DTVITD         0.03634394\n",
      "+ M1VITMND       0.03593320\n",
      "+ M1PROBI        0.03548189\n",
      "<none>           0.03547915\n",
      "+ Sex            0.03547915\n",
      "+ Antihistamine  0.03469434\n",
      "+ VDstatus       0.03436524\n",
      "\n",
      "       Df     AIC      F Pr(>F)   \n",
      "+ SITE  5 -1629.8 2.1494  0.004 **\n",
      "---\n",
      "Signif. codes:  0 ‘***’ 0.001 ‘**’ 0.01 ‘*’ 0.05 ‘.’ 0.1 ‘ ’ 1\n",
      "\n",
      "Step: R2.adj= 0.04565491 \n",
      "Call: Y ~ OHV1D3 + GIERACE + SITE \n",
      " \n",
      "                R2.adjusted\n",
      "<All variables>  0.09068407\n",
      "+ M1ADEPR        0.05348818\n",
      "+ OHVD3          0.05326981\n",
      "+ Rstarch_total  0.05113220\n",
      "+ M1ANTIB        0.05050877\n",
      "+ OHV24D3        0.05005980\n",
      "+ Laxative       0.04956471\n",
      "+ Age            0.04921620\n",
      "+ PASCORE        0.04907265\n",
      "+ BMI            0.04835124\n",
      "+ M1STATIN       0.04822258\n",
      "+ OHSEAS         0.04796776\n",
      "+ QLCOMP         0.04732157\n",
      "+ TURSMOKE       0.04730703\n",
      "+ TUDRAMT        0.04699416\n",
      "+ DTVITD         0.04676605\n",
      "+ M1VITMND       0.04644170\n",
      "+ M1PROBI        0.04577085\n",
      "<none>           0.04565491\n",
      "+ Sex            0.04565491\n",
      "+ Latitude       0.04565491\n",
      "+ Longitude      0.04565491\n",
      "+ Antihistamine  0.04497353\n",
      "+ VDstatus       0.04453484\n",
      "\n",
      "          Df     AIC      F Pr(>F)   \n",
      "+ M1ADEPR  1 -1633.3 5.4193  0.002 **\n",
      "---\n",
      "Signif. codes:  0 ‘***’ 0.001 ‘**’ 0.01 ‘*’ 0.05 ‘.’ 0.1 ‘ ’ 1\n",
      "\n",
      "Step: R2.adj= 0.05348818 \n",
      "Call: Y ~ OHV1D3 + GIERACE + SITE + M1ADEPR \n",
      " \n",
      "                R2.adjusted\n",
      "<All variables>  0.09068407\n",
      "+ OHVD3          0.06013959\n",
      "+ Rstarch_total  0.05857312\n",
      "+ M1ANTIB        0.05844820\n",
      "+ OHV24D3        0.05770521\n",
      "+ Laxative       0.05724140\n",
      "+ Age            0.05705710\n",
      "+ PASCORE        0.05667704\n",
      "+ BMI            0.05653128\n",
      "+ M1STATIN       0.05582422\n",
      "+ OHSEAS         0.05515580\n",
      "+ TURSMOKE       0.05512598\n",
      "+ QLCOMP         0.05511114\n",
      "+ DTVITD         0.05442928\n",
      "+ TUDRAMT        0.05436804\n",
      "+ M1VITMND       0.05424120\n",
      "+ M1PROBI        0.05373743\n",
      "<none>           0.05348818\n",
      "+ Sex            0.05348818\n",
      "+ Latitude       0.05348818\n",
      "+ Longitude      0.05348818\n",
      "+ Antihistamine  0.05274147\n",
      "+ VDstatus       0.05235428\n",
      "\n",
      "        Df     AIC      F Pr(>F)   \n",
      "+ OHVD3  1 -1636.2 4.7721  0.004 **\n",
      "---\n",
      "Signif. codes:  0 ‘***’ 0.001 ‘**’ 0.01 ‘*’ 0.05 ‘.’ 0.1 ‘ ’ 1\n",
      "\n",
      "Step: R2.adj= 0.06013959 \n",
      "Call: Y ~ OHV1D3 + GIERACE + SITE + M1ADEPR + OHVD3 \n",
      " \n",
      "                R2.adjusted\n",
      "<All variables>  0.09068407\n",
      "+ M1ANTIB        0.06529732\n",
      "+ Rstarch_total  0.06523930\n",
      "+ Laxative       0.06394852\n",
      "+ Age            0.06379023\n",
      "+ M1STATIN       0.06376130\n",
      "+ BMI            0.06343290\n",
      "+ PASCORE        0.06332160\n",
      "+ OHV24D3        0.06238780\n",
      "+ QLCOMP         0.06186266\n",
      "+ TURSMOKE       0.06182117\n",
      "+ OHSEAS         0.06166309\n",
      "+ TUDRAMT        0.06109061\n",
      "+ DTVITD         0.06103442\n",
      "+ M1PROBI        0.06036502\n",
      "<none>           0.06013959\n",
      "+ Sex            0.06013959\n",
      "+ Latitude       0.06013959\n",
      "+ Longitude      0.06013959\n",
      "+ Antihistamine  0.05940331\n",
      "+ M1VITMND       0.05932988\n",
      "+ VDstatus       0.05908095\n",
      "\n",
      "          Df     AIC      F Pr(>F)   \n",
      "+ M1ANTIB  1 -1638.2 3.9356  0.006 **\n",
      "---\n",
      "Signif. codes:  0 ‘***’ 0.001 ‘**’ 0.01 ‘*’ 0.05 ‘.’ 0.1 ‘ ’ 1\n",
      "\n",
      "Step: R2.adj= 0.06529732 \n",
      "Call: Y ~ OHV1D3 + GIERACE + SITE + M1ADEPR + OHVD3 + M1ANTIB \n",
      " \n",
      "                R2.adjusted\n",
      "<All variables>  0.09068407\n",
      "+ Rstarch_total  0.07031619\n",
      "+ Laxative       0.06909281\n",
      "+ M1STATIN       0.06898095\n",
      "+ Age            0.06884624\n",
      "+ PASCORE        0.06842591\n",
      "+ BMI            0.06827183\n",
      "+ OHV24D3        0.06723593\n",
      "+ OHSEAS         0.06711179\n",
      "+ TURSMOKE       0.06695951\n",
      "+ QLCOMP         0.06693851\n",
      "+ TUDRAMT        0.06690297\n",
      "+ DTVITD         0.06612486\n",
      "<none>           0.06529732\n",
      "+ Sex            0.06529732\n",
      "+ Latitude       0.06529732\n",
      "+ Longitude      0.06529732\n",
      "+ M1PROBI        0.06500041\n",
      "+ Antihistamine  0.06456623\n",
      "+ M1VITMND       0.06432616\n",
      "+ VDstatus       0.06412478\n",
      "\n",
      "                Df     AIC      F Pr(>F)   \n",
      "+ Rstarch_total  1 -1640.1 3.8666  0.006 **\n",
      "---\n",
      "Signif. codes:  0 ‘***’ 0.001 ‘**’ 0.01 ‘*’ 0.05 ‘.’ 0.1 ‘ ’ 1\n",
      "\n",
      "Step: R2.adj= 0.07031619 \n",
      "Call: Y ~ OHV1D3 + GIERACE + SITE + M1ADEPR + OHVD3 + M1ANTIB + Rstarch_total \n",
      " \n",
      "                R2.adjusted\n",
      "<All variables>  0.09068407\n",
      "+ Laxative       0.07412834\n",
      "+ Age            0.07403091\n",
      "+ M1STATIN       0.07399002\n",
      "+ PASCORE        0.07342854\n",
      "+ BMI            0.07331963\n",
      "+ OHV24D3        0.07240505\n",
      "+ TURSMOKE       0.07227648\n",
      "+ QLCOMP         0.07197360\n",
      "+ OHSEAS         0.07186186\n",
      "+ TUDRAMT        0.07169728\n",
      "+ DTVITD         0.07133507\n",
      "<none>           0.07031619\n",
      "+ Sex            0.07031619\n",
      "+ Latitude       0.07031619\n",
      "+ Longitude      0.07031619\n",
      "+ M1PROBI        0.07012973\n",
      "+ Antihistamine  0.06959396\n",
      "+ M1VITMND       0.06935417\n",
      "+ VDstatus       0.06918461\n",
      "\n",
      "           Df     AIC      F Pr(>F)  \n",
      "+ Laxative  1 -1641.4 3.1822   0.02 *\n",
      "---\n",
      "Signif. codes:  0 ‘***’ 0.001 ‘**’ 0.01 ‘*’ 0.05 ‘.’ 0.1 ‘ ’ 1\n",
      "\n",
      "Step: R2.adj= 0.07412834 \n",
      "Call: Y ~ OHV1D3 + GIERACE + SITE + M1ADEPR + OHVD3 + M1ANTIB + Rstarch_total +      Laxative \n",
      " \n",
      "                R2.adjusted\n",
      "<All variables>  0.09068407\n",
      "+ Age            0.07795522\n",
      "+ M1STATIN       0.07771075\n",
      "+ BMI            0.07709226\n",
      "+ PASCORE        0.07662533\n",
      "+ TURSMOKE       0.07601397\n",
      "+ TUDRAMT        0.07598033\n",
      "+ OHV24D3        0.07587735\n",
      "+ QLCOMP         0.07571845\n",
      "+ OHSEAS         0.07550871\n",
      "+ DTVITD         0.07430323\n",
      "<none>           0.07412834\n",
      "+ Sex            0.07412834\n",
      "+ Latitude       0.07412834\n",
      "+ Longitude      0.07412834\n",
      "+ M1PROBI        0.07384645\n",
      "+ Antihistamine  0.07342480\n",
      "+ M1VITMND       0.07320446\n",
      "+ VDstatus       0.07293844\n",
      "\n",
      "      Df     AIC      F Pr(>F)  \n",
      "+ Age  1 -1642.7 3.1956  0.012 *\n",
      "---\n",
      "Signif. codes:  0 ‘***’ 0.001 ‘**’ 0.01 ‘*’ 0.05 ‘.’ 0.1 ‘ ’ 1\n",
      "\n",
      "Step: R2.adj= 0.07795522 \n",
      "Call: Y ~ OHV1D3 + GIERACE + SITE + M1ADEPR + OHVD3 + M1ANTIB + Rstarch_total +      Laxative + Age \n",
      " \n",
      "                R2.adjusted\n",
      "<All variables>  0.09068407\n",
      "+ M1STATIN       0.08143857\n",
      "+ PASCORE        0.08107122\n",
      "+ BMI            0.08019725\n",
      "+ OHV24D3        0.08009539\n",
      "+ OHSEAS         0.07986780\n",
      "+ QLCOMP         0.07976896\n",
      "+ TURSMOKE       0.07960255\n",
      "+ TUDRAMT        0.07958830\n",
      "+ DTVITD         0.07796891\n",
      "<none>           0.07795522\n",
      "+ Sex            0.07795522\n",
      "+ Latitude       0.07795522\n",
      "+ Longitude      0.07795522\n",
      "+ M1PROBI        0.07738790\n",
      "+ Antihistamine  0.07737906\n",
      "+ M1VITMND       0.07701673\n",
      "+ VDstatus       0.07673767\n",
      "\n",
      "           Df     AIC      F Pr(>F)   \n",
      "+ M1STATIN  1 -1643.8 3.0023  0.006 **\n",
      "---\n",
      "Signif. codes:  0 ‘***’ 0.001 ‘**’ 0.01 ‘*’ 0.05 ‘.’ 0.1 ‘ ’ 1\n",
      "\n",
      "Step: R2.adj= 0.08143857 \n",
      "Call: Y ~ OHV1D3 + GIERACE + SITE + M1ADEPR + OHVD3 + M1ANTIB + Rstarch_total +      Laxative + Age + M1STATIN \n",
      " \n",
      "                R2.adjusted\n",
      "<All variables>  0.09068407\n",
      "+ PASCORE        0.08401528\n",
      "+ OHSEAS         0.08375820\n",
      "+ OHV24D3        0.08359389\n",
      "+ BMI            0.08339715\n",
      "+ TURSMOKE       0.08297594\n",
      "+ QLCOMP         0.08292819\n",
      "+ TUDRAMT        0.08280057\n",
      "+ DTVITD         0.08156018\n",
      "<none>           0.08143857\n",
      "+ Sex            0.08143857\n",
      "+ Latitude       0.08143857\n",
      "+ Longitude      0.08143857\n",
      "+ Antihistamine  0.08084325\n",
      "+ M1PROBI        0.08083313\n",
      "+ M1VITMND       0.08044161\n",
      "+ VDstatus       0.08024049\n",
      "\n",
      "          Df     AIC      F Pr(>F)  \n",
      "+ PASCORE  1 -1644.4 2.4825  0.034 *\n",
      "---\n",
      "Signif. codes:  0 ‘***’ 0.001 ‘**’ 0.01 ‘*’ 0.05 ‘.’ 0.1 ‘ ’ 1\n",
      "\n",
      "Step: R2.adj= 0.08401528 \n",
      "Call: Y ~ OHV1D3 + GIERACE + SITE + M1ADEPR + OHVD3 + M1ANTIB + Rstarch_total +      Laxative + Age + M1STATIN + PASCORE \n",
      " \n",
      "                R2.adjusted\n",
      "<All variables>  0.09068407\n",
      "+ OHSEAS         0.08640751\n",
      "+ OHV24D3        0.08601844\n",
      "+ BMI            0.08569712\n",
      "+ TURSMOKE       0.08549773\n",
      "+ QLCOMP         0.08544282\n",
      "+ TUDRAMT        0.08475565\n",
      "+ DTVITD         0.08427271\n",
      "<none>           0.08401528\n",
      "+ Sex            0.08401528\n",
      "+ Latitude       0.08401528\n",
      "+ Longitude      0.08401528\n",
      "+ Antihistamine  0.08341566\n",
      "+ M1PROBI        0.08326251\n",
      "+ M1VITMND       0.08291700\n",
      "+ VDstatus       0.08281415\n",
      "\n",
      "         Df     AIC      F Pr(>F)\n",
      "+ OHSEAS  3 -1642.9 1.4591  0.112\n",
      "\n"
     ]
    }
   ],
   "source": [
    "step.res <- ordiR2step(mod0, mod1, perm.max = 1000)"
   ]
  },
  {
   "cell_type": "code",
   "execution_count": 15,
   "metadata": {},
   "outputs": [
    {
     "data": {
      "text/html": [
       "<table>\n",
       "<thead><tr><th></th><th scope=col>R2.adj</th><th scope=col>Df</th><th scope=col>AIC</th><th scope=col>F</th><th scope=col>Pr(&gt;F)</th></tr></thead>\n",
       "<tbody>\n",
       "\t<tr><th scope=row>+ OHV1D3</th><td>0.01987509</td><td> 1        </td><td>-1624.137 </td><td>12.031297 </td><td>0.002     </td></tr>\n",
       "\t<tr><th scope=row>+ GIERACE</th><td>0.03547915</td><td> 4        </td><td>-1628.913 </td><td> 3.196169 </td><td>0.002     </td></tr>\n",
       "\t<tr><th scope=row>+ SITE</th><td>0.04565491</td><td> 5        </td><td>-1629.773 </td><td> 2.149424 </td><td>0.004     </td></tr>\n",
       "\t<tr><th scope=row>+ M1ADEPR</th><td>0.05348818</td><td> 1        </td><td>-1633.286 </td><td> 5.419347 </td><td>0.002     </td></tr>\n",
       "\t<tr><th scope=row>+ OHVD3</th><td>0.06013959</td><td> 1        </td><td>-1636.153 </td><td> 4.772050 </td><td>0.004     </td></tr>\n",
       "\t<tr><th scope=row>+ M1ANTIB</th><td>0.06529732</td><td> 1        </td><td>-1638.177 </td><td> 3.935602 </td><td>0.006     </td></tr>\n",
       "\t<tr><th scope=row>+ Rstarch_total</th><td>0.07031619</td><td> 1        </td><td>-1640.139 </td><td> 3.866585 </td><td>0.006     </td></tr>\n",
       "\t<tr><th scope=row>+ Laxative</th><td>0.07412834</td><td> 1        </td><td>-1641.408 </td><td> 3.182205 </td><td>0.020     </td></tr>\n",
       "\t<tr><th scope=row>+ Age</th><td>0.07795522</td><td> 1        </td><td>-1642.696 </td><td> 3.195573 </td><td>0.012     </td></tr>\n",
       "\t<tr><th scope=row>+ M1STATIN</th><td>0.08143857</td><td> 1        </td><td>-1643.792 </td><td> 3.002270 </td><td>0.006     </td></tr>\n",
       "\t<tr><th scope=row>+ PASCORE</th><td>0.08401528</td><td> 1        </td><td>-1644.358 </td><td> 2.482478 </td><td>0.034     </td></tr>\n",
       "\t<tr><th scope=row>&lt;All variables&gt;</th><td>0.09068407</td><td>NA        </td><td>       NA </td><td>       NA </td><td>   NA     </td></tr>\n",
       "</tbody>\n",
       "</table>\n"
      ],
      "text/latex": [
       "\\begin{tabular}{r|lllll}\n",
       "  & R2.adj & Df & AIC & F & Pr(>F)\\\\\n",
       "\\hline\n",
       "\t+ OHV1D3 & 0.01987509 &  1         & -1624.137  & 12.031297  & 0.002     \\\\\n",
       "\t+ GIERACE & 0.03547915 &  4         & -1628.913  &  3.196169  & 0.002     \\\\\n",
       "\t+ SITE & 0.04565491 &  5         & -1629.773  &  2.149424  & 0.004     \\\\\n",
       "\t+ M1ADEPR & 0.05348818 &  1         & -1633.286  &  5.419347  & 0.002     \\\\\n",
       "\t+ OHVD3 & 0.06013959 &  1         & -1636.153  &  4.772050  & 0.004     \\\\\n",
       "\t+ M1ANTIB & 0.06529732 &  1         & -1638.177  &  3.935602  & 0.006     \\\\\n",
       "\t+ Rstarch\\_total & 0.07031619 &  1         & -1640.139  &  3.866585  & 0.006     \\\\\n",
       "\t+ Laxative & 0.07412834 &  1         & -1641.408  &  3.182205  & 0.020     \\\\\n",
       "\t+ Age & 0.07795522 &  1         & -1642.696  &  3.195573  & 0.012     \\\\\n",
       "\t+ M1STATIN & 0.08143857 &  1         & -1643.792  &  3.002270  & 0.006     \\\\\n",
       "\t+ PASCORE & 0.08401528 &  1         & -1644.358  &  2.482478  & 0.034     \\\\\n",
       "\t<All variables> & 0.09068407 & NA         &        NA  &        NA  &    NA     \\\\\n",
       "\\end{tabular}\n"
      ],
      "text/markdown": [
       "\n",
       "| <!--/--> | R2.adj | Df | AIC | F | Pr(>F) | \n",
       "|---|---|---|---|---|---|---|---|---|---|---|---|\n",
       "| + OHV1D3 | 0.01987509 |  1         | -1624.137  | 12.031297  | 0.002      | \n",
       "| + GIERACE | 0.03547915 |  4         | -1628.913  |  3.196169  | 0.002      | \n",
       "| + SITE | 0.04565491 |  5         | -1629.773  |  2.149424  | 0.004      | \n",
       "| + M1ADEPR | 0.05348818 |  1         | -1633.286  |  5.419347  | 0.002      | \n",
       "| + OHVD3 | 0.06013959 |  1         | -1636.153  |  4.772050  | 0.004      | \n",
       "| + M1ANTIB | 0.06529732 |  1         | -1638.177  |  3.935602  | 0.006      | \n",
       "| + Rstarch_total | 0.07031619 |  1         | -1640.139  |  3.866585  | 0.006      | \n",
       "| + Laxative | 0.07412834 |  1         | -1641.408  |  3.182205  | 0.020      | \n",
       "| + Age | 0.07795522 |  1         | -1642.696  |  3.195573  | 0.012      | \n",
       "| + M1STATIN | 0.08143857 |  1         | -1643.792  |  3.002270  | 0.006      | \n",
       "| + PASCORE | 0.08401528 |  1         | -1644.358  |  2.482478  | 0.034      | \n",
       "| <All variables> | 0.09068407 | NA         |        NA  |        NA  |    NA      | \n",
       "\n",
       "\n"
      ],
      "text/plain": [
       "                R2.adj     Df AIC       F         Pr(>F)\n",
       "+ OHV1D3        0.01987509  1 -1624.137 12.031297 0.002 \n",
       "+ GIERACE       0.03547915  4 -1628.913  3.196169 0.002 \n",
       "+ SITE          0.04565491  5 -1629.773  2.149424 0.004 \n",
       "+ M1ADEPR       0.05348818  1 -1633.286  5.419347 0.002 \n",
       "+ OHVD3         0.06013959  1 -1636.153  4.772050 0.004 \n",
       "+ M1ANTIB       0.06529732  1 -1638.177  3.935602 0.006 \n",
       "+ Rstarch_total 0.07031619  1 -1640.139  3.866585 0.006 \n",
       "+ Laxative      0.07412834  1 -1641.408  3.182205 0.020 \n",
       "+ Age           0.07795522  1 -1642.696  3.195573 0.012 \n",
       "+ M1STATIN      0.08143857  1 -1643.792  3.002270 0.006 \n",
       "+ PASCORE       0.08401528  1 -1644.358  2.482478 0.034 \n",
       "<All variables> 0.09068407 NA        NA        NA    NA "
      ]
     },
     "metadata": {},
     "output_type": "display_data"
    }
   ],
   "source": [
    "table = step.res$anova\n",
    "table"
   ]
  },
  {
   "cell_type": "code",
   "execution_count": 16,
   "metadata": {},
   "outputs": [],
   "source": [
    "table$ES.RDA = c(table$R2.adj[1], table$R2.adj[2]-table$R2.adj[1], \n",
    "                 table$R2.adj[3]-table$R2.adj[2], table$R2.adj[4]-table$R2.adj[3],\n",
    "                 table$R2.adj[5]-table$R2.adj[4], table$R2.adj[6]-table$R2.adj[5],\n",
    "                 table$R2.adj[7]-table$R2.adj[6], table$R2.adj[8]-table$R2.adj[7],\n",
    "                 table$R2.adj[9]-table$R2.adj[8], table$R2.adj[10]-table$R2.adj[9],\n",
    "                 table$R2.adj[11]-table$R2.adj[10], table$R2.adj[12]-table$R2.adj[11])\n",
    "table = table[-12, ]"
   ]
  },
  {
   "cell_type": "code",
   "execution_count": 17,
   "metadata": {},
   "outputs": [
    {
     "data": {
      "text/plain": [
       "rda(formula = Y ~ OHV1D3 + GIERACE + SITE + M1ADEPR + OHVD3 + \n",
       "    M1ANTIB + Rstarch_total + Laxative + Age + M1STATIN + PASCORE, \n",
       "    data = X)"
      ]
     },
     "metadata": {},
     "output_type": "display_data"
    }
   ],
   "source": [
    "step.res$call"
   ]
  },
  {
   "cell_type": "code",
   "execution_count": 18,
   "metadata": {
    "scrolled": true
   },
   "outputs": [
    {
     "data": {
      "text/html": [
       "<table>\n",
       "<thead><tr><th></th><th scope=col>R2.adj</th><th scope=col>Df</th><th scope=col>AIC</th><th scope=col>F</th><th scope=col>Pr(&gt;F)</th><th scope=col>ES.RDA</th></tr></thead>\n",
       "<tbody>\n",
       "\t<tr><th scope=row>+ OHV1D3</th><td>0.01987509 </td><td>1          </td><td>-1624.137  </td><td>12.031297  </td><td>0.002      </td><td>0.019875091</td></tr>\n",
       "\t<tr><th scope=row>+ GIERACE</th><td>0.03547915 </td><td>4          </td><td>-1628.913  </td><td> 3.196169  </td><td>0.002      </td><td>0.015604058</td></tr>\n",
       "\t<tr><th scope=row>+ SITE</th><td>0.04565491 </td><td>5          </td><td>-1629.773  </td><td> 2.149424  </td><td>0.004      </td><td>0.010175765</td></tr>\n",
       "\t<tr><th scope=row>+ M1ADEPR</th><td>0.05348818 </td><td>1          </td><td>-1633.286  </td><td> 5.419347  </td><td>0.002      </td><td>0.007833266</td></tr>\n",
       "\t<tr><th scope=row>+ OHVD3</th><td>0.06013959 </td><td>1          </td><td>-1636.153  </td><td> 4.772050  </td><td>0.004      </td><td>0.006651408</td></tr>\n",
       "\t<tr><th scope=row>+ M1ANTIB</th><td>0.06529732 </td><td>1          </td><td>-1638.177  </td><td> 3.935602  </td><td>0.006      </td><td>0.005157736</td></tr>\n",
       "\t<tr><th scope=row>+ Rstarch_total</th><td>0.07031619 </td><td>1          </td><td>-1640.139  </td><td> 3.866585  </td><td>0.006      </td><td>0.005018866</td></tr>\n",
       "\t<tr><th scope=row>+ Laxative</th><td>0.07412834 </td><td>1          </td><td>-1641.408  </td><td> 3.182205  </td><td>0.020      </td><td>0.003812154</td></tr>\n",
       "\t<tr><th scope=row>+ Age</th><td>0.07795522 </td><td>1          </td><td>-1642.696  </td><td> 3.195573  </td><td>0.012      </td><td>0.003826874</td></tr>\n",
       "\t<tr><th scope=row>+ M1STATIN</th><td>0.08143857 </td><td>1          </td><td>-1643.792  </td><td> 3.002270  </td><td>0.006      </td><td>0.003483349</td></tr>\n",
       "\t<tr><th scope=row>+ PASCORE</th><td>0.08401528 </td><td>1          </td><td>-1644.358  </td><td> 2.482478  </td><td>0.034      </td><td>0.002576712</td></tr>\n",
       "</tbody>\n",
       "</table>\n"
      ],
      "text/latex": [
       "\\begin{tabular}{r|llllll}\n",
       "  & R2.adj & Df & AIC & F & Pr(>F) & ES.RDA\\\\\n",
       "\\hline\n",
       "\t+ OHV1D3 & 0.01987509  & 1           & -1624.137   & 12.031297   & 0.002       & 0.019875091\\\\\n",
       "\t+ GIERACE & 0.03547915  & 4           & -1628.913   &  3.196169   & 0.002       & 0.015604058\\\\\n",
       "\t+ SITE & 0.04565491  & 5           & -1629.773   &  2.149424   & 0.004       & 0.010175765\\\\\n",
       "\t+ M1ADEPR & 0.05348818  & 1           & -1633.286   &  5.419347   & 0.002       & 0.007833266\\\\\n",
       "\t+ OHVD3 & 0.06013959  & 1           & -1636.153   &  4.772050   & 0.004       & 0.006651408\\\\\n",
       "\t+ M1ANTIB & 0.06529732  & 1           & -1638.177   &  3.935602   & 0.006       & 0.005157736\\\\\n",
       "\t+ Rstarch\\_total & 0.07031619  & 1           & -1640.139   &  3.866585   & 0.006       & 0.005018866\\\\\n",
       "\t+ Laxative & 0.07412834  & 1           & -1641.408   &  3.182205   & 0.020       & 0.003812154\\\\\n",
       "\t+ Age & 0.07795522  & 1           & -1642.696   &  3.195573   & 0.012       & 0.003826874\\\\\n",
       "\t+ M1STATIN & 0.08143857  & 1           & -1643.792   &  3.002270   & 0.006       & 0.003483349\\\\\n",
       "\t+ PASCORE & 0.08401528  & 1           & -1644.358   &  2.482478   & 0.034       & 0.002576712\\\\\n",
       "\\end{tabular}\n"
      ],
      "text/markdown": [
       "\n",
       "| <!--/--> | R2.adj | Df | AIC | F | Pr(>F) | ES.RDA | \n",
       "|---|---|---|---|---|---|---|---|---|---|---|\n",
       "| + OHV1D3 | 0.01987509  | 1           | -1624.137   | 12.031297   | 0.002       | 0.019875091 | \n",
       "| + GIERACE | 0.03547915  | 4           | -1628.913   |  3.196169   | 0.002       | 0.015604058 | \n",
       "| + SITE | 0.04565491  | 5           | -1629.773   |  2.149424   | 0.004       | 0.010175765 | \n",
       "| + M1ADEPR | 0.05348818  | 1           | -1633.286   |  5.419347   | 0.002       | 0.007833266 | \n",
       "| + OHVD3 | 0.06013959  | 1           | -1636.153   |  4.772050   | 0.004       | 0.006651408 | \n",
       "| + M1ANTIB | 0.06529732  | 1           | -1638.177   |  3.935602   | 0.006       | 0.005157736 | \n",
       "| + Rstarch_total | 0.07031619  | 1           | -1640.139   |  3.866585   | 0.006       | 0.005018866 | \n",
       "| + Laxative | 0.07412834  | 1           | -1641.408   |  3.182205   | 0.020       | 0.003812154 | \n",
       "| + Age | 0.07795522  | 1           | -1642.696   |  3.195573   | 0.012       | 0.003826874 | \n",
       "| + M1STATIN | 0.08143857  | 1           | -1643.792   |  3.002270   | 0.006       | 0.003483349 | \n",
       "| + PASCORE | 0.08401528  | 1           | -1644.358   |  2.482478   | 0.034       | 0.002576712 | \n",
       "\n",
       "\n"
      ],
      "text/plain": [
       "                R2.adj     Df AIC       F         Pr(>F) ES.RDA     \n",
       "+ OHV1D3        0.01987509 1  -1624.137 12.031297 0.002  0.019875091\n",
       "+ GIERACE       0.03547915 4  -1628.913  3.196169 0.002  0.015604058\n",
       "+ SITE          0.04565491 5  -1629.773  2.149424 0.004  0.010175765\n",
       "+ M1ADEPR       0.05348818 1  -1633.286  5.419347 0.002  0.007833266\n",
       "+ OHVD3         0.06013959 1  -1636.153  4.772050 0.004  0.006651408\n",
       "+ M1ANTIB       0.06529732 1  -1638.177  3.935602 0.006  0.005157736\n",
       "+ Rstarch_total 0.07031619 1  -1640.139  3.866585 0.006  0.005018866\n",
       "+ Laxative      0.07412834 1  -1641.408  3.182205 0.020  0.003812154\n",
       "+ Age           0.07795522 1  -1642.696  3.195573 0.012  0.003826874\n",
       "+ M1STATIN      0.08143857 1  -1643.792  3.002270 0.006  0.003483349\n",
       "+ PASCORE       0.08401528 1  -1644.358  2.482478 0.034  0.002576712"
      ]
     },
     "metadata": {},
     "output_type": "display_data"
    }
   ],
   "source": [
    "table"
   ]
  },
  {
   "cell_type": "code",
   "execution_count": 19,
   "metadata": {},
   "outputs": [],
   "source": [
    "library(ggplot2)"
   ]
  },
  {
   "cell_type": "code",
   "execution_count": 20,
   "metadata": {},
   "outputs": [],
   "source": [
    "rownames(table) = c('1,25-(OH)2D', 'Race', 'Site', 'Antidepressent Use',\n",
    "                    '25(OH)D', 'Oral Antibiotic Use', 'Total Starch Intake', 'Laxative Use',\n",
    "                    'Age', 'Statin Use', 'Physical Activity Score')"
   ]
  },
  {
   "cell_type": "code",
   "execution_count": 22,
   "metadata": {},
   "outputs": [
    {
     "data": {},
     "metadata": {},
     "output_type": "display_data"
    },
    {
     "data": {
      "text/html": [
       "<strong>pdf:</strong> 2"
      ],
      "text/latex": [
       "\\textbf{pdf:} 2"
      ],
      "text/markdown": [
       "**pdf:** 2"
      ],
      "text/plain": [
       "pdf \n",
       "  2 "
      ]
     },
     "metadata": {},
     "output_type": "display_data"
    }
   ],
   "source": [
    "library(ggplot2)\n",
    "pdf('../figures/RDA_beta_uw.pdf')\n",
    "covariates = rownames(table)\n",
    "ggplot(table, aes(x=reorder(covariates, ES.RDA), y=ES.RDA, fill=covariates)) +\n",
    "  labs(x = 'Non-redundant Covariants', y = 'Effect Size (Unweighted UniFrac)') +\n",
    "  geom_bar(stat='identity') +\n",
    " theme(axis.text=element_text(size=14, face='bold'), \n",
    "       axis.title=element_text(size=17,face=\"bold\"), \n",
    "       legend.position=\"none\") + \n",
    "  coord_flip()\n",
    "dev.off()"
   ]
  }
 ],
 "metadata": {
  "kernelspec": {
   "display_name": "R",
   "language": "R",
   "name": "ir"
  },
  "language_info": {
   "codemirror_mode": "r",
   "file_extension": ".r",
   "mimetype": "text/x-r-source",
   "name": "R",
   "pygments_lexer": "r",
   "version": "3.5.0"
  }
 },
 "nbformat": 4,
 "nbformat_minor": 2
}
