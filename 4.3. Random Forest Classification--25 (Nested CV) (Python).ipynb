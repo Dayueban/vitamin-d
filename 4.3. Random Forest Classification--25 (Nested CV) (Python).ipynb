{
 "cells": [
  {
   "cell_type": "markdown",
   "metadata": {},
   "source": [
    "### This notebook is to perform random forest classification on 25-(OH)D"
   ]
  },
  {
   "cell_type": "code",
   "execution_count": 1,
   "metadata": {},
   "outputs": [],
   "source": [
    "import numpy as np\n",
    "import pandas as pd\n",
    "from scipy import interp\n",
    "import matplotlib.pyplot as plt\n",
    "from itertools import cycle\n",
    "\n",
    "from sklearn.metrics import roc_curve, auc\n",
    "from sklearn.model_selection import StratifiedKFold, GridSearchCV, ParameterGrid\n",
    "from sklearn.ensemble import RandomForestClassifier\n",
    "from nested_cv import NestedCV\n",
    "from sklearn.metrics import roc_auc_score"
   ]
  },
  {
   "cell_type": "code",
   "execution_count": 2,
   "metadata": {},
   "outputs": [],
   "source": [
    "taxa = pd.read_csv('../data/57316_deblur_taxonomy/taxonomy.tsv', sep='\\t', index_col='Feature ID')"
   ]
  },
  {
   "cell_type": "code",
   "execution_count": 3,
   "metadata": {},
   "outputs": [
    {
     "data": {
      "text/html": [
       "<div>\n",
       "<style scoped>\n",
       "    .dataframe tbody tr th:only-of-type {\n",
       "        vertical-align: middle;\n",
       "    }\n",
       "\n",
       "    .dataframe tbody tr th {\n",
       "        vertical-align: top;\n",
       "    }\n",
       "\n",
       "    .dataframe thead th {\n",
       "        text-align: right;\n",
       "    }\n",
       "</style>\n",
       "<table border=\"1\" class=\"dataframe\">\n",
       "  <thead>\n",
       "    <tr style=\"text-align: right;\">\n",
       "      <th></th>\n",
       "      <th>Taxon</th>\n",
       "      <th>Confidence</th>\n",
       "    </tr>\n",
       "    <tr>\n",
       "      <th>Feature ID</th>\n",
       "      <th></th>\n",
       "      <th></th>\n",
       "    </tr>\n",
       "  </thead>\n",
       "  <tbody>\n",
       "    <tr>\n",
       "      <th>TACGGAAGGTCCGGGCGTTATCCGGATTTATTGGGTTTAAAGGGAGCGTAGGCCGGAGATTAAGCGTGTTGTGAAATGTAGACGCTCAACGTCTGCACTGCAGCGCGAACTGGTTTCCTTGAGTACGCACAAAGTGGGCGGAATTCGTGG</th>\n",
       "      <td>k__Bacteria; p__Bacteroidetes; c__Bacteroidia;...</td>\n",
       "      <td>1.000000</td>\n",
       "    </tr>\n",
       "    <tr>\n",
       "      <th>TACGGAAGGTCCGGGCGTTATCCGGATTTATTGGGTTTAAAGGGAGCGTAGGCCGGAGATTAAGCGTGTTGTGAAATGTAGATGCTCAACATCTGCACTGCAGCGCGAACTGGTTTCCTTGAGTACGCACAAAGTGGGCGGAATTCGTGG</th>\n",
       "      <td>k__Bacteria; p__Bacteroidetes; c__Bacteroidia;...</td>\n",
       "      <td>1.000000</td>\n",
       "    </tr>\n",
       "    <tr>\n",
       "      <th>TACGGAAGGTCCAGGCGTTATCCGGATTTATTGGGTTTAAAGGGAGCGCAGGCGGCGGCGTAAGTCAGTTGTGAAATCGTGCGGCTTAACCGTGCAATTGCAGTTGATACTGCGTCGCTTGAGTGCACACAGGGATGTTGGAATTCATGG</th>\n",
       "      <td>k__Bacteria; p__Bacteroidetes; c__Bacteroidia;...</td>\n",
       "      <td>1.000000</td>\n",
       "    </tr>\n",
       "    <tr>\n",
       "      <th>TACGGAAGGTCCGGGCGTTATCCGGATTTATTGGGTTTAAAGGGAGCGTAGGCCGGAGATTAAGCGTGTTGTGAAATGTAGAGGCTCAACCTCTGCACTGCAGCGCGAACTGGTCTTCTTGAGTACGCACAACGTGGGCGGAATTCGTGG</th>\n",
       "      <td>k__Bacteria; p__Bacteroidetes; c__Bacteroidia;...</td>\n",
       "      <td>0.999998</td>\n",
       "    </tr>\n",
       "    <tr>\n",
       "      <th>TACGGAAGGTCCGGGCGTTATCCGGATTTATTGGGTTTAAAGGGAGCGTAGGCCGTTTGTTAAGCGTGTTGTGAAATGTCGGGGCTCAACCTGGGCATTGCAGCGCGAACTGGCAGACTTGAGTGCGCGGGAAGTAGGCGGAATTCGTCG</th>\n",
       "      <td>k__Bacteria; p__Bacteroidetes; c__Bacteroidia;...</td>\n",
       "      <td>0.999991</td>\n",
       "    </tr>\n",
       "  </tbody>\n",
       "</table>\n",
       "</div>"
      ],
      "text/plain": [
       "                                                                                                Taxon  \\\n",
       "Feature ID                                                                                              \n",
       "TACGGAAGGTCCGGGCGTTATCCGGATTTATTGGGTTTAAAGGGAGC...  k__Bacteria; p__Bacteroidetes; c__Bacteroidia;...   \n",
       "TACGGAAGGTCCGGGCGTTATCCGGATTTATTGGGTTTAAAGGGAGC...  k__Bacteria; p__Bacteroidetes; c__Bacteroidia;...   \n",
       "TACGGAAGGTCCAGGCGTTATCCGGATTTATTGGGTTTAAAGGGAGC...  k__Bacteria; p__Bacteroidetes; c__Bacteroidia;...   \n",
       "TACGGAAGGTCCGGGCGTTATCCGGATTTATTGGGTTTAAAGGGAGC...  k__Bacteria; p__Bacteroidetes; c__Bacteroidia;...   \n",
       "TACGGAAGGTCCGGGCGTTATCCGGATTTATTGGGTTTAAAGGGAGC...  k__Bacteria; p__Bacteroidetes; c__Bacteroidia;...   \n",
       "\n",
       "                                                    Confidence  \n",
       "Feature ID                                                      \n",
       "TACGGAAGGTCCGGGCGTTATCCGGATTTATTGGGTTTAAAGGGAGC...    1.000000  \n",
       "TACGGAAGGTCCGGGCGTTATCCGGATTTATTGGGTTTAAAGGGAGC...    1.000000  \n",
       "TACGGAAGGTCCAGGCGTTATCCGGATTTATTGGGTTTAAAGGGAGC...    1.000000  \n",
       "TACGGAAGGTCCGGGCGTTATCCGGATTTATTGGGTTTAAAGGGAGC...    0.999998  \n",
       "TACGGAAGGTCCGGGCGTTATCCGGATTTATTGGGTTTAAAGGGAGC...    0.999991  "
      ]
     },
     "execution_count": 3,
     "metadata": {},
     "output_type": "execute_result"
    }
   ],
   "source": [
    "taxa.head()"
   ]
  },
  {
   "cell_type": "code",
   "execution_count": 4,
   "metadata": {},
   "outputs": [],
   "source": [
    "mf = pd.read_csv('../data/mros_mapping_alpha.txt', sep='\\t', index_col='#SampleID')"
   ]
  },
  {
   "cell_type": "code",
   "execution_count": 5,
   "metadata": {},
   "outputs": [
    {
     "data": {
      "text/html": [
       "<div>\n",
       "<style scoped>\n",
       "    .dataframe tbody tr th:only-of-type {\n",
       "        vertical-align: middle;\n",
       "    }\n",
       "\n",
       "    .dataframe tbody tr th {\n",
       "        vertical-align: top;\n",
       "    }\n",
       "\n",
       "    .dataframe thead th {\n",
       "        text-align: right;\n",
       "    }\n",
       "</style>\n",
       "<table border=\"1\" class=\"dataframe\">\n",
       "  <thead>\n",
       "    <tr style=\"text-align: right;\">\n",
       "      <th></th>\n",
       "      <th>BarcodeSequence</th>\n",
       "      <th>LinkerPrimerSequence</th>\n",
       "      <th>Experiment_Design_Description</th>\n",
       "      <th>Library_Construction_Protocol</th>\n",
       "      <th>Linker</th>\n",
       "      <th>Platform</th>\n",
       "      <th>Center_Name</th>\n",
       "      <th>Center_Project</th>\n",
       "      <th>Instrument_Model</th>\n",
       "      <th>Title</th>\n",
       "      <th>...</th>\n",
       "      <th>ratio_catabolism</th>\n",
       "      <th>QLCOMP</th>\n",
       "      <th>M1STATIN</th>\n",
       "      <th>Antihistamine</th>\n",
       "      <th>Laxative</th>\n",
       "      <th>MIDATA</th>\n",
       "      <th>Rstarch_total</th>\n",
       "      <th>Rstarches_c</th>\n",
       "      <th>M1PPUMP</th>\n",
       "      <th>alpha_pd</th>\n",
       "    </tr>\n",
       "    <tr>\n",
       "      <th>#SampleID</th>\n",
       "      <th></th>\n",
       "      <th></th>\n",
       "      <th></th>\n",
       "      <th></th>\n",
       "      <th></th>\n",
       "      <th></th>\n",
       "      <th></th>\n",
       "      <th></th>\n",
       "      <th></th>\n",
       "      <th></th>\n",
       "      <th></th>\n",
       "      <th></th>\n",
       "      <th></th>\n",
       "      <th></th>\n",
       "      <th></th>\n",
       "      <th></th>\n",
       "      <th></th>\n",
       "      <th></th>\n",
       "      <th></th>\n",
       "      <th></th>\n",
       "      <th></th>\n",
       "    </tr>\n",
       "  </thead>\n",
       "  <tbody>\n",
       "    <tr>\n",
       "      <th>BI0023</th>\n",
       "      <td>TCTGGTGACATT</td>\n",
       "      <td>GGACTACHVGGGTWTCTAAT</td>\n",
       "      <td>16S stool samples sequenced for MrOS Vitamin D...</td>\n",
       "      <td>16S rRNA v4</td>\n",
       "      <td>GT</td>\n",
       "      <td>Illumina</td>\n",
       "      <td>BI</td>\n",
       "      <td>MrOS</td>\n",
       "      <td>Illumina MiSeq</td>\n",
       "      <td>MrOS_VitaminD</td>\n",
       "      <td>...</td>\n",
       "      <td>0.068605</td>\n",
       "      <td>1:GOOD/EXCELLENT</td>\n",
       "      <td>0: No</td>\n",
       "      <td>0:No</td>\n",
       "      <td>0:No</td>\n",
       "      <td>1: Yes</td>\n",
       "      <td>3.066569</td>\n",
       "      <td>0.0</td>\n",
       "      <td>0: No</td>\n",
       "      <td>30.021398</td>\n",
       "    </tr>\n",
       "    <tr>\n",
       "      <th>BI0056</th>\n",
       "      <td>CAAGCATGCCTA</td>\n",
       "      <td>GGACTACHVGGGTWTCTAAT</td>\n",
       "      <td>16S stool samples sequenced for MrOS Vitamin D...</td>\n",
       "      <td>16S rRNA v4</td>\n",
       "      <td>GT</td>\n",
       "      <td>Illumina</td>\n",
       "      <td>BI</td>\n",
       "      <td>MrOS</td>\n",
       "      <td>Illumina MiSeq</td>\n",
       "      <td>MrOS_VitaminD</td>\n",
       "      <td>...</td>\n",
       "      <td>0.099745</td>\n",
       "      <td>1:GOOD/EXCELLENT</td>\n",
       "      <td>0: No</td>\n",
       "      <td>0:No</td>\n",
       "      <td>0:No</td>\n",
       "      <td>1: Yes</td>\n",
       "      <td>3.038136</td>\n",
       "      <td>0.0</td>\n",
       "      <td>1: Yes</td>\n",
       "      <td>18.414977</td>\n",
       "    </tr>\n",
       "    <tr>\n",
       "      <th>BI0131</th>\n",
       "      <td>CTATTTGCGACA</td>\n",
       "      <td>GGACTACHVGGGTWTCTAAT</td>\n",
       "      <td>16S stool samples sequenced for MrOS Vitamin D...</td>\n",
       "      <td>16S rRNA v4</td>\n",
       "      <td>GT</td>\n",
       "      <td>Illumina</td>\n",
       "      <td>BI</td>\n",
       "      <td>MrOS</td>\n",
       "      <td>Illumina MiSeq</td>\n",
       "      <td>MrOS_VitaminD</td>\n",
       "      <td>...</td>\n",
       "      <td>0.064502</td>\n",
       "      <td>1:GOOD/EXCELLENT</td>\n",
       "      <td>1: Yes</td>\n",
       "      <td>0:No</td>\n",
       "      <td>0:No</td>\n",
       "      <td>1: Yes</td>\n",
       "      <td>2.840599</td>\n",
       "      <td>0.0</td>\n",
       "      <td>0: No</td>\n",
       "      <td>25.756952</td>\n",
       "    </tr>\n",
       "    <tr>\n",
       "      <th>BI0153</th>\n",
       "      <td>ATCGGCGTTACA</td>\n",
       "      <td>GGACTACHVGGGTWTCTAAT</td>\n",
       "      <td>16S stool samples sequenced for MrOS Vitamin D...</td>\n",
       "      <td>16S rRNA v4</td>\n",
       "      <td>GT</td>\n",
       "      <td>Illumina</td>\n",
       "      <td>BI</td>\n",
       "      <td>MrOS</td>\n",
       "      <td>Illumina MiSeq</td>\n",
       "      <td>MrOS_VitaminD</td>\n",
       "      <td>...</td>\n",
       "      <td>0.078388</td>\n",
       "      <td>1:GOOD/EXCELLENT</td>\n",
       "      <td>1: Yes</td>\n",
       "      <td>0:No</td>\n",
       "      <td>0:No</td>\n",
       "      <td>1: Yes</td>\n",
       "      <td>4.106798</td>\n",
       "      <td>0.0</td>\n",
       "      <td>0: No</td>\n",
       "      <td>20.167914</td>\n",
       "    </tr>\n",
       "    <tr>\n",
       "      <th>BI0215</th>\n",
       "      <td>CCTCTCGTGATC</td>\n",
       "      <td>GGACTACHVGGGTWTCTAAT</td>\n",
       "      <td>16S stool samples sequenced for MrOS Vitamin D...</td>\n",
       "      <td>16S rRNA v4</td>\n",
       "      <td>GT</td>\n",
       "      <td>Illumina</td>\n",
       "      <td>BI</td>\n",
       "      <td>MrOS</td>\n",
       "      <td>Illumina MiSeq</td>\n",
       "      <td>MrOS_VitaminD</td>\n",
       "      <td>...</td>\n",
       "      <td>0.109697</td>\n",
       "      <td>1:GOOD/EXCELLENT</td>\n",
       "      <td>0: No</td>\n",
       "      <td>0:No</td>\n",
       "      <td>0:No</td>\n",
       "      <td>1: Yes</td>\n",
       "      <td>0.971114</td>\n",
       "      <td>0.0</td>\n",
       "      <td>0: No</td>\n",
       "      <td>20.714331</td>\n",
       "    </tr>\n",
       "  </tbody>\n",
       "</table>\n",
       "<p>5 rows × 75 columns</p>\n",
       "</div>"
      ],
      "text/plain": [
       "          BarcodeSequence  LinkerPrimerSequence  \\\n",
       "#SampleID                                         \n",
       "BI0023       TCTGGTGACATT  GGACTACHVGGGTWTCTAAT   \n",
       "BI0056       CAAGCATGCCTA  GGACTACHVGGGTWTCTAAT   \n",
       "BI0131       CTATTTGCGACA  GGACTACHVGGGTWTCTAAT   \n",
       "BI0153       ATCGGCGTTACA  GGACTACHVGGGTWTCTAAT   \n",
       "BI0215       CCTCTCGTGATC  GGACTACHVGGGTWTCTAAT   \n",
       "\n",
       "                               Experiment_Design_Description  \\\n",
       "#SampleID                                                      \n",
       "BI0023     16S stool samples sequenced for MrOS Vitamin D...   \n",
       "BI0056     16S stool samples sequenced for MrOS Vitamin D...   \n",
       "BI0131     16S stool samples sequenced for MrOS Vitamin D...   \n",
       "BI0153     16S stool samples sequenced for MrOS Vitamin D...   \n",
       "BI0215     16S stool samples sequenced for MrOS Vitamin D...   \n",
       "\n",
       "          Library_Construction_Protocol Linker  Platform Center_Name  \\\n",
       "#SampleID                                                              \n",
       "BI0023                      16S rRNA v4     GT  Illumina          BI   \n",
       "BI0056                      16S rRNA v4     GT  Illumina          BI   \n",
       "BI0131                      16S rRNA v4     GT  Illumina          BI   \n",
       "BI0153                      16S rRNA v4     GT  Illumina          BI   \n",
       "BI0215                      16S rRNA v4     GT  Illumina          BI   \n",
       "\n",
       "          Center_Project Instrument_Model          Title  ...  \\\n",
       "#SampleID                                                 ...   \n",
       "BI0023              MrOS   Illumina MiSeq  MrOS_VitaminD  ...   \n",
       "BI0056              MrOS   Illumina MiSeq  MrOS_VitaminD  ...   \n",
       "BI0131              MrOS   Illumina MiSeq  MrOS_VitaminD  ...   \n",
       "BI0153              MrOS   Illumina MiSeq  MrOS_VitaminD  ...   \n",
       "BI0215              MrOS   Illumina MiSeq  MrOS_VitaminD  ...   \n",
       "\n",
       "          ratio_catabolism            QLCOMP M1STATIN Antihistamine Laxative  \\\n",
       "#SampleID                                                                      \n",
       "BI0023            0.068605  1:GOOD/EXCELLENT    0: No          0:No     0:No   \n",
       "BI0056            0.099745  1:GOOD/EXCELLENT    0: No          0:No     0:No   \n",
       "BI0131            0.064502  1:GOOD/EXCELLENT   1: Yes          0:No     0:No   \n",
       "BI0153            0.078388  1:GOOD/EXCELLENT   1: Yes          0:No     0:No   \n",
       "BI0215            0.109697  1:GOOD/EXCELLENT    0: No          0:No     0:No   \n",
       "\n",
       "           MIDATA Rstarch_total Rstarches_c M1PPUMP   alpha_pd  \n",
       "#SampleID                                                       \n",
       "BI0023     1: Yes      3.066569         0.0   0: No  30.021398  \n",
       "BI0056     1: Yes      3.038136         0.0  1: Yes  18.414977  \n",
       "BI0131     1: Yes      2.840599         0.0   0: No  25.756952  \n",
       "BI0153     1: Yes      4.106798         0.0   0: No  20.167914  \n",
       "BI0215     1: Yes      0.971114         0.0   0: No  20.714331  \n",
       "\n",
       "[5 rows x 75 columns]"
      ]
     },
     "execution_count": 5,
     "metadata": {},
     "output_type": "execute_result"
    }
   ],
   "source": [
    "mf.head()"
   ]
  },
  {
   "cell_type": "code",
   "execution_count": 6,
   "metadata": {},
   "outputs": [
    {
     "data": {
      "text/plain": [
       "(598, 6)"
      ]
     },
     "execution_count": 6,
     "metadata": {},
     "output_type": "execute_result"
    }
   ],
   "source": [
    "# create extreme categories on Vitamin D measurements\n",
    "mf = mf[['OHV1D3', 'OHV24D3', 'OHVD3', 'ratio_activation', 'ratio_catabolism', 'VDstatus']]\n",
    "mf.shape"
   ]
  },
  {
   "cell_type": "code",
   "execution_count": 7,
   "metadata": {},
   "outputs": [
    {
     "data": {
      "text/html": [
       "<div>\n",
       "<style scoped>\n",
       "    .dataframe tbody tr th:only-of-type {\n",
       "        vertical-align: middle;\n",
       "    }\n",
       "\n",
       "    .dataframe tbody tr th {\n",
       "        vertical-align: top;\n",
       "    }\n",
       "\n",
       "    .dataframe thead th {\n",
       "        text-align: right;\n",
       "    }\n",
       "</style>\n",
       "<table border=\"1\" class=\"dataframe\">\n",
       "  <thead>\n",
       "    <tr style=\"text-align: right;\">\n",
       "      <th></th>\n",
       "      <th>OHV1D3</th>\n",
       "      <th>OHV24D3</th>\n",
       "      <th>OHVD3</th>\n",
       "      <th>ratio_activation</th>\n",
       "      <th>ratio_catabolism</th>\n",
       "    </tr>\n",
       "  </thead>\n",
       "  <tbody>\n",
       "    <tr>\n",
       "      <th>count</th>\n",
       "      <td>566.000000</td>\n",
       "      <td>566.000000</td>\n",
       "      <td>555.000000</td>\n",
       "      <td>555.000000</td>\n",
       "      <td>555.000000</td>\n",
       "    </tr>\n",
       "    <tr>\n",
       "      <th>mean</th>\n",
       "      <td>0.057802</td>\n",
       "      <td>3.431343</td>\n",
       "      <td>35.224865</td>\n",
       "      <td>0.001774</td>\n",
       "      <td>0.094795</td>\n",
       "    </tr>\n",
       "    <tr>\n",
       "      <th>std</th>\n",
       "      <td>0.019780</td>\n",
       "      <td>1.836358</td>\n",
       "      <td>12.461583</td>\n",
       "      <td>0.000735</td>\n",
       "      <td>0.029794</td>\n",
       "    </tr>\n",
       "    <tr>\n",
       "      <th>min</th>\n",
       "      <td>0.010700</td>\n",
       "      <td>0.300000</td>\n",
       "      <td>7.800000</td>\n",
       "      <td>0.000398</td>\n",
       "      <td>0.018788</td>\n",
       "    </tr>\n",
       "    <tr>\n",
       "      <th>25%</th>\n",
       "      <td>0.044125</td>\n",
       "      <td>2.167500</td>\n",
       "      <td>27.400000</td>\n",
       "      <td>0.001319</td>\n",
       "      <td>0.074162</td>\n",
       "    </tr>\n",
       "    <tr>\n",
       "      <th>50%</th>\n",
       "      <td>0.055500</td>\n",
       "      <td>3.185000</td>\n",
       "      <td>33.600000</td>\n",
       "      <td>0.001661</td>\n",
       "      <td>0.092838</td>\n",
       "    </tr>\n",
       "    <tr>\n",
       "      <th>75%</th>\n",
       "      <td>0.066350</td>\n",
       "      <td>4.237500</td>\n",
       "      <td>41.850000</td>\n",
       "      <td>0.002081</td>\n",
       "      <td>0.113049</td>\n",
       "    </tr>\n",
       "    <tr>\n",
       "      <th>max</th>\n",
       "      <td>0.156000</td>\n",
       "      <td>14.070000</td>\n",
       "      <td>104.000000</td>\n",
       "      <td>0.006727</td>\n",
       "      <td>0.197786</td>\n",
       "    </tr>\n",
       "  </tbody>\n",
       "</table>\n",
       "</div>"
      ],
      "text/plain": [
       "           OHV1D3     OHV24D3       OHVD3  ratio_activation  ratio_catabolism\n",
       "count  566.000000  566.000000  555.000000        555.000000        555.000000\n",
       "mean     0.057802    3.431343   35.224865          0.001774          0.094795\n",
       "std      0.019780    1.836358   12.461583          0.000735          0.029794\n",
       "min      0.010700    0.300000    7.800000          0.000398          0.018788\n",
       "25%      0.044125    2.167500   27.400000          0.001319          0.074162\n",
       "50%      0.055500    3.185000   33.600000          0.001661          0.092838\n",
       "75%      0.066350    4.237500   41.850000          0.002081          0.113049\n",
       "max      0.156000   14.070000  104.000000          0.006727          0.197786"
      ]
     },
     "execution_count": 7,
     "metadata": {},
     "output_type": "execute_result"
    }
   ],
   "source": [
    "mf.describe()"
   ]
  },
  {
   "cell_type": "code",
   "execution_count": 8,
   "metadata": {},
   "outputs": [
    {
     "name": "stderr",
     "output_type": "stream",
     "text": [
      "/Users/ssun/miniconda3/envs/python3-new/lib/python3.6/site-packages/ipykernel_launcher.py:1: MatplotlibDeprecationWarning: \n",
      "The 'normed' kwarg was deprecated in Matplotlib 2.1 and will be removed in 3.1. Use 'density' instead.\n",
      "  \"\"\"Entry point for launching an IPython kernel.\n"
     ]
    },
    {
     "data": {
      "text/plain": [
       "<matplotlib.lines.Line2D at 0x106e909e8>"
      ]
     },
     "execution_count": 8,
     "metadata": {},
     "output_type": "execute_result"
    },
    {
     "data": {
      "image/png": "[encoded data removed]",
      "text/plain": [
       "<Figure size 432x288 with 1 Axes>"
      ]
     },
     "metadata": {
      "needs_background": "light"
     },
     "output_type": "display_data"
    }
   ],
   "source": [
    "n, bins, patches = plt.hist(mf.OHVD3.dropna(), 50, normed=1, facecolor='green')\n",
    "plt.axvline(x=mf['OHVD3'].quantile([0.10]).values, color='r')\n",
    "plt.axvline(x=mf['OHVD3'].quantile([0.90]).values, color='r')"
   ]
  },
  {
   "cell_type": "code",
   "execution_count": 9,
   "metadata": {},
   "outputs": [],
   "source": [
    "q1 = mf['OHVD3'].quantile([0.10]).values\n",
    "q3 = mf['OHVD3'].quantile([0.90]).values\n",
    "def VD3_extreme(x):\n",
    "    if (x <= q1):\n",
    "        return(0)\n",
    "    elif (x >= q3):\n",
    "        return(1)\n",
    "    else:\n",
    "        return('NaN')\n",
    "mf['VD3_cat'] = mf['OHVD3'].apply(VD3_extreme)"
   ]
  },
  {
   "cell_type": "code",
   "execution_count": 10,
   "metadata": {},
   "outputs": [
    {
     "data": {
      "text/plain": [
       "NaN    485\n",
       "0       57\n",
       "1       56\n",
       "Name: VD3_cat, dtype: int64"
      ]
     },
     "execution_count": 10,
     "metadata": {},
     "output_type": "execute_result"
    }
   ],
   "source": [
    "mf['VD3_cat'].value_counts()"
   ]
  },
  {
   "cell_type": "code",
   "execution_count": 11,
   "metadata": {},
   "outputs": [],
   "source": [
    "table = pd.read_csv('../data/57316_mros_otus_rare_exp/57316_feature-table-rare.txt', sep='\\t', skiprows = 1, index_col = \"#OTU ID\").transpose()"
   ]
  },
  {
   "cell_type": "code",
   "execution_count": 12,
   "metadata": {},
   "outputs": [
    {
     "data": {
      "text/plain": [
       "(598, 25292)"
      ]
     },
     "execution_count": 12,
     "metadata": {},
     "output_type": "execute_result"
    }
   ],
   "source": [
    "table.shape"
   ]
  },
  {
   "cell_type": "code",
   "execution_count": 13,
   "metadata": {},
   "outputs": [
    {
     "data": {
      "text/plain": [
       "Index(['BI0023', 'BI0056', 'BI0131', 'BI0153', 'BI0215', 'BI0353', 'BI0371',\n",
       "       'BI0372', 'BI0380', 'BI0389',\n",
       "       ...\n",
       "       'SD8954', 'SD8964', 'SD8966', 'SD8972', 'SD8973', 'SD8985', 'SD8996',\n",
       "       'SD8999', 'SD9003', 'SD9009'],\n",
       "      dtype='object', name='#SampleID', length=598)"
      ]
     },
     "execution_count": 13,
     "metadata": {},
     "output_type": "execute_result"
    }
   ],
   "source": [
    "## match metadata and OTU table by sampleID\n",
    "sample_ids = mf.index\n",
    "sample_ids"
   ]
  },
  {
   "cell_type": "code",
   "execution_count": 14,
   "metadata": {},
   "outputs": [],
   "source": [
    "table = table.loc[sample_ids] # order rows in same order as matrix's rows (sampleIDs)"
   ]
  },
  {
   "cell_type": "code",
   "execution_count": 15,
   "metadata": {},
   "outputs": [
    {
     "data": {
      "text/html": [
       "<div>\n",
       "<style scoped>\n",
       "    .dataframe tbody tr th:only-of-type {\n",
       "        vertical-align: middle;\n",
       "    }\n",
       "\n",
       "    .dataframe tbody tr th {\n",
       "        vertical-align: top;\n",
       "    }\n",
       "\n",
       "    .dataframe thead th {\n",
       "        text-align: right;\n",
       "    }\n",
       "</style>\n",
       "<table border=\"1\" class=\"dataframe\">\n",
       "  <thead>\n",
       "    <tr style=\"text-align: right;\">\n",
       "      <th>#OTU ID</th>\n",
       "      <th>TACGGAAGGTCCGGGCGTTATCCGGATTTATTGGGTTTAAAGGGAGCGTAGGCCGGAGATTAAGCGTGTTGTGAAATGTAGACGCTCAACGTCTGCACTGCAGCGCGAACTGGTTTCCTTGAGTACGCACAAAGTGGGCGGAATTCGTGG</th>\n",
       "      <th>TACGGAAGGTCCGGGCGTTATCCGGATTTATTGGGTTTAAAGGGAGCGTAGGCCGGAGATTAAGCGTGTTGTGAAATGTAGATGCTCAACATCTGCACTGCAGCGCGAACTGGTTTCCTTGAGTACGCACAAAGTGGGCGGAATTCGTGG</th>\n",
       "      <th>TACGGAAGGTCCAGGCGTTATCCGGATTTATTGGGTTTAAAGGGAGCGCAGGCGGCGGCGTAAGTCAGTTGTGAAATCGTGCGGCTTAACCGTGCAATTGCAGTTGATACTGCGTCGCTTGAGTGCACACAGGGATGTTGGAATTCATGG</th>\n",
       "      <th>TACGGAAGGTCCGGGCGTTATCCGGATTTATTGGGTTTAAAGGGAGCGTAGGCCGGAGATTAAGCGTGTTGTGAAATGTAGAGGCTCAACCTCTGCACTGCAGCGCGAACTGGTCTTCTTGAGTACGCACAACGTGGGCGGAATTCGTGG</th>\n",
       "      <th>TACGGAAGGTCCGGGCGTTATCCGGATTTATTGGGTTTAAAGGGAGCGTAGGCCGTTTGTTAAGCGTGTTGTGAAATGTCGGGGCTCAACCTGGGCATTGCAGCGCGAACTGGCAGACTTGAGTGCGCGGGAAGTAGGCGGAATTCGTCG</th>\n",
       "      <th>AACGTAGGTCACAAGCGTTGTCCGGAATTACTGGGTGTAAAGGGAGCGCAGGCGGGAAGACAAGTTGGAAGTGAAATCCATGGGCTCAACCCATGAACTGCTTTCAAAACTGTTTTTCTTGAGTAGTGCAGAGGTAGGCGGAATTCCCGG</th>\n",
       "      <th>TACGGAAGGTCCGGGCGTTATCCGGATTTATTGGGTTTAAAGGGAGCGTAGGCCGCAGGTTAAGCGTGTTGTGAAATGTAGGGGCTCAACCTCTGCACTGCAGCGCGAACTGGCTTGCTTGAGTACGCACAACGTGGGCGGAATTCGTGG</th>\n",
       "      <th>TACGGAAGGTCCGGGCGTTATCCGGATTTATTGGGTTTAAAGGGAGCGTAGGCCGTCTTATAAGCGTGTTGTGAAATGTCGGGGCTCAACCTGGGCATTGCAGCGCGAACTGTGAGACTTGAGTGCGCAGGAAGTAGGCGGAATTCGTCG</th>\n",
       "      <th>TACGGAAGGTCCGGGCGTTATCCGGATTTATTGGGTTTAAAGGGAGCGTAGGCCGGAGATTAAGCGTGTTGTGAAATGTAGATGCTCAACATCTGAACTGCAGCGCGAACTGGTTTCCTTGAGTACGCACAAAGTGGGCGGAATTCGTGG</th>\n",
       "      <th>TACGGAGGATCCGAGCGTTATCCGGATTTATTGGGTTTAAAGGGAGCGTAGATGGATGTTTAAGTCAGTTGTGAAAGTTTGCGGCTCAACCGTAAAATTGCAGTTGATACTGGATATCTTGAGTGCAGTTGAGGCAGGCGGAATTCGTGG</th>\n",
       "      <th>...</th>\n",
       "      <th>TACGTATGGAGCAAGCGTTGTCCGGATTTACTGGGTGTAAAGGGCGTGTAGCCGGGAGGGCAAGTCAGATGTGAAATCCACGGGCTCAACTCGTGAACTGCATTGGAAACTGTCGTACTAGAGTGTCGGAGGGGTAAGCGGAATTCCTAG</th>\n",
       "      <th>TACGTATGGTGCAAGCGTTATCCGGATTTACTGGGTGTAAAGGGAGCGTAGACGGATAGGCAAGTCTGGAGTGAAAACCCAGGGCTCAACCCTGGGACTGCTTTGGAAACTGCAGATCTGGAGTGCTGGAGAGGTAAGCGGAATTCCTAG</th>\n",
       "      <th>TACGGAGGGGGCAAGCGTTATCCGGAATTATTGGGCGTAAAGGGTACGTAGGTGGCCTTTTAAGCGTAGGGTATAAGGCAATGGCCCAACCATTGTTCGCCCTATGAACTGGAAGGCTTGAGTGCAGGAGAGGAAAGCGGAATTCCTAGT</th>\n",
       "      <th>TACGTAGGGGGCAAGCGTTGTCCGGAATGACTGGGCGTAAAGGGAGTGTAGGCGGCTTGGCAAGTTAGATGTGAAAGCCCGCAGCTCAACTGCGGAACTGCATCTAAAACTGTCAGGCTTGAGTGCAGGAGAGGTAAGTGGAACTCCTAG</th>\n",
       "      <th>TACGTATGGTGCAAGCGTTATCCGGATTTACTGGGTGTAAAGGGTGCGTAGGCGGGATGGCAAGTCAGATGTGAAATACCGGGGCTTAACCCCGGGGCTGCATTTGAAACTGTCGTTCTTGAGTGAAGTAGAGGCAGGCGGAATTCCTAG</th>\n",
       "      <th>TACGTAGGGGGCGAGCGTTGTCCGGAATGACTGGGCGTAAAGGGCGTGTAGGCGGCCGATTAAGTGTGGAGTGAAAGTCCACTTGTCAAGGGTGGAATTGCTTTGCAGACTGGTTGGCTTGAGTGCGGAAGAGGTAAGTGGAATTCCCAG</th>\n",
       "      <th>TACGTAGGGGGCAAGCGTTATCCGGAATTACTGGGTGTAAAGGGTGCGTAGGCGGTACGGCAAGTTTGATGTGAAACCCATGGGCTTAACCCATGGCATGCATCGAAAACTACTGAACTAGAGTGCAGGAGAGGAGAGTGGAATTCCTAG</th>\n",
       "      <th>TACGGAGGGGGCAAGCGTTATCCGGATTTACTGGGTGTAAAGGGAGCGTAGACGGACTGGCAAGTCTGATGTGAAAGGCGCGGGCTCAACCCGCGGACGGCACATGATACTGCGAGACTAGAGTAATGGAGGGGGAACCGGAATTCTCGG</th>\n",
       "      <th>TACGTAGGGGGCAAGCGTTATCCGGATTTACTGGGTGTAAAGGGAGCGTAGACGGAAGAGCAAGTCTGATGTGAAAGGCTGGGGCTTAACCCCAGGACTGCATTGGAAACTGTTTTTCTTGAGTGCCGGAGAGGTAAGCGGAATTCTCGG</th>\n",
       "      <th>TACGTAGGGAGCGAGCGTTGTCCGGATTTACTGGGTGTAAAGGGAGCGTAGACGGAATGGCAAGTCTGATGTGAGAGGCCGGGGCTCAACCCCGGGACTGCATTGGAAACTGTCAATCTAGAGTACCGGAGGGGTAAGTGGAATTCCTAG</th>\n",
       "    </tr>\n",
       "    <tr>\n",
       "      <th>#SampleID</th>\n",
       "      <th></th>\n",
       "      <th></th>\n",
       "      <th></th>\n",
       "      <th></th>\n",
       "      <th></th>\n",
       "      <th></th>\n",
       "      <th></th>\n",
       "      <th></th>\n",
       "      <th></th>\n",
       "      <th></th>\n",
       "      <th></th>\n",
       "      <th></th>\n",
       "      <th></th>\n",
       "      <th></th>\n",
       "      <th></th>\n",
       "      <th></th>\n",
       "      <th></th>\n",
       "      <th></th>\n",
       "      <th></th>\n",
       "      <th></th>\n",
       "      <th></th>\n",
       "    </tr>\n",
       "  </thead>\n",
       "  <tbody>\n",
       "    <tr>\n",
       "      <th>BI0023</th>\n",
       "      <td>3.0</td>\n",
       "      <td>0.0</td>\n",
       "      <td>0.0</td>\n",
       "      <td>0.0</td>\n",
       "      <td>0.0</td>\n",
       "      <td>111.0</td>\n",
       "      <td>0.0</td>\n",
       "      <td>0.0</td>\n",
       "      <td>0.0</td>\n",
       "      <td>2181.0</td>\n",
       "      <td>...</td>\n",
       "      <td>0.0</td>\n",
       "      <td>0.0</td>\n",
       "      <td>0.0</td>\n",
       "      <td>0.0</td>\n",
       "      <td>0.0</td>\n",
       "      <td>0.0</td>\n",
       "      <td>0.0</td>\n",
       "      <td>0.0</td>\n",
       "      <td>0.0</td>\n",
       "      <td>0.0</td>\n",
       "    </tr>\n",
       "    <tr>\n",
       "      <th>BI0056</th>\n",
       "      <td>1.0</td>\n",
       "      <td>0.0</td>\n",
       "      <td>0.0</td>\n",
       "      <td>0.0</td>\n",
       "      <td>0.0</td>\n",
       "      <td>64.0</td>\n",
       "      <td>0.0</td>\n",
       "      <td>0.0</td>\n",
       "      <td>0.0</td>\n",
       "      <td>3718.0</td>\n",
       "      <td>...</td>\n",
       "      <td>0.0</td>\n",
       "      <td>0.0</td>\n",
       "      <td>0.0</td>\n",
       "      <td>0.0</td>\n",
       "      <td>0.0</td>\n",
       "      <td>0.0</td>\n",
       "      <td>0.0</td>\n",
       "      <td>0.0</td>\n",
       "      <td>0.0</td>\n",
       "      <td>0.0</td>\n",
       "    </tr>\n",
       "    <tr>\n",
       "      <th>BI0131</th>\n",
       "      <td>0.0</td>\n",
       "      <td>0.0</td>\n",
       "      <td>0.0</td>\n",
       "      <td>0.0</td>\n",
       "      <td>0.0</td>\n",
       "      <td>43.0</td>\n",
       "      <td>0.0</td>\n",
       "      <td>0.0</td>\n",
       "      <td>1.0</td>\n",
       "      <td>222.0</td>\n",
       "      <td>...</td>\n",
       "      <td>0.0</td>\n",
       "      <td>0.0</td>\n",
       "      <td>0.0</td>\n",
       "      <td>0.0</td>\n",
       "      <td>0.0</td>\n",
       "      <td>0.0</td>\n",
       "      <td>0.0</td>\n",
       "      <td>0.0</td>\n",
       "      <td>0.0</td>\n",
       "      <td>0.0</td>\n",
       "    </tr>\n",
       "    <tr>\n",
       "      <th>BI0153</th>\n",
       "      <td>1.0</td>\n",
       "      <td>1.0</td>\n",
       "      <td>0.0</td>\n",
       "      <td>0.0</td>\n",
       "      <td>0.0</td>\n",
       "      <td>220.0</td>\n",
       "      <td>0.0</td>\n",
       "      <td>0.0</td>\n",
       "      <td>0.0</td>\n",
       "      <td>217.0</td>\n",
       "      <td>...</td>\n",
       "      <td>0.0</td>\n",
       "      <td>0.0</td>\n",
       "      <td>0.0</td>\n",
       "      <td>0.0</td>\n",
       "      <td>0.0</td>\n",
       "      <td>0.0</td>\n",
       "      <td>0.0</td>\n",
       "      <td>0.0</td>\n",
       "      <td>0.0</td>\n",
       "      <td>0.0</td>\n",
       "    </tr>\n",
       "    <tr>\n",
       "      <th>BI0215</th>\n",
       "      <td>0.0</td>\n",
       "      <td>0.0</td>\n",
       "      <td>0.0</td>\n",
       "      <td>0.0</td>\n",
       "      <td>0.0</td>\n",
       "      <td>176.0</td>\n",
       "      <td>0.0</td>\n",
       "      <td>0.0</td>\n",
       "      <td>0.0</td>\n",
       "      <td>542.0</td>\n",
       "      <td>...</td>\n",
       "      <td>0.0</td>\n",
       "      <td>0.0</td>\n",
       "      <td>0.0</td>\n",
       "      <td>0.0</td>\n",
       "      <td>0.0</td>\n",
       "      <td>0.0</td>\n",
       "      <td>0.0</td>\n",
       "      <td>0.0</td>\n",
       "      <td>0.0</td>\n",
       "      <td>0.0</td>\n",
       "    </tr>\n",
       "  </tbody>\n",
       "</table>\n",
       "<p>5 rows × 25292 columns</p>\n",
       "</div>"
      ],
      "text/plain": [
       "#OTU ID    TACGGAAGGTCCGGGCGTTATCCGGATTTATTGGGTTTAAAGGGAGCGTAGGCCGGAGATTAAGCGTGTTGTGAAATGTAGACGCTCAACGTCTGCACTGCAGCGCGAACTGGTTTCCTTGAGTACGCACAAAGTGGGCGGAATTCGTGG  \\\n",
       "#SampleID                                                                                                                                                           \n",
       "BI0023                                                   3.0                                                                                                        \n",
       "BI0056                                                   1.0                                                                                                        \n",
       "BI0131                                                   0.0                                                                                                        \n",
       "BI0153                                                   1.0                                                                                                        \n",
       "BI0215                                                   0.0                                                                                                        \n",
       "\n",
       "#OTU ID    TACGGAAGGTCCGGGCGTTATCCGGATTTATTGGGTTTAAAGGGAGCGTAGGCCGGAGATTAAGCGTGTTGTGAAATGTAGATGCTCAACATCTGCACTGCAGCGCGAACTGGTTTCCTTGAGTACGCACAAAGTGGGCGGAATTCGTGG  \\\n",
       "#SampleID                                                                                                                                                           \n",
       "BI0023                                                   0.0                                                                                                        \n",
       "BI0056                                                   0.0                                                                                                        \n",
       "BI0131                                                   0.0                                                                                                        \n",
       "BI0153                                                   1.0                                                                                                        \n",
       "BI0215                                                   0.0                                                                                                        \n",
       "\n",
       "#OTU ID    TACGGAAGGTCCAGGCGTTATCCGGATTTATTGGGTTTAAAGGGAGCGCAGGCGGCGGCGTAAGTCAGTTGTGAAATCGTGCGGCTTAACCGTGCAATTGCAGTTGATACTGCGTCGCTTGAGTGCACACAGGGATGTTGGAATTCATGG  \\\n",
       "#SampleID                                                                                                                                                           \n",
       "BI0023                                                   0.0                                                                                                        \n",
       "BI0056                                                   0.0                                                                                                        \n",
       "BI0131                                                   0.0                                                                                                        \n",
       "BI0153                                                   0.0                                                                                                        \n",
       "BI0215                                                   0.0                                                                                                        \n",
       "\n",
       "#OTU ID    TACGGAAGGTCCGGGCGTTATCCGGATTTATTGGGTTTAAAGGGAGCGTAGGCCGGAGATTAAGCGTGTTGTGAAATGTAGAGGCTCAACCTCTGCACTGCAGCGCGAACTGGTCTTCTTGAGTACGCACAACGTGGGCGGAATTCGTGG  \\\n",
       "#SampleID                                                                                                                                                           \n",
       "BI0023                                                   0.0                                                                                                        \n",
       "BI0056                                                   0.0                                                                                                        \n",
       "BI0131                                                   0.0                                                                                                        \n",
       "BI0153                                                   0.0                                                                                                        \n",
       "BI0215                                                   0.0                                                                                                        \n",
       "\n",
       "#OTU ID    TACGGAAGGTCCGGGCGTTATCCGGATTTATTGGGTTTAAAGGGAGCGTAGGCCGTTTGTTAAGCGTGTTGTGAAATGTCGGGGCTCAACCTGGGCATTGCAGCGCGAACTGGCAGACTTGAGTGCGCGGGAAGTAGGCGGAATTCGTCG  \\\n",
       "#SampleID                                                                                                                                                           \n",
       "BI0023                                                   0.0                                                                                                        \n",
       "BI0056                                                   0.0                                                                                                        \n",
       "BI0131                                                   0.0                                                                                                        \n",
       "BI0153                                                   0.0                                                                                                        \n",
       "BI0215                                                   0.0                                                                                                        \n",
       "\n",
       "#OTU ID    AACGTAGGTCACAAGCGTTGTCCGGAATTACTGGGTGTAAAGGGAGCGCAGGCGGGAAGACAAGTTGGAAGTGAAATCCATGGGCTCAACCCATGAACTGCTTTCAAAACTGTTTTTCTTGAGTAGTGCAGAGGTAGGCGGAATTCCCGG  \\\n",
       "#SampleID                                                                                                                                                           \n",
       "BI0023                                                 111.0                                                                                                        \n",
       "BI0056                                                  64.0                                                                                                        \n",
       "BI0131                                                  43.0                                                                                                        \n",
       "BI0153                                                 220.0                                                                                                        \n",
       "BI0215                                                 176.0                                                                                                        \n",
       "\n",
       "#OTU ID    TACGGAAGGTCCGGGCGTTATCCGGATTTATTGGGTTTAAAGGGAGCGTAGGCCGCAGGTTAAGCGTGTTGTGAAATGTAGGGGCTCAACCTCTGCACTGCAGCGCGAACTGGCTTGCTTGAGTACGCACAACGTGGGCGGAATTCGTGG  \\\n",
       "#SampleID                                                                                                                                                           \n",
       "BI0023                                                   0.0                                                                                                        \n",
       "BI0056                                                   0.0                                                                                                        \n",
       "BI0131                                                   0.0                                                                                                        \n",
       "BI0153                                                   0.0                                                                                                        \n",
       "BI0215                                                   0.0                                                                                                        \n",
       "\n",
       "#OTU ID    TACGGAAGGTCCGGGCGTTATCCGGATTTATTGGGTTTAAAGGGAGCGTAGGCCGTCTTATAAGCGTGTTGTGAAATGTCGGGGCTCAACCTGGGCATTGCAGCGCGAACTGTGAGACTTGAGTGCGCAGGAAGTAGGCGGAATTCGTCG  \\\n",
       "#SampleID                                                                                                                                                           \n",
       "BI0023                                                   0.0                                                                                                        \n",
       "BI0056                                                   0.0                                                                                                        \n",
       "BI0131                                                   0.0                                                                                                        \n",
       "BI0153                                                   0.0                                                                                                        \n",
       "BI0215                                                   0.0                                                                                                        \n",
       "\n",
       "#OTU ID    TACGGAAGGTCCGGGCGTTATCCGGATTTATTGGGTTTAAAGGGAGCGTAGGCCGGAGATTAAGCGTGTTGTGAAATGTAGATGCTCAACATCTGAACTGCAGCGCGAACTGGTTTCCTTGAGTACGCACAAAGTGGGCGGAATTCGTGG  \\\n",
       "#SampleID                                                                                                                                                           \n",
       "BI0023                                                   0.0                                                                                                        \n",
       "BI0056                                                   0.0                                                                                                        \n",
       "BI0131                                                   1.0                                                                                                        \n",
       "BI0153                                                   0.0                                                                                                        \n",
       "BI0215                                                   0.0                                                                                                        \n",
       "\n",
       "#OTU ID    TACGGAGGATCCGAGCGTTATCCGGATTTATTGGGTTTAAAGGGAGCGTAGATGGATGTTTAAGTCAGTTGTGAAAGTTTGCGGCTCAACCGTAAAATTGCAGTTGATACTGGATATCTTGAGTGCAGTTGAGGCAGGCGGAATTCGTGG  \\\n",
       "#SampleID                                                                                                                                                           \n",
       "BI0023                                                2181.0                                                                                                        \n",
       "BI0056                                                3718.0                                                                                                        \n",
       "BI0131                                                 222.0                                                                                                        \n",
       "BI0153                                                 217.0                                                                                                        \n",
       "BI0215                                                 542.0                                                                                                        \n",
       "\n",
       "#OTU ID    ...  \\\n",
       "#SampleID  ...   \n",
       "BI0023     ...   \n",
       "BI0056     ...   \n",
       "BI0131     ...   \n",
       "BI0153     ...   \n",
       "BI0215     ...   \n",
       "\n",
       "#OTU ID    TACGTATGGAGCAAGCGTTGTCCGGATTTACTGGGTGTAAAGGGCGTGTAGCCGGGAGGGCAAGTCAGATGTGAAATCCACGGGCTCAACTCGTGAACTGCATTGGAAACTGTCGTACTAGAGTGTCGGAGGGGTAAGCGGAATTCCTAG  \\\n",
       "#SampleID                                                                                                                                                           \n",
       "BI0023                                                   0.0                                                                                                        \n",
       "BI0056                                                   0.0                                                                                                        \n",
       "BI0131                                                   0.0                                                                                                        \n",
       "BI0153                                                   0.0                                                                                                        \n",
       "BI0215                                                   0.0                                                                                                        \n",
       "\n",
       "#OTU ID    TACGTATGGTGCAAGCGTTATCCGGATTTACTGGGTGTAAAGGGAGCGTAGACGGATAGGCAAGTCTGGAGTGAAAACCCAGGGCTCAACCCTGGGACTGCTTTGGAAACTGCAGATCTGGAGTGCTGGAGAGGTAAGCGGAATTCCTAG  \\\n",
       "#SampleID                                                                                                                                                           \n",
       "BI0023                                                   0.0                                                                                                        \n",
       "BI0056                                                   0.0                                                                                                        \n",
       "BI0131                                                   0.0                                                                                                        \n",
       "BI0153                                                   0.0                                                                                                        \n",
       "BI0215                                                   0.0                                                                                                        \n",
       "\n",
       "#OTU ID    TACGGAGGGGGCAAGCGTTATCCGGAATTATTGGGCGTAAAGGGTACGTAGGTGGCCTTTTAAGCGTAGGGTATAAGGCAATGGCCCAACCATTGTTCGCCCTATGAACTGGAAGGCTTGAGTGCAGGAGAGGAAAGCGGAATTCCTAGT  \\\n",
       "#SampleID                                                                                                                                                           \n",
       "BI0023                                                   0.0                                                                                                        \n",
       "BI0056                                                   0.0                                                                                                        \n",
       "BI0131                                                   0.0                                                                                                        \n",
       "BI0153                                                   0.0                                                                                                        \n",
       "BI0215                                                   0.0                                                                                                        \n",
       "\n",
       "#OTU ID    TACGTAGGGGGCAAGCGTTGTCCGGAATGACTGGGCGTAAAGGGAGTGTAGGCGGCTTGGCAAGTTAGATGTGAAAGCCCGCAGCTCAACTGCGGAACTGCATCTAAAACTGTCAGGCTTGAGTGCAGGAGAGGTAAGTGGAACTCCTAG  \\\n",
       "#SampleID                                                                                                                                                           \n",
       "BI0023                                                   0.0                                                                                                        \n",
       "BI0056                                                   0.0                                                                                                        \n",
       "BI0131                                                   0.0                                                                                                        \n",
       "BI0153                                                   0.0                                                                                                        \n",
       "BI0215                                                   0.0                                                                                                        \n",
       "\n",
       "#OTU ID    TACGTATGGTGCAAGCGTTATCCGGATTTACTGGGTGTAAAGGGTGCGTAGGCGGGATGGCAAGTCAGATGTGAAATACCGGGGCTTAACCCCGGGGCTGCATTTGAAACTGTCGTTCTTGAGTGAAGTAGAGGCAGGCGGAATTCCTAG  \\\n",
       "#SampleID                                                                                                                                                           \n",
       "BI0023                                                   0.0                                                                                                        \n",
       "BI0056                                                   0.0                                                                                                        \n",
       "BI0131                                                   0.0                                                                                                        \n",
       "BI0153                                                   0.0                                                                                                        \n",
       "BI0215                                                   0.0                                                                                                        \n",
       "\n",
       "#OTU ID    TACGTAGGGGGCGAGCGTTGTCCGGAATGACTGGGCGTAAAGGGCGTGTAGGCGGCCGATTAAGTGTGGAGTGAAAGTCCACTTGTCAAGGGTGGAATTGCTTTGCAGACTGGTTGGCTTGAGTGCGGAAGAGGTAAGTGGAATTCCCAG  \\\n",
       "#SampleID                                                                                                                                                           \n",
       "BI0023                                                   0.0                                                                                                        \n",
       "BI0056                                                   0.0                                                                                                        \n",
       "BI0131                                                   0.0                                                                                                        \n",
       "BI0153                                                   0.0                                                                                                        \n",
       "BI0215                                                   0.0                                                                                                        \n",
       "\n",
       "#OTU ID    TACGTAGGGGGCAAGCGTTATCCGGAATTACTGGGTGTAAAGGGTGCGTAGGCGGTACGGCAAGTTTGATGTGAAACCCATGGGCTTAACCCATGGCATGCATCGAAAACTACTGAACTAGAGTGCAGGAGAGGAGAGTGGAATTCCTAG  \\\n",
       "#SampleID                                                                                                                                                           \n",
       "BI0023                                                   0.0                                                                                                        \n",
       "BI0056                                                   0.0                                                                                                        \n",
       "BI0131                                                   0.0                                                                                                        \n",
       "BI0153                                                   0.0                                                                                                        \n",
       "BI0215                                                   0.0                                                                                                        \n",
       "\n",
       "#OTU ID    TACGGAGGGGGCAAGCGTTATCCGGATTTACTGGGTGTAAAGGGAGCGTAGACGGACTGGCAAGTCTGATGTGAAAGGCGCGGGCTCAACCCGCGGACGGCACATGATACTGCGAGACTAGAGTAATGGAGGGGGAACCGGAATTCTCGG  \\\n",
       "#SampleID                                                                                                                                                           \n",
       "BI0023                                                   0.0                                                                                                        \n",
       "BI0056                                                   0.0                                                                                                        \n",
       "BI0131                                                   0.0                                                                                                        \n",
       "BI0153                                                   0.0                                                                                                        \n",
       "BI0215                                                   0.0                                                                                                        \n",
       "\n",
       "#OTU ID    TACGTAGGGGGCAAGCGTTATCCGGATTTACTGGGTGTAAAGGGAGCGTAGACGGAAGAGCAAGTCTGATGTGAAAGGCTGGGGCTTAACCCCAGGACTGCATTGGAAACTGTTTTTCTTGAGTGCCGGAGAGGTAAGCGGAATTCTCGG  \\\n",
       "#SampleID                                                                                                                                                           \n",
       "BI0023                                                   0.0                                                                                                        \n",
       "BI0056                                                   0.0                                                                                                        \n",
       "BI0131                                                   0.0                                                                                                        \n",
       "BI0153                                                   0.0                                                                                                        \n",
       "BI0215                                                   0.0                                                                                                        \n",
       "\n",
       "#OTU ID    TACGTAGGGAGCGAGCGTTGTCCGGATTTACTGGGTGTAAAGGGAGCGTAGACGGAATGGCAAGTCTGATGTGAGAGGCCGGGGCTCAACCCCGGGACTGCATTGGAAACTGTCAATCTAGAGTACCGGAGGGGTAAGTGGAATTCCTAG  \n",
       "#SampleID                                                                                                                                                          \n",
       "BI0023                                                   0.0                                                                                                       \n",
       "BI0056                                                   0.0                                                                                                       \n",
       "BI0131                                                   0.0                                                                                                       \n",
       "BI0153                                                   0.0                                                                                                       \n",
       "BI0215                                                   0.0                                                                                                       \n",
       "\n",
       "[5 rows x 25292 columns]"
      ]
     },
     "execution_count": 15,
     "metadata": {},
     "output_type": "execute_result"
    }
   ],
   "source": [
    "table.head()"
   ]
  },
  {
   "cell_type": "markdown",
   "metadata": {},
   "source": [
    "## random forest classification "
   ]
  },
  {
   "cell_type": "markdown",
   "metadata": {},
   "source": [
    "### 25"
   ]
  },
  {
   "cell_type": "code",
   "execution_count": 16,
   "metadata": {},
   "outputs": [
    {
     "data": {
      "text/plain": [
       "(113, 7)"
      ]
     },
     "execution_count": 16,
     "metadata": {},
     "output_type": "execute_result"
    }
   ],
   "source": [
    "# filter away samples with NaN values\n",
    "Y = mf[mf.VD3_cat != 'NaN']\n",
    "Y.shape"
   ]
  },
  {
   "cell_type": "code",
   "execution_count": 17,
   "metadata": {},
   "outputs": [
    {
     "data": {
      "text/plain": [
       "(113, 25292)"
      ]
     },
     "execution_count": 17,
     "metadata": {},
     "output_type": "execute_result"
    }
   ],
   "source": [
    "X = table.loc[Y.index]\n",
    "X.shape"
   ]
  },
  {
   "cell_type": "code",
   "execution_count": 18,
   "metadata": {},
   "outputs": [
    {
     "name": "stderr",
     "output_type": "stream",
     "text": [
      "/Users/ssun/miniconda3/envs/python3-new/lib/python3.6/site-packages/ipykernel_launcher.py:4: FutureWarning: Method .as_matrix will be removed in a future version. Use .values instead.\n",
      "  after removing the cwd from sys.path.\n"
     ]
    }
   ],
   "source": [
    "# convert to numpy array\n",
    "# X - rarefied OTU table; Y - vitamin D categories\n",
    "y = pd.factorize(Y['VD3_cat'])[0] # to get dtype 'int' instead of 'O'\n",
    "X = X.as_matrix()"
   ]
  },
  {
   "cell_type": "code",
   "execution_count": 25,
   "metadata": {},
   "outputs": [],
   "source": [
    "np.random.seed(31)\n",
    "m = np.logspace(2, 8, num=9, base=2, dtype=int)\n",
    "p_grid = {\"max_features\": m,\n",
    "          \"min_samples_split\": [2, 3, 7],\n",
    "          \"min_samples_leaf\": [1, 3, 7],\n",
    "          \"bootstrap\": [True, False]}\n",
    "\n",
    "rf = RandomForestClassifier(n_estimators=1000)"
   ]
  },
  {
   "cell_type": "code",
   "execution_count": 26,
   "metadata": {},
   "outputs": [],
   "source": [
    "nested_CV_search = NestedCV(model=rf, params_grid=p_grid , outer_kfolds=5, inner_kfolds=5, \n",
    "                            cv_options={'metric':roc_auc_score, \n",
    "                                        'metric_score_indicator_lower':False, # higher auc score is better\n",
    "                                        'randomized_search_iter':30, \n",
    "                                        'predict_proba':True})\n",
    "nested_CV_search.fit(X=X,y=y)"
   ]
  },
  {
   "cell_type": "code",
   "execution_count": 23,
   "metadata": {},
   "outputs": [
    {
     "data": {
      "text/plain": [
       "0.515120435120435"
      ]
     },
     "execution_count": 23,
     "metadata": {},
     "output_type": "execute_result"
    }
   ],
   "source": [
    "np.mean(nested_CV_search.outer_scores)"
   ]
  },
  {
   "cell_type": "code",
   "execution_count": 24,
   "metadata": {},
   "outputs": [
    {
     "data": {
      "text/plain": [
       "0.5076923076923077"
      ]
     },
     "execution_count": 24,
     "metadata": {},
     "output_type": "execute_result"
    }
   ],
   "source": [
    "np.median(nested_CV_search.outer_scores)"
   ]
  },
  {
   "cell_type": "code",
   "execution_count": 22,
   "metadata": {},
   "outputs": [
    {
     "data": {
      "text/plain": [
       "[{'bootstrap': True,\n",
       "  'max_features': 6,\n",
       "  'min_samples_leaf': 3,\n",
       "  'min_samples_split': 7},\n",
       " {'bootstrap': False,\n",
       "  'max_features': 19,\n",
       "  'min_samples_leaf': 7,\n",
       "  'min_samples_split': 7},\n",
       " {'bootstrap': True,\n",
       "  'max_features': 19,\n",
       "  'min_samples_leaf': 3,\n",
       "  'min_samples_split': 2},\n",
       " {'bootstrap': True,\n",
       "  'max_features': 53,\n",
       "  'min_samples_leaf': 3,\n",
       "  'min_samples_split': 2},\n",
       " {'bootstrap': True,\n",
       "  'max_features': 4,\n",
       "  'min_samples_leaf': 7,\n",
       "  'min_samples_split': 7}]"
      ]
     },
     "execution_count": 22,
     "metadata": {},
     "output_type": "execute_result"
    }
   ],
   "source": [
    "nested_CV_search.best_inner_params_list"
   ]
  },
  {
   "cell_type": "code",
   "execution_count": null,
   "metadata": {},
   "outputs": [],
   "source": []
  }
 ],
 "metadata": {
  "kernelspec": {
   "display_name": "Python 3",
   "language": "python",
   "name": "python3"
  },
  "language_info": {
   "codemirror_mode": {
    "name": "ipython",
    "version": 3
   },
   "file_extension": ".py",
   "mimetype": "text/x-python",
   "name": "python",
   "nbconvert_exporter": "python",
   "pygments_lexer": "ipython3",
   "version": "3.7.6"
  }
 },
 "nbformat": 4,
 "nbformat_minor": 2
}
