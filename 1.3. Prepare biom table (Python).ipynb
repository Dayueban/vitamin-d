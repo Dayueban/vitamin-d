{
 "cells": [
  {
   "cell_type": "code",
   "execution_count": 2,
   "metadata": {},
   "outputs": [
    {
     "name": "stderr",
     "output_type": "stream",
     "text": [
      "/Users/ssun/miniconda3/envs/MrOS/lib/python3.5/site-packages/h5py/__init__.py:36: FutureWarning: Conversion of the second argument of issubdtype from `float` to `np.floating` is deprecated. In future, it will be treated as `np.float64 == np.dtype(float).type`.\n",
      "  from ._conv import register_converters as _register_converters\n",
      "Reading settings file '/Users/ssun/.ggmaprc'Reading settings file '/Users/ssun/.ggmaprc'Reading settings file '/Users/ssun/.ggmaprc'"
     ]
    }
   ],
   "source": [
    "from ggmap.snippets import *\n",
    "from ggmap.analyses import *\n",
    "from ggmap.sepp import *"
   ]
  },
  {
   "cell_type": "code",
   "execution_count": 3,
   "metadata": {},
   "outputs": [],
   "source": [
    "microb_unrare = biom2pandas('../qiita_updated/reference-hit.biom')"
   ]
  },
  {
   "cell_type": "code",
   "execution_count": 4,
   "metadata": {},
   "outputs": [
    {
     "data": {
      "text/html": [
       "<div>\n",
       "<style scoped>\n",
       "    .dataframe tbody tr th:only-of-type {\n",
       "        vertical-align: middle;\n",
       "    }\n",
       "\n",
       "    .dataframe tbody tr th {\n",
       "        vertical-align: top;\n",
       "    }\n",
       "\n",
       "    .dataframe thead th {\n",
       "        text-align: right;\n",
       "    }\n",
       "</style>\n",
       "<table border=\"1\" class=\"dataframe\">\n",
       "  <thead>\n",
       "    <tr style=\"text-align: right;\">\n",
       "      <th></th>\n",
       "      <th>11274.MN1696</th>\n",
       "      <th>11274.PI4923</th>\n",
       "      <th>11274.PA3754</th>\n",
       "      <th>11274.PI4717</th>\n",
       "      <th>11274.PA3960</th>\n",
       "      <th>11274.MN1521</th>\n",
       "      <th>11274.PA3828</th>\n",
       "      <th>11274.PO6848</th>\n",
       "      <th>11274.PA3199</th>\n",
       "      <th>11274.PO7473</th>\n",
       "      <th>...</th>\n",
       "      <th>11274.PO7027</th>\n",
       "      <th>11274.BI0686</th>\n",
       "      <th>11274.MN2037</th>\n",
       "      <th>11274.PO7199</th>\n",
       "      <th>11274.MN2405</th>\n",
       "      <th>11274.MN2498</th>\n",
       "      <th>11274.BI0397</th>\n",
       "      <th>11274.SD8175</th>\n",
       "      <th>11274.PO7488</th>\n",
       "      <th>11274.PO6966</th>\n",
       "    </tr>\n",
       "  </thead>\n",
       "  <tbody>\n",
       "    <tr>\n",
       "      <th>TACGGAGGATCCGAGCGTTATCCGGATTTATTGGGTTTAAAGGGAGCGTAGATGGATGTTTAAGTCAGTTGTGAAAGTTTGCGGCTCAACCGTAAAATTGCAGTTGATACTGGATGTCTTGAGTGCAGTTGAGGCAGGCGGAATTCGTGGTGTAGCGGTGAAATGCTTAGATATCACGAAGAACTCCGATTGCGAAGGCAGCCTGCTAAGCTGCAACTGACATTGAGGCTCGAAAGTGTGGGTATCAAAC</th>\n",
       "      <td>5705</td>\n",
       "      <td>0</td>\n",
       "      <td>87</td>\n",
       "      <td>99</td>\n",
       "      <td>0</td>\n",
       "      <td>0</td>\n",
       "      <td>95</td>\n",
       "      <td>298</td>\n",
       "      <td>0</td>\n",
       "      <td>540</td>\n",
       "      <td>...</td>\n",
       "      <td>0</td>\n",
       "      <td>0</td>\n",
       "      <td>0</td>\n",
       "      <td>758</td>\n",
       "      <td>0</td>\n",
       "      <td>0</td>\n",
       "      <td>0</td>\n",
       "      <td>0</td>\n",
       "      <td>1393</td>\n",
       "      <td>1188</td>\n",
       "    </tr>\n",
       "    <tr>\n",
       "      <th>TACGGAGGGTGCAAGCGTTAATCGGAATTACTGGGCGTAAAGCGCACGCAGGCGGTCTGTCAAGTCGGATGTGAAATCCCCGGGCTCAACCTGGGAACTGCATTCGAAACTGGCAGGCTAGAGTCTTGTAGAGGGGGGTAGAATTCCAGGTGTAGCGGTGAAATGCGTAGAGATCTGGAGGAATACCGGTGGCGAAGGCGGCCCCCTGGACAAAGACTGACGCTCAGGTGCGAAAGCGTGGGGAGCAAAC</th>\n",
       "      <td>1415</td>\n",
       "      <td>733</td>\n",
       "      <td>0</td>\n",
       "      <td>17</td>\n",
       "      <td>1</td>\n",
       "      <td>4</td>\n",
       "      <td>3</td>\n",
       "      <td>0</td>\n",
       "      <td>0</td>\n",
       "      <td>0</td>\n",
       "      <td>...</td>\n",
       "      <td>3</td>\n",
       "      <td>2764</td>\n",
       "      <td>0</td>\n",
       "      <td>621</td>\n",
       "      <td>0</td>\n",
       "      <td>0</td>\n",
       "      <td>175</td>\n",
       "      <td>0</td>\n",
       "      <td>0</td>\n",
       "      <td>0</td>\n",
       "    </tr>\n",
       "    <tr>\n",
       "      <th>TACGGAGGATCCGAGCGTTATCCGGATTTATTGGGTTTAAAGGGAGCGTAGGTGGATTGTTAAGTCAGTTGTGAAAGTTTGCGGCTCAACCGTAAAATTGCAGTTGAAACTGGCAGTCTTGAGTACAGTAGAGGTGGGCGGAATTCGTGGTGTAGCGGTGAAATGCTTAGATATCACGAAGAACTCCGATTGCGAAGGCAGCTCACTAGACTGCAACTGACACTGATGCTCGAAAGTGTGGGTATCAAAC</th>\n",
       "      <td>1348</td>\n",
       "      <td>178</td>\n",
       "      <td>0</td>\n",
       "      <td>34</td>\n",
       "      <td>121</td>\n",
       "      <td>0</td>\n",
       "      <td>2</td>\n",
       "      <td>0</td>\n",
       "      <td>1093</td>\n",
       "      <td>95</td>\n",
       "      <td>...</td>\n",
       "      <td>84</td>\n",
       "      <td>0</td>\n",
       "      <td>0</td>\n",
       "      <td>16</td>\n",
       "      <td>310</td>\n",
       "      <td>669</td>\n",
       "      <td>0</td>\n",
       "      <td>238</td>\n",
       "      <td>0</td>\n",
       "      <td>28</td>\n",
       "    </tr>\n",
       "  </tbody>\n",
       "</table>\n",
       "<p>3 rows × 599 columns</p>\n",
       "</div>"
      ],
      "text/plain": [
       "                                                    11274.MN1696  \\\n",
       "TACGGAGGATCCGAGCGTTATCCGGATTTATTGGGTTTAAAGGGAGC...          5705   \n",
       "TACGGAGGGTGCAAGCGTTAATCGGAATTACTGGGCGTAAAGCGCAC...          1415   \n",
       "TACGGAGGATCCGAGCGTTATCCGGATTTATTGGGTTTAAAGGGAGC...          1348   \n",
       "\n",
       "                                                    11274.PI4923  \\\n",
       "TACGGAGGATCCGAGCGTTATCCGGATTTATTGGGTTTAAAGGGAGC...             0   \n",
       "TACGGAGGGTGCAAGCGTTAATCGGAATTACTGGGCGTAAAGCGCAC...           733   \n",
       "TACGGAGGATCCGAGCGTTATCCGGATTTATTGGGTTTAAAGGGAGC...           178   \n",
       "\n",
       "                                                    11274.PA3754  \\\n",
       "TACGGAGGATCCGAGCGTTATCCGGATTTATTGGGTTTAAAGGGAGC...            87   \n",
       "TACGGAGGGTGCAAGCGTTAATCGGAATTACTGGGCGTAAAGCGCAC...             0   \n",
       "TACGGAGGATCCGAGCGTTATCCGGATTTATTGGGTTTAAAGGGAGC...             0   \n",
       "\n",
       "                                                    11274.PI4717  \\\n",
       "TACGGAGGATCCGAGCGTTATCCGGATTTATTGGGTTTAAAGGGAGC...            99   \n",
       "TACGGAGGGTGCAAGCGTTAATCGGAATTACTGGGCGTAAAGCGCAC...            17   \n",
       "TACGGAGGATCCGAGCGTTATCCGGATTTATTGGGTTTAAAGGGAGC...            34   \n",
       "\n",
       "                                                    11274.PA3960  \\\n",
       "TACGGAGGATCCGAGCGTTATCCGGATTTATTGGGTTTAAAGGGAGC...             0   \n",
       "TACGGAGGGTGCAAGCGTTAATCGGAATTACTGGGCGTAAAGCGCAC...             1   \n",
       "TACGGAGGATCCGAGCGTTATCCGGATTTATTGGGTTTAAAGGGAGC...           121   \n",
       "\n",
       "                                                    11274.MN1521  \\\n",
       "TACGGAGGATCCGAGCGTTATCCGGATTTATTGGGTTTAAAGGGAGC...             0   \n",
       "TACGGAGGGTGCAAGCGTTAATCGGAATTACTGGGCGTAAAGCGCAC...             4   \n",
       "TACGGAGGATCCGAGCGTTATCCGGATTTATTGGGTTTAAAGGGAGC...             0   \n",
       "\n",
       "                                                    11274.PA3828  \\\n",
       "TACGGAGGATCCGAGCGTTATCCGGATTTATTGGGTTTAAAGGGAGC...            95   \n",
       "TACGGAGGGTGCAAGCGTTAATCGGAATTACTGGGCGTAAAGCGCAC...             3   \n",
       "TACGGAGGATCCGAGCGTTATCCGGATTTATTGGGTTTAAAGGGAGC...             2   \n",
       "\n",
       "                                                    11274.PO6848  \\\n",
       "TACGGAGGATCCGAGCGTTATCCGGATTTATTGGGTTTAAAGGGAGC...           298   \n",
       "TACGGAGGGTGCAAGCGTTAATCGGAATTACTGGGCGTAAAGCGCAC...             0   \n",
       "TACGGAGGATCCGAGCGTTATCCGGATTTATTGGGTTTAAAGGGAGC...             0   \n",
       "\n",
       "                                                    11274.PA3199  \\\n",
       "TACGGAGGATCCGAGCGTTATCCGGATTTATTGGGTTTAAAGGGAGC...             0   \n",
       "TACGGAGGGTGCAAGCGTTAATCGGAATTACTGGGCGTAAAGCGCAC...             0   \n",
       "TACGGAGGATCCGAGCGTTATCCGGATTTATTGGGTTTAAAGGGAGC...          1093   \n",
       "\n",
       "                                                    11274.PO7473  \\\n",
       "TACGGAGGATCCGAGCGTTATCCGGATTTATTGGGTTTAAAGGGAGC...           540   \n",
       "TACGGAGGGTGCAAGCGTTAATCGGAATTACTGGGCGTAAAGCGCAC...             0   \n",
       "TACGGAGGATCCGAGCGTTATCCGGATTTATTGGGTTTAAAGGGAGC...            95   \n",
       "\n",
       "                                                        ...       \\\n",
       "TACGGAGGATCCGAGCGTTATCCGGATTTATTGGGTTTAAAGGGAGC...      ...        \n",
       "TACGGAGGGTGCAAGCGTTAATCGGAATTACTGGGCGTAAAGCGCAC...      ...        \n",
       "TACGGAGGATCCGAGCGTTATCCGGATTTATTGGGTTTAAAGGGAGC...      ...        \n",
       "\n",
       "                                                    11274.PO7027  \\\n",
       "TACGGAGGATCCGAGCGTTATCCGGATTTATTGGGTTTAAAGGGAGC...             0   \n",
       "TACGGAGGGTGCAAGCGTTAATCGGAATTACTGGGCGTAAAGCGCAC...             3   \n",
       "TACGGAGGATCCGAGCGTTATCCGGATTTATTGGGTTTAAAGGGAGC...            84   \n",
       "\n",
       "                                                    11274.BI0686  \\\n",
       "TACGGAGGATCCGAGCGTTATCCGGATTTATTGGGTTTAAAGGGAGC...             0   \n",
       "TACGGAGGGTGCAAGCGTTAATCGGAATTACTGGGCGTAAAGCGCAC...          2764   \n",
       "TACGGAGGATCCGAGCGTTATCCGGATTTATTGGGTTTAAAGGGAGC...             0   \n",
       "\n",
       "                                                    11274.MN2037  \\\n",
       "TACGGAGGATCCGAGCGTTATCCGGATTTATTGGGTTTAAAGGGAGC...             0   \n",
       "TACGGAGGGTGCAAGCGTTAATCGGAATTACTGGGCGTAAAGCGCAC...             0   \n",
       "TACGGAGGATCCGAGCGTTATCCGGATTTATTGGGTTTAAAGGGAGC...             0   \n",
       "\n",
       "                                                    11274.PO7199  \\\n",
       "TACGGAGGATCCGAGCGTTATCCGGATTTATTGGGTTTAAAGGGAGC...           758   \n",
       "TACGGAGGGTGCAAGCGTTAATCGGAATTACTGGGCGTAAAGCGCAC...           621   \n",
       "TACGGAGGATCCGAGCGTTATCCGGATTTATTGGGTTTAAAGGGAGC...            16   \n",
       "\n",
       "                                                    11274.MN2405  \\\n",
       "TACGGAGGATCCGAGCGTTATCCGGATTTATTGGGTTTAAAGGGAGC...             0   \n",
       "TACGGAGGGTGCAAGCGTTAATCGGAATTACTGGGCGTAAAGCGCAC...             0   \n",
       "TACGGAGGATCCGAGCGTTATCCGGATTTATTGGGTTTAAAGGGAGC...           310   \n",
       "\n",
       "                                                    11274.MN2498  \\\n",
       "TACGGAGGATCCGAGCGTTATCCGGATTTATTGGGTTTAAAGGGAGC...             0   \n",
       "TACGGAGGGTGCAAGCGTTAATCGGAATTACTGGGCGTAAAGCGCAC...             0   \n",
       "TACGGAGGATCCGAGCGTTATCCGGATTTATTGGGTTTAAAGGGAGC...           669   \n",
       "\n",
       "                                                    11274.BI0397  \\\n",
       "TACGGAGGATCCGAGCGTTATCCGGATTTATTGGGTTTAAAGGGAGC...             0   \n",
       "TACGGAGGGTGCAAGCGTTAATCGGAATTACTGGGCGTAAAGCGCAC...           175   \n",
       "TACGGAGGATCCGAGCGTTATCCGGATTTATTGGGTTTAAAGGGAGC...             0   \n",
       "\n",
       "                                                    11274.SD8175  \\\n",
       "TACGGAGGATCCGAGCGTTATCCGGATTTATTGGGTTTAAAGGGAGC...             0   \n",
       "TACGGAGGGTGCAAGCGTTAATCGGAATTACTGGGCGTAAAGCGCAC...             0   \n",
       "TACGGAGGATCCGAGCGTTATCCGGATTTATTGGGTTTAAAGGGAGC...           238   \n",
       "\n",
       "                                                    11274.PO7488  11274.PO6966  \n",
       "TACGGAGGATCCGAGCGTTATCCGGATTTATTGGGTTTAAAGGGAGC...          1393          1188  \n",
       "TACGGAGGGTGCAAGCGTTAATCGGAATTACTGGGCGTAAAGCGCAC...             0             0  \n",
       "TACGGAGGATCCGAGCGTTATCCGGATTTATTGGGTTTAAAGGGAGC...             0            28  \n",
       "\n",
       "[3 rows x 599 columns]"
      ]
     },
     "execution_count": 4,
     "metadata": {},
     "output_type": "execute_result"
    }
   ],
   "source": [
    "microb_unrare.head(3)"
   ]
  },
  {
   "cell_type": "code",
   "execution_count": 5,
   "metadata": {},
   "outputs": [],
   "source": [
    "# correct subject ID\n",
    "microb_unrare.columns = microb_unrare.columns.str[6:13].values"
   ]
  },
  {
   "cell_type": "code",
   "execution_count": 5,
   "metadata": {},
   "outputs": [
    {
     "data": {
      "text/html": [
       "<div>\n",
       "<style scoped>\n",
       "    .dataframe tbody tr th:only-of-type {\n",
       "        vertical-align: middle;\n",
       "    }\n",
       "\n",
       "    .dataframe tbody tr th {\n",
       "        vertical-align: top;\n",
       "    }\n",
       "\n",
       "    .dataframe thead th {\n",
       "        text-align: right;\n",
       "    }\n",
       "</style>\n",
       "<table border=\"1\" class=\"dataframe\">\n",
       "  <thead>\n",
       "    <tr style=\"text-align: right;\">\n",
       "      <th></th>\n",
       "      <th>MN1696</th>\n",
       "      <th>PI4923</th>\n",
       "      <th>PA3754</th>\n",
       "      <th>PI4717</th>\n",
       "      <th>PA3960</th>\n",
       "      <th>MN1521</th>\n",
       "      <th>PA3828</th>\n",
       "      <th>PO6848</th>\n",
       "      <th>PA3199</th>\n",
       "      <th>PO7473</th>\n",
       "      <th>...</th>\n",
       "      <th>PO7027</th>\n",
       "      <th>BI0686</th>\n",
       "      <th>MN2037</th>\n",
       "      <th>PO7199</th>\n",
       "      <th>MN2405</th>\n",
       "      <th>MN2498</th>\n",
       "      <th>BI0397</th>\n",
       "      <th>SD8175</th>\n",
       "      <th>PO7488</th>\n",
       "      <th>PO6966</th>\n",
       "    </tr>\n",
       "  </thead>\n",
       "  <tbody>\n",
       "    <tr>\n",
       "      <th>TACGGAGGATCCGAGCGTTATCCGGATTTATTGGGTTTAAAGGGAGCGTAGATGGATGTTTAAGTCAGTTGTGAAAGTTTGCGGCTCAACCGTAAAATTGCAGTTGATACTGGATGTCTTGAGTGCAGTTGAGGCAGGCGGAATTCGTGGTGTAGCGGTGAAATGCTTAGATATCACGAAGAACTCCGATTGCGAAGGCAGCCTGCTAAGCTGCAACTGACATTGAGGCTCGAAAGTGTGGGTATCAAAC</th>\n",
       "      <td>5705</td>\n",
       "      <td>0</td>\n",
       "      <td>87</td>\n",
       "      <td>99</td>\n",
       "      <td>0</td>\n",
       "      <td>0</td>\n",
       "      <td>95</td>\n",
       "      <td>298</td>\n",
       "      <td>0</td>\n",
       "      <td>540</td>\n",
       "      <td>...</td>\n",
       "      <td>0</td>\n",
       "      <td>0</td>\n",
       "      <td>0</td>\n",
       "      <td>758</td>\n",
       "      <td>0</td>\n",
       "      <td>0</td>\n",
       "      <td>0</td>\n",
       "      <td>0</td>\n",
       "      <td>1393</td>\n",
       "      <td>1188</td>\n",
       "    </tr>\n",
       "    <tr>\n",
       "      <th>TACGGAGGGTGCAAGCGTTAATCGGAATTACTGGGCGTAAAGCGCACGCAGGCGGTCTGTCAAGTCGGATGTGAAATCCCCGGGCTCAACCTGGGAACTGCATTCGAAACTGGCAGGCTAGAGTCTTGTAGAGGGGGGTAGAATTCCAGGTGTAGCGGTGAAATGCGTAGAGATCTGGAGGAATACCGGTGGCGAAGGCGGCCCCCTGGACAAAGACTGACGCTCAGGTGCGAAAGCGTGGGGAGCAAAC</th>\n",
       "      <td>1415</td>\n",
       "      <td>733</td>\n",
       "      <td>0</td>\n",
       "      <td>17</td>\n",
       "      <td>1</td>\n",
       "      <td>4</td>\n",
       "      <td>3</td>\n",
       "      <td>0</td>\n",
       "      <td>0</td>\n",
       "      <td>0</td>\n",
       "      <td>...</td>\n",
       "      <td>3</td>\n",
       "      <td>2764</td>\n",
       "      <td>0</td>\n",
       "      <td>621</td>\n",
       "      <td>0</td>\n",
       "      <td>0</td>\n",
       "      <td>175</td>\n",
       "      <td>0</td>\n",
       "      <td>0</td>\n",
       "      <td>0</td>\n",
       "    </tr>\n",
       "    <tr>\n",
       "      <th>TACGGAGGATCCGAGCGTTATCCGGATTTATTGGGTTTAAAGGGAGCGTAGGTGGATTGTTAAGTCAGTTGTGAAAGTTTGCGGCTCAACCGTAAAATTGCAGTTGAAACTGGCAGTCTTGAGTACAGTAGAGGTGGGCGGAATTCGTGGTGTAGCGGTGAAATGCTTAGATATCACGAAGAACTCCGATTGCGAAGGCAGCTCACTAGACTGCAACTGACACTGATGCTCGAAAGTGTGGGTATCAAAC</th>\n",
       "      <td>1348</td>\n",
       "      <td>178</td>\n",
       "      <td>0</td>\n",
       "      <td>34</td>\n",
       "      <td>121</td>\n",
       "      <td>0</td>\n",
       "      <td>2</td>\n",
       "      <td>0</td>\n",
       "      <td>1093</td>\n",
       "      <td>95</td>\n",
       "      <td>...</td>\n",
       "      <td>84</td>\n",
       "      <td>0</td>\n",
       "      <td>0</td>\n",
       "      <td>16</td>\n",
       "      <td>310</td>\n",
       "      <td>669</td>\n",
       "      <td>0</td>\n",
       "      <td>238</td>\n",
       "      <td>0</td>\n",
       "      <td>28</td>\n",
       "    </tr>\n",
       "  </tbody>\n",
       "</table>\n",
       "<p>3 rows × 599 columns</p>\n",
       "</div>"
      ],
      "text/plain": [
       "                                                    MN1696  PI4923  PA3754  \\\n",
       "TACGGAGGATCCGAGCGTTATCCGGATTTATTGGGTTTAAAGGGAGC...    5705       0      87   \n",
       "TACGGAGGGTGCAAGCGTTAATCGGAATTACTGGGCGTAAAGCGCAC...    1415     733       0   \n",
       "TACGGAGGATCCGAGCGTTATCCGGATTTATTGGGTTTAAAGGGAGC...    1348     178       0   \n",
       "\n",
       "                                                    PI4717  PA3960  MN1521  \\\n",
       "TACGGAGGATCCGAGCGTTATCCGGATTTATTGGGTTTAAAGGGAGC...      99       0       0   \n",
       "TACGGAGGGTGCAAGCGTTAATCGGAATTACTGGGCGTAAAGCGCAC...      17       1       4   \n",
       "TACGGAGGATCCGAGCGTTATCCGGATTTATTGGGTTTAAAGGGAGC...      34     121       0   \n",
       "\n",
       "                                                    PA3828  PO6848  PA3199  \\\n",
       "TACGGAGGATCCGAGCGTTATCCGGATTTATTGGGTTTAAAGGGAGC...      95     298       0   \n",
       "TACGGAGGGTGCAAGCGTTAATCGGAATTACTGGGCGTAAAGCGCAC...       3       0       0   \n",
       "TACGGAGGATCCGAGCGTTATCCGGATTTATTGGGTTTAAAGGGAGC...       2       0    1093   \n",
       "\n",
       "                                                    PO7473   ...    PO7027  \\\n",
       "TACGGAGGATCCGAGCGTTATCCGGATTTATTGGGTTTAAAGGGAGC...     540   ...         0   \n",
       "TACGGAGGGTGCAAGCGTTAATCGGAATTACTGGGCGTAAAGCGCAC...       0   ...         3   \n",
       "TACGGAGGATCCGAGCGTTATCCGGATTTATTGGGTTTAAAGGGAGC...      95   ...        84   \n",
       "\n",
       "                                                    BI0686  MN2037  PO7199  \\\n",
       "TACGGAGGATCCGAGCGTTATCCGGATTTATTGGGTTTAAAGGGAGC...       0       0     758   \n",
       "TACGGAGGGTGCAAGCGTTAATCGGAATTACTGGGCGTAAAGCGCAC...    2764       0     621   \n",
       "TACGGAGGATCCGAGCGTTATCCGGATTTATTGGGTTTAAAGGGAGC...       0       0      16   \n",
       "\n",
       "                                                    MN2405  MN2498  BI0397  \\\n",
       "TACGGAGGATCCGAGCGTTATCCGGATTTATTGGGTTTAAAGGGAGC...       0       0       0   \n",
       "TACGGAGGGTGCAAGCGTTAATCGGAATTACTGGGCGTAAAGCGCAC...       0       0     175   \n",
       "TACGGAGGATCCGAGCGTTATCCGGATTTATTGGGTTTAAAGGGAGC...     310     669       0   \n",
       "\n",
       "                                                    SD8175  PO7488  PO6966  \n",
       "TACGGAGGATCCGAGCGTTATCCGGATTTATTGGGTTTAAAGGGAGC...       0    1393    1188  \n",
       "TACGGAGGGTGCAAGCGTTAATCGGAATTACTGGGCGTAAAGCGCAC...       0       0       0  \n",
       "TACGGAGGATCCGAGCGTTATCCGGATTTATTGGGTTTAAAGGGAGC...     238       0      28  \n",
       "\n",
       "[3 rows x 599 columns]"
      ]
     },
     "execution_count": 5,
     "metadata": {},
     "output_type": "execute_result"
    }
   ],
   "source": [
    "microb_unrare.head(3)"
   ]
  },
  {
   "cell_type": "code",
   "execution_count": 6,
   "metadata": {},
   "outputs": [],
   "source": [
    "pandas2biom('../data/mros_deblur_otus_unrare.biom', microb_unrare)"
   ]
  },
  {
   "cell_type": "markdown",
   "metadata": {},
   "source": [
    "### simple examination of the data"
   ]
  },
  {
   "cell_type": "code",
   "execution_count": 6,
   "metadata": {},
   "outputs": [
    {
     "data": {
      "text/plain": [
       "count      599.000000\n",
       "mean     17069.273790\n",
       "std       3617.082894\n",
       "min       5807.000000\n",
       "25%      15024.500000\n",
       "50%      16955.000000\n",
       "75%      18774.000000\n",
       "max      41181.000000\n",
       "dtype: float64"
      ]
     },
     "execution_count": 6,
     "metadata": {},
     "output_type": "execute_result"
    }
   ],
   "source": [
    "microb_unrare.sum(axis=0).describe()"
   ]
  },
  {
   "cell_type": "code",
   "execution_count": 8,
   "metadata": {},
   "outputs": [
    {
     "data": {
      "text/plain": [
       "0"
      ]
     },
     "execution_count": 8,
     "metadata": {},
     "output_type": "execute_result"
    }
   ],
   "source": [
    "np.min(microb_unrare.values)"
   ]
  },
  {
   "cell_type": "code",
   "execution_count": 9,
   "metadata": {},
   "outputs": [
    {
     "data": {
      "text/plain": [
       "18336"
      ]
     },
     "execution_count": 9,
     "metadata": {},
     "output_type": "execute_result"
    }
   ],
   "source": [
    "np.max(microb_unrare.values)"
   ]
  },
  {
   "cell_type": "code",
   "execution_count": 10,
   "metadata": {},
   "outputs": [
    {
     "data": {
      "text/plain": [
       "0.24341210395221982"
      ]
     },
     "execution_count": 10,
     "metadata": {},
     "output_type": "execute_result"
    }
   ],
   "source": [
    "np.mean(microb_unrare.values)"
   ]
  },
  {
   "cell_type": "code",
   "execution_count": 11,
   "metadata": {},
   "outputs": [
    {
     "data": {
      "text/plain": [
       "20.000795555620616"
      ]
     },
     "execution_count": 11,
     "metadata": {},
     "output_type": "execute_result"
    }
   ],
   "source": [
    "np.std(microb_unrare.values)"
   ]
  },
  {
   "cell_type": "code",
   "execution_count": 12,
   "metadata": {},
   "outputs": [
    {
     "data": {
      "text/plain": [
       "0.4419367990024967"
      ]
     },
     "execution_count": 12,
     "metadata": {},
     "output_type": "execute_result"
    }
   ],
   "source": [
    "(np.count_nonzero(microb_unrare.values)/(microb_unrare.shape[0]*microb_unrare.shape[1]))*100"
   ]
  }
 ],
 "metadata": {
  "kernelspec": {
   "display_name": "Python 3",
   "language": "python",
   "name": "python3"
  },
  "language_info": {
   "codemirror_mode": {
    "name": "ipython",
    "version": 3
   },
   "file_extension": ".py",
   "mimetype": "text/x-python",
   "name": "python",
   "nbconvert_exporter": "python",
   "pygments_lexer": "ipython3",
   "version": "3.5.4"
  }
 },
 "nbformat": 4,
 "nbformat_minor": 2
}
